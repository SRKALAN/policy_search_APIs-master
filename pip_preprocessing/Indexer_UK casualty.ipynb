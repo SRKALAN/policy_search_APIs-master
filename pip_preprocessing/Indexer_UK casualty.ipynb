{
 "cells": [
  {
   "cell_type": "code",
   "execution_count": 1,
   "metadata": {},
   "outputs": [],
   "source": [
    "%load_ext autoreload\n",
    "%autoreload 15\n"
   ]
  },
  {
   "cell_type": "code",
   "execution_count": 2,
   "metadata": {},
   "outputs": [],
   "source": [
    "# !pip3 install azure-cosmos"
   ]
  },
  {
   "cell_type": "code",
   "execution_count": 3,
   "metadata": {},
   "outputs": [],
   "source": [
    "# !pip3 install comtypes"
   ]
  },
  {
   "cell_type": "code",
   "execution_count": 4,
   "metadata": {},
   "outputs": [],
   "source": [
    "# !pip3 install pdfminer.six"
   ]
  },
  {
   "cell_type": "code",
   "execution_count": null,
   "metadata": {},
   "outputs": [],
   "source": []
  },
  {
   "cell_type": "code",
   "execution_count": 2,
   "metadata": {},
   "outputs": [
    {
     "name": "stderr",
     "output_type": "stream",
     "text": [
      "/opt/app/RB/.local/lib/python3.6/site-packages/requests/__init__.py:91: RequestsDependencyWarning: urllib3 (1.26.2) or chardet (4.0.0) doesn't match a supported version!\n",
      "  RequestsDependencyWarning)\n"
     ]
    }
   ],
   "source": [
    "import json\n",
    "import re\n",
    "from bs4 import BeautifulSoup\n",
    "import os\n",
    "import requests\n",
    "from pprint import pprint\n",
    "import uuid\n",
    "from statistics import mode\n",
    "from nltk.corpus import stopwords\n",
    "from pdf2txt import convert_pdf\n",
    "# !pip install tika\n",
    "import tika\n",
    "from definitions_v3 import *"
   ]
  },
  {
   "cell_type": "code",
   "execution_count": 3,
   "metadata": {},
   "outputs": [],
   "source": [
    "pointsRE_heading=re.compile('(?:\\s*\\([a-z]{1,3}\\)|[A-Z]{1}\\s+[a-zA-Z0-9_\\s]{5})')\n",
    "stop_words = list(set(stopwords.words('english')))\n",
    "y_cordinate_Re=re.compile('top:(\\d{1,5})px')\n",
    "height_re=re.compile('height:(\\d{1,5})px')"
   ]
  },
  {
   "cell_type": "code",
   "execution_count": 4,
   "metadata": {},
   "outputs": [],
   "source": [
    "def check_underline(positions,y_cord_text):\n",
    "    positions=[i for i in positions if y_cord_text<=i< y_cord_text+16]\n",
    "    if positions:\n",
    "        return True\n",
    "    else:\n",
    "        return False\n",
    "    "
   ]
  },
  {
   "cell_type": "code",
   "execution_count": 5,
   "metadata": {},
   "outputs": [],
   "source": [
    "def get_pages_no(soup):\n",
    "    total_items = int(soup.find('span', id='NewReleases_total').text)\n",
    "    items_per_page = int(soup.find('span', id='NewReleases_end').text)\n",
    "    return round(total_items/items_per_page)"
   ]
  },
  {
   "cell_type": "code",
   "execution_count": 6,
   "metadata": {},
   "outputs": [],
   "source": [
    "from pdfminer.high_level import extract_pages\n",
    "\n",
    "# print(len(list(extract_pages('test/Chubb16-250-1019 Chubb EBM Business Pack Product Disclosure Statement (PDS) and Policy Wording.pdf'))))"
   ]
  },
  {
   "cell_type": "code",
   "execution_count": 7,
   "metadata": {},
   "outputs": [],
   "source": [
    "def get_underlines(soup):\n",
    "    positions=[]\n",
    "    for span in soup.find_all('span'):\n",
    "        y_cord_list=y_cordinate_Re.findall(str(span))\n",
    "        if y_cord_list:\n",
    "            y_cord=int(y_cord_list[0])\n",
    "        else:\n",
    "            continue\n",
    "        style=\"position:absolute; border: black 1px solid\" in str(span)\n",
    "        height_px_li=height_re.findall(str(span))\n",
    "        if height_px_li:\n",
    "            height_px=height_px_li[0]\n",
    "        else:\n",
    "            continue\n",
    "        height=int(height_px)<15\n",
    "        if all([style,height]):\n",
    "            positions.append(y_cord)\n",
    "    return list(set(positions))"
   ]
  },
  {
   "cell_type": "code",
   "execution_count": 8,
   "metadata": {},
   "outputs": [],
   "source": [
    "def ext_extract(text_list,language):\n",
    "    ext_flag=False\n",
    "    if language=='english':\n",
    "        ext_lis=['extension']\n",
    "    else:\n",
    "        ext_lis=['extensión','extensiones']\n",
    "   \n",
    "    ext_count=0\n",
    "    position_list=[]\n",
    "    position=0\n",
    "    for text in text_list:\n",
    "        # if any two of 'exclusion ,condition or extension is present in the text, that text is omitted from the logic'\n",
    "        bool_list=['condition' in text.lower(),'exclusion' in text.lower(),'extension' in text.lower()]\n",
    "        if sum(bool_list)>=2:\n",
    "            continue\n",
    "        for i in ext_lis:\n",
    "            for match in re.finditer(i, text.lower()):\n",
    "                position_list.append(position+match.start())               \n",
    "                ext_count+=1\n",
    "        position+=len(text)\n",
    "    if ext_count>=1:\n",
    "        ext_flag=True\n",
    "    return(ext_flag,ext_count,position_list)"
   ]
  },
  {
   "cell_type": "code",
   "execution_count": 9,
   "metadata": {},
   "outputs": [],
   "source": [
    "def excl_extract(text_list,language):\n",
    "    exclusion_flag=False\n",
    "    if language=='english':\n",
    "        excl_lis=['exclud','not cover','except','does not mean','not includ','exclusion']\n",
    "    else:\n",
    "        excl_lis=['excepto','excepción','no in cluido','exclusión','excluidos','excluirlo','excluyendo','exclusiones','exclusion','excluyen','excluyentes']\n",
    "   \n",
    "    exclusion_count=0\n",
    "    position_list=[]\n",
    "    position=0\n",
    "    for text in text_list:\n",
    "        # if any two of 'exclusion ,condition or extension is present in the text, that text is omitted from the logic'\n",
    "        bool_list=['condition' in text.lower(),'exclusion' in text.lower(),'extension' in text.lower()]\n",
    "        if sum(bool_list)>=2:\n",
    "            continue\n",
    "        for i in excl_lis:\n",
    "            for match in re.finditer(i, text.lower()):\n",
    "                position_list.append(position+match.start())               \n",
    "                exclusion_count+=1\n",
    "        position+=len(text)\n",
    "    if exclusion_count>=1:\n",
    "        exclusion_flag=True\n",
    "    return(exclusion_flag,exclusion_count,position_list)"
   ]
  },
  {
   "cell_type": "code",
   "execution_count": 10,
   "metadata": {},
   "outputs": [],
   "source": [
    "def cond_extract(text_list,language):\n",
    "    cond_flag=False\n",
    "    if language=='english':\n",
    "        cond_lis=['condition']\n",
    "    else:\n",
    "        cond_lis=['condición','condiciones','condicionado']\n",
    "   \n",
    "    cond_count=0\n",
    "    position_list=[]\n",
    "    position=0\n",
    "    for text in text_list:\n",
    "        # if any two of 'exclusion ,condition or extension is present in the text, that text is omitted from the logic'\n",
    "        bool_list=['condition' in text.lower(),'exclusion' in text.lower(),'extension' in text.lower()]\n",
    "        if sum(bool_list)>=2:\n",
    "            continue\n",
    "        for i in cond_lis:\n",
    "            for match in re.finditer(i, text.lower()):\n",
    "                position_list.append(position+match.start())               \n",
    "                cond_count+=1\n",
    "        position+=len(text)\n",
    "    if cond_count>=1:\n",
    "        cond_flag=True\n",
    "    return(cond_flag,cond_count,position_list)"
   ]
  },
  {
   "cell_type": "code",
   "execution_count": 11,
   "metadata": {},
   "outputs": [],
   "source": [
    "def font_extraction(soup):\n",
    "    fontsizes=[]\n",
    "    for divs in soup.findAll('div'):\n",
    "        for j in divs.find_all('span'):\n",
    "            ext_size=re.findall(r'font-size:(.*)px\">',str(j))\n",
    "            if ext_size:\n",
    "                fontsizes.append(int(ext_size[0]))\n",
    "    return(fontsizes)"
   ]
  },
  {
   "cell_type": "code",
   "execution_count": 12,
   "metadata": {},
   "outputs": [],
   "source": [
    "def stopword_check(word,text,language):\n",
    "    if language=='spanish':\n",
    "        stop_words = list(set(stopwords.words('spanish')))\n",
    "    else:\n",
    "        stop_words = list(set(stopwords.words('english')))\n",
    "        transition=\"although  instead  whereas  despite  conversely  otherwise  however moreover  likewise  comparatively  correspondingly  similarly  furthermore  additionallyver  rather  nevertheless  nonetheless  regardless  notwithstanding consequently  therefore  thereupon  forthwith  accordingly  henceforth\"\n",
    "        transition_words=transition.split()\n",
    "        transition_words\n",
    "        stop_words.extend(transition_words)\n",
    "\n",
    "    if exclusion_check(text,language):\n",
    "        return True\n",
    "    if word.lower() in stop_words:\n",
    "        return False\n",
    "    else:\n",
    "        return True"
   ]
  },
  {
   "cell_type": "code",
   "execution_count": 13,
   "metadata": {},
   "outputs": [],
   "source": [
    "def exclusion_check(text,language):\n",
    "    if language=='spanish':\n",
    "        exclusion_bag=['excepto','excepción','no in cluido','exclusión','excluidos','excluirlo','excluyendo',' excluyen','exclusiones','exclusiones','exclusion','excluyentes']\n",
    "    else:\n",
    "        exclusion_bag=['exclusion','excluded','not covered','will not cover','will not pay']\n",
    "    for word in exclusion_bag:\n",
    "        if word in text.lower():\n",
    "            return True\n",
    "    return False\n",
    "    "
   ]
  },
  {
   "cell_type": "code",
   "execution_count": 14,
   "metadata": {},
   "outputs": [],
   "source": [
    "def criteria_check(text,language):\n",
    "    if language=='spanish':\n",
    "        exclusion_bag=['condición','condiciones','condicionado']\n",
    "    else:\n",
    "        exclusion_bag=['condition','conditions']\n",
    "    for word in exclusion_bag:\n",
    "        if word in text.lower():\n",
    "            return True\n",
    "    return False\n",
    "    "
   ]
  },
  {
   "cell_type": "code",
   "execution_count": 15,
   "metadata": {},
   "outputs": [],
   "source": [
    "def ext_check(text,language):\n",
    "    if language=='english':\n",
    "        ext_bag=['extension']\n",
    "    else:\n",
    "        ext_bag=['extensión','extensiones']\n",
    "    for word in ext_bag:\n",
    "        if word in text.lower():\n",
    "            return True\n",
    "    return False\n",
    "    "
   ]
  },
  {
   "cell_type": "code",
   "execution_count": 16,
   "metadata": {},
   "outputs": [],
   "source": [
    "start=re.compile('.*\\d{1,3}.*(?:\\-|\\.|–)')\n",
    "def clean(text):\n",
    "    text=text.replace('\\n','').replace('\\t',' ')\n",
    "    text=start.sub('',text).strip()\n",
    "    \n",
    "\n",
    "    return(text)\n",
    "def clean_pharses(phrases):\n",
    "    phrases=[clean(i) for i in phrases if len(i)> 3]\n",
    "    phrases=list(set(phrases))\n",
    "    return phrases"
   ]
  },
  {
   "cell_type": "code",
   "execution_count": null,
   "metadata": {},
   "outputs": [],
   "source": []
  },
  {
   "cell_type": "code",
   "execution_count": 17,
   "metadata": {},
   "outputs": [],
   "source": [
    "def create_local_index(path,subdir,language,country):\n",
    "    pointsRE_heading=re.compile('(?:\\s*\\([a-z]{1,3}\\)|(?<![A-z])[A-Z]{1}\\s+[a-zA-Z0-9_\\s]{5})')\n",
    "    pageNumRE=re.compile('Page\\s*(\\d{1,3})',re.IGNORECASE)\n",
    "    neglect_def=['policy','insured','schedule']\n",
    "    local_indexed={}\n",
    "    previous_span=''\n",
    "    bold_phrases_indexed={}\n",
    "    for file in os.listdir(path):\n",
    "        if file.endswith('.pdf'):\n",
    "            print(file)\n",
    "            global file_count\n",
    "            file_count+=1\n",
    "            \n",
    "            print(\"COUNT\",file_count)\n",
    "            try:\n",
    "                pg_no=len(list(extract_pages(os.path.join(path,file))))\n",
    "            except:\n",
    "                pg_no=0\n",
    "            try:\n",
    "                html=convert_pdf(os.path.join(path,file),'html')\n",
    "            except:\n",
    "                continue\n",
    "            soup = BeautifulSoup(html, 'html5lib')\n",
    "            underline_positions=get_underlines(soup)\n",
    "            try:\n",
    "                fontsizes=font_extraction(soup)\n",
    "                file_font_size_mode=mode(fontsizes)\n",
    "            except:\n",
    "                file_font_size_mode=8\n",
    "                \n",
    "            text_para,text_plain_para='',''\n",
    "            text_lis,text_plain_lis,bold_lis,page_list,=[],[],[],[]\n",
    "            bold=False\n",
    "            sub_page_def_list=[]\n",
    "            try:\n",
    "                definitions=def_extraction(os.path.join(path,file))\n",
    "            except:\n",
    "                continue\n",
    "            definitions={key:value for key,value in definitions.items() if key.lower().strip() not in neglect_def}\n",
    "            def_terms=list(definitions.keys())\n",
    "#             print(len(def_terms),'LEN DEFINITIONS')\n",
    "#             print(definitions)\n",
    "            definition_text=''\n",
    "            header_match_object=(0,'',False)\n",
    "            cond_header_match_object=(0,'',False)\n",
    "            ext_header_match_object=(0,'',False)\n",
    "            second_category=False\n",
    "            head_found=False\n",
    "            def_flag=False\n",
    "            cond_head_found=False\n",
    "            ext_head_found=False\n",
    "            single_page_head_found=False\n",
    "            condition_text=''\n",
    "            ext_text=''\n",
    "            excl_text=''\n",
    "            previous_pg_num=[]\n",
    "            def_in_page=[]\n",
    "            cond_single_page_head_found=False\n",
    "            ext_single_page_head_found=False\n",
    "            \n",
    "            font_size=file_font_size_mode\n",
    "\n",
    "            for divs in soup.findAll('div'):\n",
    "                div_text_list=[span.text for span in divs.find_all('span') ]\n",
    "                page_str=str(divs.find_all('a'))\n",
    "                page_num_results=pageNumRE.findall(page_str)\n",
    "                if page_num_results:\n",
    "                    pagenum=page_num_results[0]\n",
    "#                     print(pagenum)\n",
    "                    if pagenum!=previous_pg_num:\n",
    "                        sub_definitions_in_page=[]\n",
    "                    previous_pg_num=pagenum\n",
    "#                     definition_text=''\n",
    "                    \n",
    "                    #only for pdfs\n",
    "                    if(int(pagenum) in [1,2]) and 'Wording' in file and pg_no >20:\n",
    "#                     print('Continued on wording 2')\n",
    "                        continue\n",
    "\n",
    "                    if text_lis:\n",
    "                        text_lis=text_lis[:-1]\n",
    "                        text_para=''.join(text_lis)\n",
    "                        text_plain_lis=text_plain_lis[:-1]\n",
    "                        text_plain_para=''.join(text_plain_lis)\n",
    "                        if(len(re.findall('\\.',text_para))>(len(text_para)/3) or (len(re.findall('\\d',text_para))>80 and int(pagenum)<4 and  pg_no>20 and 'content' in text_para.lower())) :\n",
    "                            print('PASS')\n",
    "                            print(text_plain_para)\n",
    "                            text_para,text_plain_para=' ',' '\n",
    "                            text_lis,text_plain_lis=[],[]\n",
    "                            single_page_head_found=False\n",
    "                            head_found=False\n",
    "                            cond_head_found=False\n",
    "                            ext_head_found=False\n",
    "                            continue\n",
    "                        \n",
    "                        else:\n",
    "                            bold_lis=clean_pharses(bold_lis)\n",
    "                            pagenum=int(pagenum)-1\n",
    "                            excl_flag,excl_count,excl_pos_lis=excl_extract(text_plain_lis,language)\n",
    "                            cond_flag,cond_count,cond_pos_lis=cond_extract(text_plain_lis,language)\n",
    "                            ext_flag,ext_count,ext_pos_lis=ext_extract(text_plain_lis,language)\n",
    "                            if int(pagenum)==1:\n",
    "                                if head_found or single_page_head_found or excl_count>0:\n",
    "#                                     print(pagenum,True,'!!!')\n",
    "                                    excl_flag=True\n",
    "                                else:\n",
    "                                    excl_flag=False\n",
    "                            else:\n",
    "                                if head_found or single_page_head_found:\n",
    "#                                     print(pagenum,True,'!!!',excl_count)\n",
    "                                    excl_flag=True\n",
    "#                                     print(excl_flag,'EXCL')\n",
    "#                                 else:\n",
    "#                                     print(pagenum,excl_flag,'\\n')\n",
    "# #                             print(excl_text)\n",
    "#                             print(condition_text)\n",
    "                            if cond_head_found or cond_single_page_head_found or cond_count>0:\n",
    "                                cond_flag=True\n",
    "#                                 print('COND','TRUE')\n",
    "                            else:\n",
    "#                                 print('COND','FALSE')\n",
    "                                cond_flag=False\n",
    "    \n",
    "                            if ext_head_found or ext_single_page_head_found or ext_count>0:\n",
    "                                ext_flag=True\n",
    "#                                 print('EXT','TRUE',pagenum)\n",
    "                            else:\n",
    "#                                 print('EXT','FALSE',pagenum)\n",
    "                                ext_flag=False\n",
    "#                             def_in_page=[{'name':k,'text':v[0] for k,v in definitions.items() if v[1]=pagenum}]\n",
    "                            for term,defs in definitions.items():\n",
    "#                                 print(defs[1])\n",
    "                                if defs[1]==pagenum:  ###defs[1] is the pagenumber\n",
    "                                    definition_text=definition_text+'          '+term+' '+defs[0]\n",
    "                                    def_in_page.append({'name':term,'text':defs[0]})\n",
    "#                                     def_in_page{'name':}\n",
    "#                             print(definition_text)\n",
    "                            if definition_text:\n",
    "                                def_flag=True\n",
    "                            \n",
    "                            if def_flag:\n",
    "                                def_search_flag=True\n",
    "#                                 print('DEF','TRUE')\n",
    "                            else:\n",
    "#                                 print('DEF', 'FALSE')\n",
    "                                def_search_flag=False   \n",
    "                            \n",
    "                            if pg_no>2:\n",
    "                                endorsements=False\n",
    "                            else:\n",
    "                                endorsements=True\n",
    "#                             print(endorsements,'ENDORSEMENTS!!!')\n",
    "                            if text_para in local_indexed.keys():\n",
    "                                text_para=text_para+' '\n",
    "                            \n",
    "                            local_indexed[text_para]=(file,pagenum,bold_lis,text_plain_para,excl_flag,excl_count,excl_pos_lis,subdir,sub_page_def_list,country,language,definition_text,def_search_flag,endorsements,excl_text,condition_text,cond_flag,cond_count,cond_pos_lis,def_in_page,ext_text,ext_flag,ext_count,ext_pos_lis)\n",
    "#                             print(sub_page_def_list,'DEF LIST!!!!!1')\n",
    "                            sub_page_def_list=[]\n",
    "                            page_list.append(pagenum)\n",
    "                            text_para,text_plain_para='',''\n",
    "                            text_lis,text_plain_lis,bold_lis=[],[],[]\n",
    "                            definition_text=''\n",
    "                            cond_single_page_head_found=False\n",
    "                            ext_single_page_head_found=False\n",
    "                            condition_text=''\n",
    "                            ext_text=''\n",
    "                            excl_text=''\n",
    "                            single_page_head_found=False\n",
    "                            def_in_page=[]\n",
    "                            def_flag=False\n",
    "                for span in divs.find_all('span'):\n",
    "\n",
    "                    bold=False\n",
    "                    upper=False\n",
    "                    bullet=False\n",
    "                    def_flag=False\n",
    "                    span_position=div_text_list.index(span.text)\n",
    "                    \n",
    "                    if \"Bold\" in str(span) or 'CIDFont+F3' in str(span):\n",
    "                        bold_lis.append(span.text)\n",
    "                        bold=True\n",
    "                    if span.text.isupper():\n",
    "                        upper=True\n",
    "                    font_family_match=re.findall(r\"font-family: b'(.*)';\",str(span))\n",
    "                    if font_family_match:\n",
    "                        font_family=font_family_match[0]\n",
    "                    else:\n",
    "                        font_family=''\n",
    "#                     print(font_family)\n",
    "                    font_size_match=re.findall(r'font-size:(.*)px\">',str(span))\n",
    "                    if font_size_match:\n",
    "                        font_size=int(font_size_match[0])\n",
    "                    if pointsRE_heading.findall(span.text):\n",
    "                        bullet=True\n",
    "#@@@@@@@@@@@@@@@@@@@@@@@@@@@@@@@@@@@@@@@@@@@@@@@@@@\n",
    "                    y_cord_list=y_cordinate_Re.findall(str(divs))\n",
    "                    if y_cord_list:\n",
    "                        y_cord=int(y_cord_list[0])\n",
    "                    underlined_text=check_underline(underline_positions,y_cord)\n",
    "                    if span.text.split('\\n')[0]!='' and span.text.split('\\n')[0]!=' ':\n",
    "                        head_check_text=span.text.split('\\n')[0]\n",
    "                    elif len(span.text.split('\\n'))>1:\n",
    "                        head_check_text=span.text.split('\\n')[1]\n",
    "                    else:\n",
    "                        head_check_text=''\n",
    "##############################3  \n",
    "                    if str(previous_span).endswith('<br/></span>'):\n",
    "                        span_position=0\n",
    "                    ##################INSERT FUNCTION####################z\n",
    "                    #EXCLUSION \n",
    "                    if  span_position==0 and (bold or font_size>= file_font_size_mode +2 ) and (font_size> file_font_size_mode or upper) and 5<len(head_check_text.strip())<80:                    \n",
    "                        if exclusion_check(head_check_text,language) and not head_found: \n",
    "                            head_found=True\n",
    "                            header_match_object=(font_size,font_family,bold,upper,bullet)\n",
    "                            First_category=True\n",
    "                            second_category=False\n",
    "                            single_page_head_found=True\n",
    "#                             print('FOUND Heading for exclusion ...',span.text)\n",
    "                        \n",
    "                    \n",
    "                        elif ((font_size,font_family,bold,upper,bullet)==header_match_object  or font_size>header_match_object[0] ) and head_found and not exclusion_check(head_check_text,language):\n",
    "                            head_found=False\n",
    "                            single_page_head_found=True\n",
    "#                             print('FOUND Closure for exclusion ...',span.text)\n",
    "#                     if 'CLAIMS CONDITIONS' in span.text:\n",
    "#                         print ('^^^^^^^',(font_size,font_family,bold,upper,bullet),header_match_object, font_size>header_match_object[0] , head_found , not exclusion_check(head_check_text,language))\n",
    "#                         print(pointsRE_heading.findall(span.text))\n",
    "                    words_title=[word.istitle() for word in head_check_text.split() if stopword_check(word,head_check_text,language) and not word.isdigit() ]\n",
    "                    if span_position==0 and all(words_title) and head_check_text.strip() not in definitions and  (len(words_title) >1 or underlined_text )and 5<len(head_check_text.strip())<80 :\n",
    "#                         print('MMMMMMMMARARARA',span.text)\n",
    "\n",
    "                        if exclusion_check(head_check_text,language) and  not head_found:\n",
    "                            head_found=True\n",
    "                            second_category=True\n",
    "                            First_category=False\n",
    "                            single_page_head_found=True\n",
    "                            header_match_object=(font_size,font_family,bold,upper,bullet)\n",
    "#                             print(\"FOUND heading type2 ....\",span.text)\n",
    "                        elif head_found and not exclusion_check(head_check_text,language) and second_category and ((font_size,font_family,bold,upper,bullet)==header_match_object or font_size > header_match_object[0] ) :\n",
    "                            head_found=False\n",
    "                            second_category=False\n",
    "                            single_page_head_found=True\n",
    "#                             print('FOUND closure type 2',span.text)\n",
    "                    if head_found:\n",
    "                        excl_text=excl_text+' '+span.text     \n",
    "                     \n",
    "                    #CONDITIONS\n",
    "#                     if 'Condition' in span.text:\n",
    "# #                         print('text:',str(span.text),'head check',head_check_text,'length of head check',len(head_check_text))\n",
    "# #                         print(span_position==0,(bold or font_size>= file_font_size_mode +2 ), (font_size> file_font_size_mode or upper), 5<len(head_check_text.strip())<80)\n",
    "# #                         print(font_size,file_font_size_mode,cond_head_found,criteria_check(head_check_text,language))\n",
    "                    if  span_position==0 and (bold or font_size>= file_font_size_mode +2 ) and (font_size> file_font_size_mode or upper) and 5<len(head_check_text.strip())<80:                    \n",
    "                        if criteria_check(head_check_text,language) and not cond_head_found: \n",
    "                            cond_head_found=True\n",
    "                            cond_header_match_object=(font_size,font_family,bold,upper,bullet)\n",
    "                            cond_First_category=True\n",
    "                            cond_second_category=False\n",
    "                            cond_single_page_head_found=True\n",
    "#                             print('FOUND Heading for condition...',span.text)\n",
    "                    \n",
    "                        elif ((font_size,font_family,bold,upper,bullet)==cond_header_match_object or font_size>cond_header_match_object[0] ) and not criteria_check(head_check_text,language)  and cond_head_found:\n",
    "                            cond_head_found=False\n",
    "                            cond_single_page_head_found=True\n",
    "#                             print('FOUND Closure for condition ...',span.text)\n",
    "                \n",
    "                    \n",
    "                    cond_words_title=[word.istitle() for word in head_check_text.split() if stopword_check(word,head_check_text,language) and not word.isdigit() ]\n",
    "                    if span_position==0 and all(cond_words_title) and head_check_text.strip() not in definitions and  (len(words_title) >1 or underlined_text )and 5<len(head_check_text.strip())<80 :\n",
    "#                         print('MMMMMMMMARARARA',span.text)\n",
    "\n",
    "                        if criteria_check(head_check_text,language) and  not cond_head_found:\n",
    "                            cond_head_found=True\n",
    "                            cond_second_category=True\n",
    "                            cond_First_category=False\n",
    "                            cond_single_page_head_found=True\n",
    "                            cond_header_match_object=(font_size,font_family,bold,upper,bullet)\n",
    "#                             print(\"FOUND heading type2 ....\",span.text)\n",
    "                        elif cond_head_found and not criteria_check(head_check_text,language) and cond_second_category and ((font_size,font_family,bold,upper,bullet)==cond_header_match_object or font_size > cond_header_match_object[0] ) :\n",
    "                            cond_head_found=False\n",
    "                            cond_second_category=False\n",
    "                            cond_single_page_head_found=True\n",
    "#                             print('FOUND closure type 2',span.text)\n",
    "\n",
    "                    if cond_head_found==True:\n",
    "                        condition_text=condition_text+' '+span.text\n",
    "                            \n",
    "                    \n",
    "                    #####EXTENSIONS\n",
    "                    #CONDITIONS\n",
    "#                     if 'Extension' in span.text:\n",
    "#                         print(span.text)\n",
    "#                         print('text:',str(span.text),'head check',head_check_text,'length of head check',len(head_check_text))\n",
    "#                         print(span_position==0,(bold or font_size>= file_font_size_mode +2 ), (font_size> file_font_size_mode or upper), 5<len(head_check_text.strip())<80)\n",
    "#                         print(font_size,file_font_size_mode,cond_head_found,criteria_check(head_check_text,language))\n",
    "                    if  span_position==0 and (bold or font_size>= file_font_size_mode +2 ) and (font_size> file_font_size_mode or upper) and 5<len(head_check_text.strip())<80:                    \n",
    "                        if ext_check(head_check_text,language) and not ext_head_found: \n",
    "                            ext_head_found=True\n",
    "                            ext_header_match_object=(font_size,font_family,bold,upper,bullet)\n",
    "                            ext_First_category=True\n",
    "                            ext_second_category=False\n",
    "                            ext_single_page_head_found=True\n",
    "#                             print('FOUND Heading for ext...',span.text)\n",
    "                    \n",
    "                        elif ((font_size,font_family,bold,upper,bullet)==ext_header_match_object or font_size>ext_header_match_object[0] ) and not ext_check(head_check_text,language)  and ext_head_found:\n",
    "                            ext_head_found=False\n",
    "                            ext_single_page_head_found=True\n",
    "#                             print('FOUND Closure for ext ...',span.text)\n",
    "                \n",
    "                    \n",
    "                    ext_words_title=[word.istitle() for word in head_check_text.split() if stopword_check(word,head_check_text,language) and not word.isdigit() ]\n",
    "                    if span_position==0 and all(ext_words_title) and head_check_text.strip() not in definitions and  (len(words_title) >1 or underlined_text )and 5<len(head_check_text.strip())<80 :\n",
    "#                         print('MMMMMMMMARARARA',span.text)\n",
    "\n",
    "                        if ext_check(head_check_text,language) and  not ext_head_found:\n",
    "                            ext_head_found=True\n",
    "                            ext_second_category=True\n",
    "                            ext_First_category=False\n",
    "                            ext_single_page_head_found=True\n",
    "                            ext_header_match_object=(font_size,font_family,bold,upper,bullet)\n",
    "#                             print(\"FOUND heading type2 ext....\",span.text)\n",
    "                        elif ext_head_found and not ext_check(head_check_text,language) and ext_second_category and ((font_size,font_family,bold,upper,bullet)==ext_header_match_object or font_size > ext_header_match_object[0] ) :\n",
    "                            ext_head_found=False\n",
    "                            ext_second_category=False\n",
    "                            ext_single_page_head_found=True\n",
    "#                             print('FOUND closure type 2 ext',span.text)\n",
    "# \n",
    "                    if ext_head_found==True:\n",
    "                        ext_text=ext_text+' '+span.text\n",
    "                            \n",
    "    #                     else:\n",
    "###############################             \n",
    "                        \n",
    "                    if font_size_match:\n",
    "                        if font_size<=file_font_size_mode-1:\n",
    "                            text_lis.append(' ')\n",
    "                    text=span.text.replace('\\n',' ')\n",
    "                    text_plain=text.replace('\\n',' ')\n",
    "                    for term in def_terms:\n",
    "                        if term.lower().strip() in text.lower() and definitions[term][0].strip() not in text and term not in sub_definitions_in_page:\n",
    "#                             def_page.append(definitions[term])\n",
    "#                             print(pagenum)\n",
    "                            src_str  = re.compile(re.escape(term), re.IGNORECASE)\n",
    "                            text=src_str.sub('###{}@@{}%%%'.format(term,definitions[term][0]),text)\n",
    "#                             print(text,'\\n',term,'TERM!!!!@#$%^&*&^%#$%^&')\n",
    "                            sub_definitions_in_page.append(term)\n",
    "                            sub_page_def_list.append({'name':term,'text':definitions[term][0]})\n",
    "#                             print(definitions_in_page)\n",
    "                            break\n",
    "#                     print(definitions_in_page)\n",
    "\n",
    "                    \n",
    "                    text_lis.append(text)\n",
    "                    text_plain_lis.append(text_plain)\n",
    "                    previous_span=span\n",
    "                    \n",
    "\n",
    "            if text_lis:\n",
    "                if(int(pagenum) in [1,2]) and 'Wording' in file and pg_no >20:\n",
    "#                     print('Continued on wording 2')\n",
    "                    continue\n",
    "\n",
    "                text_lis=text_lis[:-1]\n",
    "                text_para=''.join(text_lis)\n",
    "                text_plain_lis=text_plain_lis[:-1]\n",
    "                text_plain_para=''.join(text_plain_lis)\n",
    "                if(len(re.findall('\\.',text_para))>(len(text_para)/3) or (len(re.findall('\\d',text_para))>80 and int(pagenum)<4 and pg_no>20 and 'content' in text_para.lower())) :\n",
    "                    print('PASS')\n",
    "                    print(text_plain_para)\n",
    "                    text_para,text_plain_para=' ',' '\n",
    "                    text_lis,text_plain_lis=[],[]\n",
    "                    single_page_head_found=False\n",
    "                    head_found=False\n",
    "                    cond_head_found=False\n",
    "                    ext_head_found=False\n",
    "                    continue\n",
    "                else:\n",
    "                    bold_lis=clean_pharses(bold_lis)\n",
    "                    if pagenum in page_list and pagenum!='1':\n",
    "                        pagenum=int(pagenum)+1\n",
    "                    excl_flag,excl_count,excl_pos_lis=excl_extract(text_plain_lis,language)\n",
    "                    cond_flag,cond_count,cond_pos_lis=cond_extract(text_plain_lis,language)\n",
    "                    ext_flag,ext_count,ext_pos_lis=ext_extract(text_plain_lis,language)\n",
    "                    if int(pagenum)==1:\n",
    "                        if head_found or single_page_head_found or excl_count>0:\n",
    "#                             print(pagenum,True,'!!!',excl_count)\n",
    "                            excl_flag=True\n",
    "                        else:\n",
    "                            excl_flag=False\n",
    "                    else:\n",
    "                        if head_found or single_page_head_found:\n",
    "#                             print(pagenum,True,'!!!')\n",
    "                            excl_flag=True\n",
    "#                             print(excl_flag,'EXCL')\n",
    "                        \n",
    "                    #####################\n",
    "                    if cond_head_found or cond_single_page_head_found or cond_count>0:\n",
    "                        cond_flag=True\n",
    "#                         print('COND','TRUE')\n",
    "                    else:\n",
    "                        cond_flag=False\n",
    "                    \n",
    "                    if ext_head_found or ext_single_page_head_found or ext_count>0:\n",
    "                        ext_flag=True\n",
    "#                         print('EXT','TRUE',pagenum)\n",
    "                    else:\n",
    "#                         print('EXT','FALSE',pagenum)\n",
    "                        ext_flag=False\n",
    "#                         print('COND','FALSE')\n",
    "#                     page_def_list.append({'name':term,'text':definitions[term][0]}\n",
    "#                     def_in_page=[{'name':k,'text':v[0]} for k,v in definitions.items() if v[1]==pagenum]  \n",
    "#                     print(def_in_page,'!!!!!!!!!!!!!!!!!!!!!!!!!!!!!')\n",
    "                    for term,defs in definitions.items():\n",
    "                        if defs[1]==pagenum:  ###defs[1] is the pagenumber\n",
    "                            definition_text=definition_text+'          '+term+' '+defs[0]\n",
    "                            def_in_page.append({'name':term,'text':defs[0]})        \n",
    "#                     print(definition_text)\n",
    "                    if definition_text:\n",
    "                        def_flag=True\n",
    "\n",
    "                    if def_flag:\n",
    "                        def_search_flag=True\n",
    "#                         print('DEF','TRUE')\n",
    "                    else:\n",
    "                        def_search_flag=False\n",
    "#                         print('DEF','FALSE')\n",
    "                    \n",
    "                    if pg_no>2:\n",
    "                        endorsements=False\n",
    "                    else:\n",
    "                        endorsements=True\n",
    "#                     print(endorsements,'ENDORSEMENTS!!!')        \n",
    "                    if text_para in local_indexed.keys():\n",
    "                        text_para=text_para+' '\n",
    "                    local_indexed[text_para]=(file,pagenum,bold_lis,text_plain_para,excl_flag,excl_count,excl_pos_lis,subdir,sub_page_def_list,country,language,definition_text,def_search_flag,endorsements,excl_text,condition_text,cond_flag,cond_count,cond_pos_lis,def_in_page,ext_text,ext_flag,ext_count,ext_pos_lis)\n",
    "#                     print(sub_page_def_list,'DEF LIST!!!!!1')\n",
    "                    sub_page_def_list=[]\n",
    "                    text_para,text_plain_para='','' \n",
    "                    text_plain_lis,text_lis,bold_lis=[],[],[]\n",
    "                    definition_text=''\n",
    "                    single_page_head_found=False\n",
    "                    cond_single_page_head_found=False\n",
    "                    ext_single_page_head_found=False\n",
    "                    condition_text=''\n",
    "                    ext_text=''\n",
    "                    excl_text=''\n",
    "                    def_in_page=[]\n",
    "                    def_flag=False\n",
    "    return(local_indexed)"
   ]
  },
  {
   "cell_type": "code",
   "execution_count": 18,
   "metadata": {},
   "outputs": [],
   "source": [
    "def doc_pdf_path(path):\n",
    "    file_list=os.listdir(path)\n",
    "    for file in file_list:\n",
    "        raw_filename=file[:file.rfind(\".\")]\n",
    "        pdf_filename=raw_filename+'.pdf'\n",
    "#         print(raw_filename,pdf_filename,'FILE!!')\n",
    "        if pdf_filename in file_list:\n",
    "            print('continued!!!!!!!!!!!!!')\n",
    "            continue\n",
    "        if file.endswith('doc') or file.endswith('docx'):\n",
    "            print('processing!!!')\n",
    "            wordToPdf(os.path.join(path,file))"
   ]
  },
  {
   "cell_type": "code",
   "execution_count": 19,
   "metadata": {},
   "outputs": [],
   "source": [
    "# rootDir='V://COG//AU- Property//'\n",
    "# for dirname,subdirlist,filelist in os.walk(rootDir):\n",
    "#     print(dirname)\n",
    "#     for subdir in subdirlist:\n",
    "#         path=os.path.join(dirname,subdir)\n",
    "# #         doc_pdf_path(path)"
   ]
  },
  {
   "cell_type": "code",
   "execution_count": 21,
   "metadata": {
    "scrolled": true
   },
   "outputs": [
    {
     "name": "stdout",
     "output_type": "stream",
     "text": [
      "Other Carrier Wording SUBDIR!!!!!!!!!!!!!\n",
      "Broker Wording SUBDIR!!!!!!!!!!!!!\n",
      "17-0047d2 EL Full Chubb-v1.pdf\n",
      "COUNT 1\n",
      "PASS\n",
      "CONTENTS INSURING CLAUSE 1   EMPLOYERS' LIABILITIES ..................................1 1.1  Employers’ Liability............................................................ 1 1.2  Other Injury Liability .......................................................... 1 1.3  Data Protection Liability ..................................................... 1 1.4  Defence of Specified Criminal & Other Offences ................ 1 1.5  Retroactive Employers’ Liability ......................................... 1 INSURING CLAUSE 2   EMPLOYERS' LIABILITIES COSTS & EXPENSES ...2 2.1  General Costs & Expenses .................................................. 2 2.2  Data Protection Costs & Expenses ...................................... 2 EXTENSIONS ....................................................3 1.  New & Acquired Companies .............................................. 3 Individual Liability .............................................................. 3 2.  Principal & Other Party Liability  ......................................... 4 3.  Transfer Of Undertakings (TUPE)........................................ 4 4.  Unsatisfied Awards ............................................................ 4 5.  EXCLUSIONS .....................................................5 Inoperative Insuring Clauses & Extensions ......................... 5 1.  2.  Vehicles ............................................................................. 5 3.  Data Costs ......................................................................... 5 4.  Deliberate Acts .................................................................. 5 5.  Fines, Penalties & Punitive Damages .................................. 5 6.  Offshore Working .............................................................. 6 Radioactive Contamination ................................................ 6 7.  CLAIMS CONDITIONS .......................................7 1.  Notice to the Insurer .......................................................... 7 Consent to Incur Costs ....................................................... 7 2.  3.  Co-Operation of the Insured .............................................. 8 4.  Defence & Settlement of Claims ......................................... 8 5.  Claims Obligations of the Insurer Following Notice ............ 9 6.  Other Insurance Policies .................................................... 9 Recoveries ......................................................................... 9 7.  Subrogation & Subrogation Waiver .................................. 10 8.  Fraudulent Claims ............................................................ 10 9.  GENERAL CONDITIONS ..................................11 Cancellation .................................................................... 11 1.  Choice of Law & Disputes ................................................. 11 2.  Conditions Precedent ...................................................... 12 3.  Contract (Rights of Third Parties) Act 1999 ....................... 12 4.  Employers’ Liability (Compulsory Insurance) Act 1969 ..... 12 5.  Fair Presentation .............................................................. 12 6.  Fundamental Changes to the Risks Insured ...................... 13 7.  Interpretation .................................................................. 13 8.  Limit of Liability, Sub-Limits & Retention .......................... 13 9.  10.  Premium Adjustments ..................................................... 14 11.  Sanctions Limitation ........................................................ 14 12.  Severability ...................................................................... 14 13.  Warranties ....................................................................... 14 \n",
      "PASS\n",
      "DEFINITIONS ..................................................15 Bodily Injury .................................................................... 15 1.  Breach of Data Protection Statutes ................................... 15 2.  Claim ............................................................................... 15 3.  Claimant Costs ................................................................ 15 4.  Claim Support Costs ........................................................ 15 5.  Compensation ................................................................. 15 6.  7.  Court & Inquiry Attendance Costs .................................... 16 8.  Data Breach Notification Costs ......................................... 16 9.  Data Breach Support Services Costs ................................ 16 10.  Employee ........................................................................ 16 11.  Employers’ Liabilities Costs & Expenses ........................... 16 Information Commissioner .............................................. 16 12.  Insured ............................................................................ 16 13.  Insured’s Business ........................................................... 17 14.  15.  Insurer ............................................................................. 17 16.  Legal Costs ...................................................................... 17 17.  Liability Loss .................................................................... 17 18.  Limit of Liability ................................................................ 17 19.  Motor Vehicle .................................................................. 17 20.  Offshore Working ............................................................ 17 21.  Other Injury ..................................................................... 17 22.  Period of Insurance  ......................................................... 17 23.  Personal Data Breach ....................................................... 17 24.  Policyholder .................................................................... 18 25.  Prosecution Defence Costs .............................................. 18 26.  Public Relations Crisis Management Costs ....................... 18 27.  Responsible Person ......................................................... 18 28.  Retention ......................................................................... 18 29.  Single Liability Loss .......................................................... 18 30.  Specified Criminal & Other Offences   .............................. 18 31.  Specified Insured ............................................................. 18 32.  Sub-Limits ....................................................................... 18 33.  Territorial Limits ............................................................... 18 34.  Terrorism ......................................................................... 18 CLAIMS NOTIFICATION CONTACTS ................19 DATA PROTECTION AND FRAUD ....................20 EMPLOYERS’ LIABILITY TRACING OFFICE ......21 COMPLAINTS PROCEDURE ............................22 \n",
      "17-0047d3 PL Full Chubb-v1.pdf\n",
      "COUNT 2\n",
      "PASS\n",
      "CONTENTS INSURING CLAUSE 1   GENERAL LIABILITIES .......................................1 1.1  Public Liability ................................................................... 1 1.2  Data Protection Liability ..................................................... 1 1.3  Products Liability ............................................................... 1 1.4  Third Party Product Recall Liability ..................................... 1 1.5  Drone Liability ................................................................... 1 1.6  Advertising Liability ........................................................... 1 1.7  Defence of Specified Criminal & Other Offences ................ 2 1.8  Sudden Pollution Liability .................................................. 2 INSURING CLAUSE 2   OTHER LIABILITIES ...........................................2 2.1  Accidental Discovery of Asbestos Liability .......................... 2 2.2  Financial Loss Liability ........................................................ 2 2.3  Legionella Run Off Liability ................................................. 2 INSURING CLAUSE 3   GENERAL & OTHER LIABILITIES   COSTS & EXPENSES ..........................................3 3.1  General Costs & Expenses .................................................. 3 3.2  Sudden Pollution Costs & Expenses ................................... 3 3.3  Data Protection Costs & Expenses ...................................... 3 EXTENSIONS ....................................................4 1.  New & Acquired Companies .............................................. 4 2.  Individual Liability .............................................................. 4 3.  Motor Contingent Liability ................................................. 5 4.  Motor Excess Liability ........................................................ 5 Personal Liability ................................................................ 5 5.  Principal & Other Party Liability.......................................... 5 6.  EXCLUSIONS .....................................................6 Advice Design & Specification ............................................ 6 1.  Aircraft Products ................................................................ 6 2.  Asbestos ............................................................................ 6 3.  Custody & Control ............................................................. 6 4.  5.  Defective Products & Recall ............................................... 6 6.  Deliberate Acts .................................................................. 7 Employers’ Liability............................................................ 7 7.  Fines, Penalties & Punitive Damages .................................. 7 8.  9.  Inoperative Insuring Clauses & Extensions ......................... 7 10.  Radioactive Contamination ................................................ 7 11.  Seepage Pollution & Contamination   (Occurring Outside of North America) ............................... 8 12.  Seepage Pollution & Contamination   (Occurring Within North America) ..................................... 8 13.  Vehicles ............................................................................. 8 14.  War .................................................................................... 8 15.  Watercraft & Aircraft .......................................................... 8 16.  Offshore Working .............................................................. 9 17.  Data Costs ......................................................................... 9 18.  Product Deterioration ........................................................ 9 19.  Product Procedure Failure .................................................. 9 20.  Government Regulation..................................................... 9 21.  Contractual Liability ........................................................... 9 22.  USA Claims ........................................................................ 9 23.  Price Quality & Performance ............................................ 10 24.  Cross Liabilities ................................................................ 10 25.  Real Property Values ........................................................ 10 26.  Labour Disturbances ........................................................ 10 27.  Other Liability .................................................................. 10 28.  Patents ............................................................................ 10 29.  Statutory Authorities ........................................................ 10 30.  Previous Claims & Circumstances .................................... 11 31.  Damage to Motor Vehicle & Other Insurance ................... 11 32.  Damage to Motor Vehicle ................................................ 11 33.  Land Buildings & Other Insurance .................................... 11 \n",
      "PASS\n",
      "27.  Legionella Incident .......................................................... 23 28.  Liability Loss .................................................................... 23 29.  Limit of Liability ................................................................ 24 30.  Motor Vehicle .................................................................. 24 31.  North America ................................................................. 24 32.  Offshore Working ............................................................ 24 33.  Period of Insurance  ......................................................... 24 34.  Personal Data Breach ....................................................... 24 35.  Policyholder .................................................................... 24 36.  Pollution .......................................................................... 24 37.  Preventative Costs ........................................................... 24 38.  Product Recall.................................................................. 24 39.  Prosecution Defence Costs .............................................. 24 40.  Proven ............................................................................. 24 41.  Public Relations Crisis Management Costs ....................... 24 42.  Responsible Person ......................................................... 24 43.  Retention ......................................................................... 24 44.  Single Compensation Loss ............................................... 24 45.  Single Liability Loss .......................................................... 25 46.  Specified Criminal & Other Offences   .............................. 25 47.  Sub-Limits ....................................................................... 25 48.  Territorial Limits ............................................................... 25 49.  Vendors ........................................................................... 25 CLAIMS NOTIFICATION CONTACTS ................26 DATA PROTECTION AND FRAUD ....................27 COMPLAINTS PROCEDURE ............................28 CLAIMS CONDITIONS .....................................12 1.  Notice to the Insurer ........................................................ 12 Consent to Incur Costs ..................................................... 13 2.  3.  Co-Operation of the Insured ............................................ 13 4.  Defence & Settlement of Claims ....................................... 13 5.  Claims Obligations of the Insurer Following Notice .......... 14 6.  Other Insurance Policies .................................................. 15 Recoveries ....................................................................... 15 7.  Subrogation & Subrogation Waiver .................................. 15 8.  9.  Fraudulent Claims ............................................................ 15 10.  Discharge of Liability ........................................................ 15 GENERAL CONDITIONS ..................................16 Cancellation .................................................................... 16 1.  Choice of Law & Disputes ................................................. 16 2.  Conditions Precedent ...................................................... 17 3.  Contract (Rights of Third Parties) Act 1999 ....................... 17 4.  Cross Liabilities ................................................................ 17 5.  Extended Discovery Period .............................................. 17 6.  Fair Presentation .............................................................. 18 7.  Fundamental Changes to the Risks Insured ...................... 18 8.  9.  Interpretation .................................................................. 18 10.  Limit of Liability, Sub-Limits, & Retention ......................... 19 11.  Premium Adjustments ..................................................... 19 12.  Sanctions Limitation ........................................................ 19 13.  Severability ...................................................................... 19 13.  Warranties ....................................................................... 19 DEFINITIONS ..................................................20 Asbestos .......................................................................... 20 1.  Bodily Injury .................................................................... 20 2.  Bodily & Other Injury ....................................................... 20 3.  Breach of Data Protection Statutes ................................... 20 4.  Breach of Specified Statutes ............................................. 20 5.  Claim ............................................................................... 20 6.  Claimant Costs ................................................................ 20 7.  Claims Support Costs....................................................... 20 8.  9.  Compensation ................................................................. 21 10.  Content Injury ................................................................. 21 11.  Court & Inquiry Attendance Costs .................................... 21 12.  Damage(d) ...................................................................... 21 13.  Data Breach Notification Costs ......................................... 21 14.  Data Breach Support Services Costs ................................ 21 15.  Employee ........................................................................ 22 16.  Environmental Clean-up Costs ......................................... 22 17.  Financial Loss ................................................................... 22 18.  General & Other Liabilities Costs & Expenses ................... 22 Information Commissioner .............................................. 22 19.  Insured ............................................................................ 22 20.  Insured’s Business ........................................................... 22 21.  Insured’s Drone Operations ............................................. 23 22.  Insured Products ............................................................. 23 23.  Insurer ............................................................................. 23 24.  25.  Interference to Access & Amenities .................................. 23 26.  Legal Costs ...................................................................... 23 \n"
     ]
    },
    {
     "name": "stdout",
     "output_type": "stream",
     "text": [
      "17-0047d2 EL Full Chubb-v2.pdf\n",
      "COUNT 3\n",
      "PASS\n",
      "CONTENTS INSURING CLAUSE 1   EMPLOYERS' LIABILITIES ..................................1 1.1  Employers’ Liability............................................................ 1 1.2  Other Injury Liability .......................................................... 1 1.3  Data Protection Liability ..................................................... 1 1.4  Defence of Specified Criminal & Other Offences ................ 1 1.5  Retroactive Employers’ Liability ......................................... 1 INSURING CLAUSE 2   EMPLOYERS' LIABILITIES COSTS & EXPENSES ...2 2.1  General Costs & Expenses .................................................. 2 2.2  Data Protection Costs & Expenses ...................................... 2 EXTENSIONS ....................................................3 1.  New & Acquired Companies .............................................. 3 Individual Liability .............................................................. 3 2.  Principal & Other Party Liability  ......................................... 4 3.  Transfer Of Undertakings (TUPE)........................................ 4 4.  Unsatisfied Awards ............................................................ 4 5.  EXCLUSIONS .....................................................5 Inoperative Insuring Clauses & Extensions ......................... 5 1.  2.  Vehicles ............................................................................. 5 3.  Data Costs ......................................................................... 5 4.  Deliberate Acts .................................................................. 5 5.  Fines, Penalties & Punitive Damages .................................. 5 6.  Offshore Working .............................................................. 6 Radioactive Contamination ................................................ 6 7.  CLAIMS CONDITIONS .......................................7 1.  Notice to the Insurer .......................................................... 7 Consent to Incur Costs ....................................................... 7 2.  3.  Co-operation of the Insured ............................................... 8 4.  Defence & Settlement of Claims ......................................... 8 5.  Claims Obligations of the Insurer Following Notice ............ 9 6.  Other Insurance Policies .................................................... 9 Recoveries ......................................................................... 9 7.  Subrogation & Subrogation Waiver .................................. 10 8.  Fraudulent Claims ............................................................ 10 9.  GENERAL CONDITIONS ..................................11 Cancellation .................................................................... 11 1.  Choice of Law & Disputes ................................................. 11 2.  Conditions Precedent ...................................................... 12 3.  Contract (Rights of Third Parties) Act 1999 ....................... 12 4.  Employers’ Liability (Compulsory Insurance) Act 1969 ..... 12 5.  Fair Presentation .............................................................. 12 6.  Fundamental Changes to the Risks Insured ...................... 13 7.  Interpretation .................................................................. 13 8.  Limit of Liability, Sub-Limits & Retention .......................... 13 9.  10.  Premium Adjustments ..................................................... 14 11.  Sanctions Limitation ........................................................ 14 12.  Severability ...................................................................... 14 13.  Warranties ....................................................................... 14 \n",
      "PASS\n",
      "DEFINITIONS ..................................................15 Bodily Injury .................................................................... 15 1.  Breach of Data Protection Statutes ................................... 15 2.  Claim ............................................................................... 15 3.  Claimant Costs ................................................................ 15 4.  Claim Support Costs ........................................................ 15 5.  Compensation ................................................................. 16 6.  7.  Court & Inquiry Attendance Costs .................................... 16 8.  Data Breach Notification Costs ......................................... 16 9.  Data Breach Support Services Costs ................................ 16 10.  Employee ........................................................................ 16 11.  Employers’ Liabilities Costs & Expenses ........................... 16 Information Commissioner .............................................. 16 12.  Insured ............................................................................ 17 13.  Insured’s Business ........................................................... 17 14.  15.  Insurer ............................................................................. 17 16.  Legal Costs ...................................................................... 17 17.  Liability Loss .................................................................... 17 18.  Limit of Liability ................................................................ 17 19.  Motor Vehicle .................................................................. 17 20.  Offshore Working ............................................................ 17 21.  Other Injury ..................................................................... 17 22.  Period of Insurance  ......................................................... 17 23.  Personal Data Breach ....................................................... 18 24.  Policyholder .................................................................... 18 25.  Prosecution Defence Costs .............................................. 18 26.  Public Relations Crisis Management Costs ....................... 18 27.  Responsible Person ......................................................... 18 28.  Retention ......................................................................... 18 29.  Single Liability Loss .......................................................... 18 30.  Specified Criminal & Other Offences   .............................. 18 31.  Specified Insured ............................................................. 18 32.  Sub-Limits ....................................................................... 18 33.  Territorial Limits ............................................................... 18 34.  Terrorism ......................................................................... 18 CLAIMS NOTIFICATION CONTACTS ................19 DATA PROTECTION .........................................20 COMPLAINTS PROCEDURE ............................21 \n",
      "17-0047d1 MDBI Full Chubb-v2.pdf\n",
      "COUNT 4\n",
      "PASS\n",
      "CONTENTS CLAIMS CONDITIONS .......................................9 1.  Notice to the Insurer .......................................................... 9 2.  Insurer’s Consent to Incur Costs......................................... 9 3.  Other Interests................................................................... 9 Reasonable Precautions ..................................................... 9 4.  Insurer’s Rights after Notice ............................................. 10 5.  Branded Goods ................................................................ 10 6.  Evidence of Loss .............................................................. 10 7.  Basis of Claims Settlement & Accumulated Stocks ........... 10 8.  9.  Claims Obligations of the Insurer following Notice ........... 10 10.  Other Insurance Policies .................................................. 11 11.  Recoveries ....................................................................... 11 12.  Subrogation & Subrogation Waiver .................................. 12 13.  Underinsurance ............................................................... 12 14.  Fraudulent Claims ............................................................ 12 GENERAL CONDITIONS ..................................13 Cancellation .................................................................... 13 1.  Choice of Law & Disputes ................................................. 13 2.  Conditions Precedent ...................................................... 14 3.  Fair Presentation .............................................................. 14 4.  Fundamental Changes to the Risks Insured ...................... 14 5.  Inspection & Alterations ................................................... 14 6.  Interpretation .................................................................. 15 7.  Limit of Liability, Sub-Limits & Retention .......................... 15 8.  9.  Premium Adjustments ..................................................... 15 10.  Rights of Parties & Assignment ........................................ 15 11.  Sanctions Limitation ........................................................ 16 12.  Severability ...................................................................... 16 13.  Warranties ....................................................................... 16 14.  Winding Up, Liquidation & Receivership .......................... 16 15.  Workers on Site................................................................ 16 INSURING CLAUSE 1 MATERIAL DAMAGE ........1 1.1  Property Damage............................................................... 1 1.2  Act of UK Terrorism ............................................................ 1 1.3  Material Damage Costs & Expenses ................................... 1 INSURING CLAUSE 2   BUSINESS INTERRUPTION ................................2 2.1  Business Interruption – Property Damage .......................... 2 2.2  Business Interruption – Act of UK Terrorism ....................... 2 2.3  Business Interruption – Specified Causes ........................... 2 2.4  Business Interruption – Cyber Event .................................. 2 2.5  Business Interruption Costs & Expenses ............................ 2 EXTENSIONS ....................................................3 Capital Additions & Acquisitions ........................................ 3 1.  Contracting Purchaser’s Interest ........................................ 3 2.  Contract Works & Contractors Joint Names  ....................... 3 3.  Fly Tipping Costs ............................................................... 3 4.  Foundations....................................................................... 4 5.  Franchise Fees ................................................................... 4 6.  Inadvertent Omission to Insure .......................................... 4 7.  Lottery & Wager Winners ................................................... 4 8.  9.  Personal Injury Assault ....................................................... 4 10.  Removal of Insect Nests ..................................................... 4 11.  Rented/Leased Buildings Difference in Conditions/ Difference in Limits ............................................................ 4 12.  Unauthorised Occupation .................................................. 4 EXCLUSIONS .....................................................5 Cyber ................................................................................. 5 1.  Excluded Causes ................................................................ 5 2.  Excluded Property ............................................................. 7 3.  Inoperative Insuring Clauses .............................................. 7 4.  Internet Infrastructure Failure ............................................ 7 5.  Pollution ............................................................................ 7 6.  Radioactive Contamination ................................................ 7 7.  Riot & Civil Commotion (Northern Ireland) ........................ 8 8.  9.  Terrorism ........................................................................... 8 10.  War, Riot & Civil Commotion .............................................. 8 \n",
      "PASS\n",
      "DEFINITIONS ..................................................17 Accidental Discharge of Systems...................................... 17 1.  Act of UK Terrorism .......................................................... 17 2.  Additional Increased Cost of Working .............................. 17 3.  Alternative Premises – Non-Waiver of Rent ...................... 17 4.  Assets & Contents ............................................................ 17 5.  Automatic Additions & Acquisitions Threshold ................. 17 6.  Buildings ......................................................................... 17 7.  Business Interruptions Costs & Expenses ......................... 18 8.  9.  Business Interruption Loss ............................................... 18 10.  Claims Preparation Costs ................................................. 18 11.  Cloud Services ................................................................. 18 12.  Computer Equipment ...................................................... 18 13.  Computer Network .......................................................... 18 14.  Contents .......................................................................... 18 15.  Contractual Penalties ....................................................... 18 16.  Contract Works ................................................................ 18 17.  Covered Event ................................................................. 18 18.  Customer, Contractor, Franchise or Supplier’s   Computer Network .......................................................... 18 19.  Customer, Contractor, Franchise or Supplier’s Premises ... 18 20.  Cyber Event ..................................................................... 19 21.  Damage(d) ...................................................................... 19 22.  Debris Removal Costs ...................................................... 19 23.  Debt Tracing & Outstanding Debts................................... 19 24.  Decontamination & Decommissioning Costs ................... 19 25.  Defined Peril .................................................................... 19 26.  Discovery of Archaeology ................................................ 19 27.  Discovery of Sub-Surface Issues ....................................... 19 28.  Documents & Records  ..................................................... 20 29.  Earthquake ...................................................................... 20 30.  Energy Performance & Sustainable Material Costs ........... 20 31.  Environmental Clean-up Costs ......................................... 20 32.  Exhibition Expenses ......................................................... 20 33.  Exhibition Premises ......................................................... 20 34.  Fire Fighting & Fire Suppression Equipment Expenses ..... 20 35.  Flood ............................................................................... 21 36.  Food & Beverage .............................................................. 21 37.  Food Safety Act Investigation ........................................... 21 38.  Further Investigation Costs .............................................. 21 39.  Group Interdependency Damage ..................................... 21 Incompatibility of IT Systems Costs .................................. 21 40.  Increased Cost of Working ............................................... 21 41.  Indemnity Period ............................................................. 21 42.  Infestations & Protected Species ...................................... 21 43.  Injury to Essential Personnel ............................................ 21 44.  Insured ............................................................................ 21 45.  Insured’s Business ........................................................... 22 46.  Insured’s Computer Network ........................................... 22 47.  Insured Event................................................................... 22 48.  Insured Locations............................................................. 22 49.  Insured Profit ................................................................... 22 50.  Insured Profit (Estimated) ................................................ 22 51.  Insurer ............................................................................. 22 52.  Investigation of Crimes and Incidents .............................. 22 53.  Involuntary Betterment Costs .......................................... 22 54.  55.  Land Stabilisation Costs ................................................... 23 56.  Limit of Liability ................................................................ 23 57.  Loss of Attraction ............................................................. 23 58.  Lost Sale Legal Fees.......................................................... 23 59.  Machinery & Computer Equipment Breakdown ............... 23 60.  Maintenance & Service Premises ..................................... 23 61.  Malware ........................................................................... 23 62.  Material Damage Costs & Expenses ................................. 23 63.  Maximum Indemnity Period ............................................. 23 64.  Metered Utility Costs Damage & Unauthorised Use .......... 23 65.  Mitigation & Avoidance Costs .......................................... 23 66.  Money & Securities .......................................................... 23 67.  Motor Vehicles ................................................................. 24 68.  New Replacement Value .................................................. 24 69.  Notifiable Diseases & Other Incidents .............................. 24 70.  Nuclear Installation .......................................................... 24 71.  Nuclear Reactor ............................................................... 24 72.  Offsite Signage & Advertising Boards ............................... 24 73.  Offsite Utilities – Damage ................................................. 24 74.  Offsite Utilities – Non-Damage ......................................... 24 75.  Other Locations ............................................................... 25 76.  Outstanding Debts  ......................................................... 25 77.  Outstanding Debt Balances ............................................. 25 78.  Period of Insurance  ......................................................... 25 79.  Personal Injury ................................................................. 25 80.  Personal Injury Compensation ......................................... 25 81.  Personal Property ............................................................ 25 82.  Plant Hire Charges ........................................................... 25 83.  Plant and Machinery ........................................................ 25 84.  Policyholder .................................................................... 25 85.  Pollution .......................................................................... 25 86.  Prevention of Access – Damage ....................................... 25 87.  Prevention of Access Non-Damage .................................. 25 88.  Professional Fees ............................................................. 25 89.  Property Insured .............................................................. 25 90.  Property Loss ................................................................... 26 91.  Provider ........................................................................... 27 92.  Public Relations Crisis Management Costs ....................... 27 93.  Reduction in Turnover ...................................................... 27 94.  Reinstatement of Public Infrastructure Costs ................... 27 95.  Regulatory & Public Authority Compliance Costs ............. 27 96.  Re-letting Costs ............................................................... 28 97.  Rent Receivable ............................................................... 28 98.  Rent Payable .................................................................... 28 99.  Replacement Key & Lock Costs ........................................ 28 100.  Research & Development Expenditure ............................. 28 101.  Resilient Repair Costs ...................................................... 28 102.  Responsible Person ......................................................... 28 103.  Retention ......................................................................... 28 104.  Rewards Costs ................................................................. 28 105.  Single Business Interruption Loss ..................................... 28 106.  Single Property Loss......................................................... 29 107.  Standard Turnover ........................................................... 29 108.  Stock ............................................................................... 29 109.  Storm .............................................................................. 29 110.  Sub-Limits ....................................................................... 29 \n",
      "PASS\n",
      "111.  Supply Chain & Contract Sites .......................................... 29 112.  Territorial Limits ............................................................... 29 113.  Terrorism ......................................................................... 29 114.  Trace & Access Costs ........................................................ 29 115.  Transit .............................................................................. 30 116.  Turnover .......................................................................... 30 117.  Unforeseen Archaeology & Sub Surface Issues Costs........ 30 118.  Unrecoverable Value Added Tax ....................................... 30 119.  Verification & Reconstitution Costs .................................. 30 120.  Vicinity ............................................................................ 30 121.  Works of Art ..................................................................... 30 CLAIMS NOTIFICATION CONTACTS ................31 DATA PROTECTION .........................................32 COMPLAINTS PROCEDURE ............................33 \n"
     ]
    },
    {
     "name": "stdout",
     "output_type": "stream",
     "text": [
      "17-0047d3 PL Full Chubb-v2.pdf\n",
      "COUNT 5\n",
      "PASS\n",
      "CONTENTS INSURING CLAUSE 1   GENERAL LIABILITIES .......................................1 1.1  Public Liability ................................................................... 1 1.2  Data Protection Liability ..................................................... 1 1.3  Products Liability ............................................................... 1 1.4  Third Party Product Recall Liability ..................................... 1 1.5  Drone Liability ................................................................... 1 1.6  Advertising Liability ........................................................... 1 1.7  Defence of Specified Criminal & Other Offences ................ 2 1.8  Sudden Pollution Liability .................................................. 2 INSURING CLAUSE 2   OTHER LIABILITIES ...........................................2 2.1  Accidental Discovery of Asbestos Liability .......................... 2 2.2  Financial Loss Liability ........................................................ 2 2.3  Legionella Run Off Liability ................................................. 2 INSURING CLAUSE 3   GENERAL & OTHER LIABILITIES   COSTS & EXPENSES ..........................................3 3.1  General Costs & Expenses .................................................. 3 3.2  Sudden Pollution Costs & Expenses ................................... 3 3.3  Data Protection Costs & Expenses ...................................... 3 EXTENSIONS ....................................................4 1.  New & Acquired Companies .............................................. 4 2.  Individual Liability .............................................................. 4 3.  Motor Contingent Liability ................................................. 5 4.  Motor Excess Liability ........................................................ 5 Personal Liability ................................................................ 5 5.  Principal & Other Party Liability.......................................... 5 6.  EXCLUSIONS .....................................................6 Advice Design & Specification ............................................ 6 1.  Aircraft Products ................................................................ 6 2.  Asbestos ............................................................................ 6 3.  Custody & Control ............................................................. 6 4.  5.  Defective Products & Recall ............................................... 6 6.  Deliberate Acts .................................................................. 7 Employers’ Liability............................................................ 7 7.  Fines, Penalties & Punitive Damages .................................. 7 8.  9.  Inoperative Insuring Clauses & Extensions ......................... 7 10.  Radioactive Contamination ................................................ 7 11.  Seepage Pollution & Contamination   (Occurring Outside of North America) ............................... 8 12.  Seepage Pollution & Contamination   (Occurring Within North America) ..................................... 8 13.  Vehicles ............................................................................. 8 14.  War .................................................................................... 8 15.  Watercraft & Aircraft .......................................................... 8 16.  Offshore Working .............................................................. 9 17.  Data Costs ......................................................................... 9 18.  Product Deterioration ........................................................ 9 19.  Product Procedure Failure .................................................. 9 20.  Government Regulation..................................................... 9 21.  Contractual Liability ........................................................... 9 22.  USA Claims ........................................................................ 9 23.  Price Quality & Performance ............................................ 10 24.  Cross Liabilities ................................................................ 10 25.  Real Property Values ........................................................ 10 26.  Labour Disturbances ........................................................ 10 27.  Other Liability .................................................................. 10 28.  Patents ............................................................................ 10 29.  Statutory Authorities ........................................................ 10 30.  Previous Claims & Circumstances .................................... 11 31.  Damage to Motor Vehicle & Other Insurance ................... 11 32.  Damage to Motor Vehicle ................................................ 11 33.  Land Buildings & Other Insurance .................................... 11 \n",
      "PASS\n",
      "27.  Legionella Incident .......................................................... 23 28.  Liability Loss .................................................................... 23 29.  Limit of Liability ................................................................ 24 30.  Motor Vehicle .................................................................. 24 31.  North America ................................................................. 24 32.  Offshore Working ............................................................ 24 33.  Period of Insurance  ......................................................... 24 34.  Personal Data Breach ....................................................... 24 35.  Policyholder .................................................................... 24 36.  Pollution .......................................................................... 24 37.  Preventative Costs ........................................................... 24 38.  Product Recall.................................................................. 24 39.  Prosecution Defence Costs .............................................. 24 40.  Proven ............................................................................. 24 41.  Public Relations Crisis Management Costs ....................... 24 42.  Responsible Person ......................................................... 24 43.  Retention ......................................................................... 24 44.  Single Compensation Loss ............................................... 24 45.  Single Liability Loss .......................................................... 25 46.  Specified Criminal & Other Offences   .............................. 25 47.  Sub-Limits ....................................................................... 25 48.  Territorial Limits ............................................................... 25 49.  Vendors ........................................................................... 25 CLAIMS NOTIFICATION CONTACTS ................26 DATA PROTECTION .........................................27 COMPLAINTS PROCEDURE ............................28 CLAIMS CONDITIONS .....................................12 1.  Notice to the Insurer ........................................................ 12 Consent to Incur Costs ..................................................... 13 2.  3.  Co-operation of the Insured ............................................. 13 4.  Defence & Settlement of Claims ....................................... 13 5.  Claims Obligations of the Insurer Following Notice .......... 14 6.  Other Insurance Policies .................................................. 15 Recoveries ....................................................................... 15 7.  Subrogation & Subrogation Waiver .................................. 15 8.  9.  Fraudulent Claims ............................................................ 15 10.  Discharge of Liability ........................................................ 15 GENERAL CONDITIONS ..................................16 Cancellation .................................................................... 16 1.  Choice of Law & Disputes ................................................. 16 2.  Conditions Precedent ...................................................... 17 3.  Contract (Rights of Third Parties) Act 1999 ....................... 17 4.  Cross Liabilities ................................................................ 17 5.  Extended Discovery Period .............................................. 17 6.  Fair Presentation .............................................................. 18 7.  Fundamental Changes to the Risks Insured ...................... 18 8.  9.  Interpretation .................................................................. 18 10.  Limit of Liability, Sub-Limits, & Retention ......................... 19 11.  Premium Adjustments ..................................................... 19 12.  Sanctions Limitation ........................................................ 19 13.  Severability ...................................................................... 19 13.  Warranties ....................................................................... 19 DEFINITIONS ..................................................20 Asbestos .......................................................................... 20 1.  Bodily Injury .................................................................... 20 2.  Bodily & Other Injury ....................................................... 20 3.  Breach of Data Protection Statutes ................................... 20 4.  Breach of Specified Statutes ............................................. 20 5.  Claim ............................................................................... 20 6.  Claimant Costs ................................................................ 20 7.  Claims Support Costs....................................................... 20 8.  9.  Compensation ................................................................. 21 10.  Content Injury ................................................................. 21 11.  Court & Inquiry Attendance Costs .................................... 21 12.  Damage(d) ...................................................................... 21 13.  Data Breach Notification Costs ......................................... 21 14.  Data Breach Support Services Costs ................................ 21 15.  Employee ........................................................................ 22 16.  Environmental Clean-up Costs ......................................... 22 17.  Financial Loss ................................................................... 22 18.  General & Other Liabilities Costs & Expenses ................... 22 Information Commissioner .............................................. 22 19.  Insured ............................................................................ 22 20.  Insured’s Business ........................................................... 22 21.  Insured’s Drone Operations ............................................. 23 22.  Insured Products ............................................................. 23 23.  Insurer ............................................................................. 23 24.  25.  Interference to Access & Amenities .................................. 23 26.  Legal Costs ...................................................................... 23 \n"
     ]
    },
    {
     "name": "stdout",
     "output_type": "stream",
     "text": [
      "Chubb Standard Wording SUBDIR!!!!!!!!!!!!!\n",
      "2018  - Excess Combined Liability Policy - XSComb(ROI)_16 (from 25-05-2018 to 31-12-18).pdf\n",
      "COUNT 6\n",
      "PHARMACEUTICALS EXCLUSION (PL Only, Excess Combined) - XDZ (from 06-05-08).pdf\n",
      "COUNT 7\n",
      "2017 - Excess Combined Liability Policy - XSComb(ROI)_15 (from 01-05-17 to 24-05-2018).pdf\n",
      "COUNT 8\n"
     ]
    },
    {
     "name": "stderr",
     "output_type": "stream",
     "text": [
      "/opt/app/RB/.local/lib/python3.6/site-packages/pdfminer/pdfpage.py:140: PDFTextExtractionNotAllowedWarning: The PDF <_io.BufferedReader name='Documents/UK-Casualty/Chubb Standard Wording/2017 - Excess Combined Liability Policy - XSComb(ROI)_15 (from 01-05-17 to 24-05-2018).pdf'> contains a metadata field indicating that it should not allow text extraction. Ignoring this field and proceeding.\n",
      "  warnings.warn(warning_msg, PDFTextExtractionNotAllowedWarning)\n"
     ]
    },
    {
     "name": "stdout",
     "output_type": "stream",
     "text": [
      "PRODUCTS - INEVITABLE DAMAGE EXCLUSION - L21a.pdf\n",
      "COUNT 9\n",
      "Combined Liability Quote (SE - From 01-01-19).pdf\n",
      "COUNT 10\n",
      "RADIOACTIVE AND EXPLOSIVES MATERIAL EXCLUSION (PL and or Motor Only, Excess Combined) - XFK (from 09-04-09).pdf\n",
      "COUNT 11\n",
      "USE OF HEAT EQUIPMENT AWAY FROM PREMISES EXCLUSION - PL - LAI (from 01-01-15).pdf\n",
      "COUNT 12\n",
      "DAMAGE TO UNDERGROUND SERVICES - XAJ.pdf\n",
      "COUNT 13\n",
      "UNMANNED AERIAL VEHICLE EXTENSION – LIMITED COVER - PL - CMN59a.pdf\n",
      "COUNT 14\n",
      "LOSS OF UNDERGROUND RESOURCES (PL Only, XS Comb) - XMW (from 01-05-19).pdf\n",
      "COUNT 15\n",
      "AVIAN INFLUENZA EXCLUSION - XCE.pdf\n",
      "COUNT 16\n",
      "2019 MN Partner Casualty_6 (SE - From 01-01-19).pdf\n",
      "COUNT 17\n"
     ]
    },
    {
     "name": "stderr",
     "output_type": "stream",
     "text": [
      "/opt/app/RB/.local/lib/python3.6/site-packages/pdfminer/pdfpage.py:140: PDFTextExtractionNotAllowedWarning: The PDF <_io.BufferedReader name='Documents/UK-Casualty/Chubb Standard Wording/2019 MN Partner Casualty_6 (SE - From 01-01-19).pdf'> contains a metadata field indicating that it should not allow text extraction. Ignoring this field and proceeding.\n",
      "  warnings.warn(warning_msg, PDFTextExtractionNotAllowedWarning)\n"
     ]
    },
    {
     "name": "stdout",
     "output_type": "stream",
     "text": [
      "COVERAGE PRIOR TO SIGHT OF PRIMARY WORDING - XBH (from 18-07-07 to 31-12-07).pdf\n",
      "COUNT 18\n",
      "2016 - Primary Clinical Trials Policy (Multinational) - CTPrim(MN)(ROI)_1.pdf\n",
      "COUNT 19\n"
     ]
    },
    {
     "name": "stderr",
     "output_type": "stream",
     "text": [
      "/opt/app/RB/.local/lib/python3.6/site-packages/pdfminer/pdfpage.py:140: PDFTextExtractionNotAllowedWarning: The PDF <_io.BufferedReader name='Documents/UK-Casualty/Chubb Standard Wording/2016 - Primary Clinical Trials Policy (Multinational) - CTPrim(MN)(ROI)_1.pdf'> contains a metadata field indicating that it should not allow text extraction. Ignoring this field and proceeding.\n",
      "  warnings.warn(warning_msg, PDFTextExtractionNotAllowedWarning)\n"
     ]
    },
    {
     "name": "stdout",
     "output_type": "stream",
     "text": [
      "2012 - Primary Liability Policy (Limited Cover) - CasPrimlimited(ROI)_3.pdf\n",
      "COUNT 20\n"
     ]
    },
    {
     "name": "stderr",
     "output_type": "stream",
     "text": [
      "/opt/app/RB/.local/lib/python3.6/site-packages/pdfminer/pdfpage.py:140: PDFTextExtractionNotAllowedWarning: The PDF <_io.BufferedReader name='Documents/UK-Casualty/Chubb Standard Wording/2012 - Primary Liability Policy (Limited Cover) - CasPrimlimited(ROI)_3.pdf'> contains a metadata field indicating that it should not allow text extraction. Ignoring this field and proceeding.\n",
      "  warnings.warn(warning_msg, PDFTextExtractionNotAllowedWarning)\n"
     ]
    },
    {
     "name": "stdout",
     "output_type": "stream",
     "text": [
      "Inefficacy Exclusion - Design - XAD v1 (Aon_XS_Comb_Liab 10-18).pdf\n",
      "COUNT 21\n",
      "AIRSIDE WORK EXCLUSION - PL - L23a.pdf\n",
      "COUNT 22\n",
      "FINANCIAL LOSS EXTENSION - PL - LDTb - from 06112018.pdf\n",
      "COUNT 23\n",
      "DIFFERENCE IN LIMITS - PL - LBL (from 10-03-11).pdf\n",
      "COUNT 24\n",
      "USA, CANADA DEDUCTIBLE CLAUSE - PL - L82 (from 02-05-2007).pdf\n",
      "COUNT 25\n",
      "LOSS OF UNDERGROUND RESOURCES EXCLUSION - PL - LCB (to 30-04-09).pdf\n",
      "COUNT 26\n",
      "CLAIMS MADE RETRO EXTENSION - PL - L52a (insert period, commencement date of policy).pdf\n",
      "COUNT 27\n",
      "Warehouse Keepers Exclusion - XBC v1 (Aon_XS_Comb_Liab 10-18).pdf\n",
      "COUNT 28\n",
      "POLLUTION - INDUSTRIES, SEEPAGE, POLLUTION AND CONTAMINATION EXCLUSION (NMA1686) - X44.pdf\n",
      "COUNT 29\n",
      "2009 - 2010 - Primary Liability Policy (Enhanced Cover, if this is specifically quoted) - CasPrim(ROI)_8 (from 01-05-09).pdf\n",
      "COUNT 30\n"
     ]
    },
    {
     "name": "stderr",
     "output_type": "stream",
     "text": [
      "/opt/app/RB/.local/lib/python3.6/site-packages/pdfminer/pdfpage.py:140: PDFTextExtractionNotAllowedWarning: The PDF <_io.BufferedReader name='Documents/UK-Casualty/Chubb Standard Wording/2009 - 2010 - Primary Liability Policy (Enhanced Cover, if this is specifically quoted) - CasPrim(ROI)_8 (from 01-05-09).pdf'> contains a metadata field indicating that it should not allow text extraction. Ignoring this field and proceeding.\n",
      "  warnings.warn(warning_msg, PDFTextExtractionNotAllowedWarning)\n"
     ]
    },
    {
     "name": "stdout",
     "output_type": "stream",
     "text": [
      "Event Organisers conditions (including power supply) specified limit - IAO.pdf\n",
      "COUNT 31\n",
      "POLLUTION AND CONTAMINATION CLEAN UP - LFM (to 27-09-09).pdf\n",
      "COUNT 32\n",
      "2011 - 2012 - Excess Clinical Trial - CTXS(CM)_4 (from 01-10-11 to 30-09-12).pdf\n",
      "COUNT 33\n"
     ]
    },
    {
     "name": "stderr",
     "output_type": "stream",
     "text": [
      "/opt/app/RB/.local/lib/python3.6/site-packages/pdfminer/pdfpage.py:140: PDFTextExtractionNotAllowedWarning: The PDF <_io.BufferedReader name='Documents/UK-Casualty/Chubb Standard Wording/2011 - 2012 - Excess Clinical Trial - CTXS(CM)_4 (from 01-10-11 to 30-09-12).pdf'> contains a metadata field indicating that it should not allow text extraction. Ignoring this field and proceeding.\n",
      "  warnings.warn(warning_msg, PDFTextExtractionNotAllowedWarning)\n"
     ]
    },
    {
     "name": "stdout",
     "output_type": "stream",
     "text": [
      "DIFFERENCE IN CONDITIONS + DIFFERENCE IN LIMITS - PL - LDJ (from 10-03-11).pdf\n",
      "COUNT 34\n",
      "2019 XSComb_18 (SE - From 01-01-19).pdf\n",
      "COUNT 35\n"
     ]
    },
    {
     "name": "stderr",
     "output_type": "stream",
     "text": [
      "/opt/app/RB/.local/lib/python3.6/site-packages/pdfminer/pdfpage.py:140: PDFTextExtractionNotAllowedWarning: The PDF <_io.BufferedReader name='Documents/UK-Casualty/Chubb Standard Wording/2019 XSComb_18 (SE - From 01-01-19).pdf'> contains a metadata field indicating that it should not allow text extraction. Ignoring this field and proceeding.\n",
      "  warnings.warn(warning_msg, PDFTextExtractionNotAllowedWarning)\n"
     ]
    },
    {
     "name": "stdout",
     "output_type": "stream",
     "text": [
      "ABSOLUTE FAILURE TO SUPPLY - PL - L61 - To 31-01-06 - now Failure to Supply.pdf\n",
      "COUNT 36\n",
      "BONA FIDE SUBCONTRACTORS (EQUIVALENT COVER) - PL - LBWa.pdf\n",
      "COUNT 37\n",
      "Carnival Float Condition - IAF.pdf\n",
      "COUNT 38\n",
      "2019 CasXS(CM)_15 (SE - From 01-01-19).pdf\n",
      "COUNT 39\n"
     ]
    },
    {
     "name": "stderr",
     "output_type": "stream",
     "text": [
      "/opt/app/RB/.local/lib/python3.6/site-packages/pdfminer/pdfpage.py:140: PDFTextExtractionNotAllowedWarning: The PDF <_io.BufferedReader name='Documents/UK-Casualty/Chubb Standard Wording/2019 CasXS(CM)_15 (SE - From 01-01-19).pdf'> contains a metadata field indicating that it should not allow text extraction. Ignoring this field and proceeding.\n",
      "  warnings.warn(warning_msg, PDFTextExtractionNotAllowedWarning)\n"
     ]
    },
    {
     "name": "stdout",
     "output_type": "stream",
     "text": [
      "2019 CasPrim(FPP)_6 (SE - From 01-01-19).pdf\n",
      "COUNT 40\n"
     ]
    },
    {
     "name": "stderr",
     "output_type": "stream",
     "text": [
      "/opt/app/RB/.local/lib/python3.6/site-packages/pdfminer/pdfpage.py:140: PDFTextExtractionNotAllowedWarning: The PDF <_io.BufferedReader name='Documents/UK-Casualty/Chubb Standard Wording/2019 CasPrim(FPP)_6 (SE - From 01-01-19).pdf'> contains a metadata field indicating that it should not allow text extraction. Ignoring this field and proceeding.\n",
      "  warnings.warn(warning_msg, PDFTextExtractionNotAllowedWarning)\n"
     ]
    },
    {
     "name": "stdout",
     "output_type": "stream",
     "text": [
      "2019 MN Global Accounts Casualty OS_6 (SE - From 01-01-19).pdf\n",
      "COUNT 41\n"
     ]
    },
    {
     "name": "stderr",
     "output_type": "stream",
     "text": [
      "/opt/app/RB/.local/lib/python3.6/site-packages/pdfminer/pdfpage.py:140: PDFTextExtractionNotAllowedWarning: The PDF <_io.BufferedReader name='Documents/UK-Casualty/Chubb Standard Wording/2019 MN Global Accounts Casualty OS_6 (SE - From 01-01-19).pdf'> contains a metadata field indicating that it should not allow text extraction. Ignoring this field and proceeding.\n",
      "  warnings.warn(warning_msg, PDFTextExtractionNotAllowedWarning)\n"
     ]
    },
    {
     "name": "stdout",
     "output_type": "stream",
     "text": [
      "COVERAGE PRIOR TO SIGHT OF PRIMARY WORDING (for XS Combined only) - XBS (from 01-01-06 to 31-12-06).pdf\n",
      "COUNT 42\n",
      "2019 CasXS_16 (SE - From 01-01-19).pdf\n",
      "COUNT 43\n"
     ]
    },
    {
     "name": "stderr",
     "output_type": "stream",
     "text": [
      "/opt/app/RB/.local/lib/python3.6/site-packages/pdfminer/pdfpage.py:140: PDFTextExtractionNotAllowedWarning: The PDF <_io.BufferedReader name='Documents/UK-Casualty/Chubb Standard Wording/2019 CasXS_16 (SE - From 01-01-19).pdf'> contains a metadata field indicating that it should not allow text extraction. Ignoring this field and proceeding.\n",
      "  warnings.warn(warning_msg, PDFTextExtractionNotAllowedWarning)\n"
     ]
    },
    {
     "name": "stdout",
     "output_type": "stream",
     "text": [
      "TERRITORIAL LIMITS EXTENSION – EMPLOYERS’ LIABILITY - LEM (from 01-08-16).pdf\n",
      "COUNT 44\n",
      "EXCESS MOTOR SPLIT ATTACHMENT - XCC (ROI).pdf\n",
      "COUNT 45\n",
      "Mental Injury Anguish and Shock - XBT v1 (Aon_XS_Comb_Liab 10-18).pdf\n",
      "COUNT 46\n"
     ]
    },
    {
     "name": "stderr",
     "output_type": "stream",
     "text": [
      "/opt/app/RB/.local/lib/python3.6/site-packages/pdfminer/pdfpage.py:140: PDFTextExtractionNotAllowedWarning: The PDF <_io.BufferedReader name='Documents/UK-Casualty/Chubb Standard Wording/EXCESS MOTOR SPLIT ATTACHMENT - XCC (ROI).pdf'> contains a metadata field indicating that it should not allow text extraction. Ignoring this field and proceeding.\n",
      "  warnings.warn(warning_msg, PDFTextExtractionNotAllowedWarning)\n"
     ]
    },
    {
     "name": "stdout",
     "output_type": "stream",
     "text": [
      "360 UK Nat Multinat Differences between Versions of Schedule Table.pdf\n",
      "COUNT 47\n",
      "2014 - Casualty Excess Claims Made Form - CasXS(CM)(ROI)_11.pdf\n",
      "COUNT 48\n"
     ]
    },
    {
     "name": "stderr",
     "output_type": "stream",
     "text": [
      "/opt/app/RB/.local/lib/python3.6/site-packages/pdfminer/pdfpage.py:140: PDFTextExtractionNotAllowedWarning: The PDF <_io.BufferedReader name='Documents/UK-Casualty/Chubb Standard Wording/2014 - Casualty Excess Claims Made Form - CasXS(CM)(ROI)_11.pdf'> contains a metadata field indicating that it should not allow text extraction. Ignoring this field and proceeding.\n",
      "  warnings.warn(warning_msg, PDFTextExtractionNotAllowedWarning)\n"
     ]
    },
    {
     "name": "stdout",
     "output_type": "stream",
     "text": [
      "POLLUTION - TOTAL EXCLUSION - PL - L69.pdf\n",
      "COUNT 49\n",
      "2011 - Primary Liability Policy (Enhanced Cover, if this is specifically quoted) - CasPrim(ROI)_9.pdf\n",
      "COUNT 50\n"
     ]
    },
    {
     "name": "stderr",
     "output_type": "stream",
     "text": [
      "/opt/app/RB/.local/lib/python3.6/site-packages/pdfminer/pdfpage.py:140: PDFTextExtractionNotAllowedWarning: The PDF <_io.BufferedReader name='Documents/UK-Casualty/Chubb Standard Wording/2011 - Primary Liability Policy (Enhanced Cover, if this is specifically quoted) - CasPrim(ROI)_9.pdf'> contains a metadata field indicating that it should not allow text extraction. Ignoring this field and proceeding.\n",
      "  warnings.warn(warning_msg, PDFTextExtractionNotAllowedWarning)\n"
     ]
    },
    {
     "name": "stdout",
     "output_type": "stream",
     "text": [
      "CAR PARK LIABILITY CLAUSE - PUBLIC CAR PARK - PL - L50a.pdf\n",
      "COUNT 51\n",
      "2015 - Casualty Excess Claims Made Form - CasXS(CM)(ROI)_12.pdf\n",
      "COUNT 52\n"
     ]
    },
    {
     "name": "stderr",
     "output_type": "stream",
     "text": [
      "/opt/app/RB/.local/lib/python3.6/site-packages/pdfminer/pdfpage.py:140: PDFTextExtractionNotAllowedWarning: The PDF <_io.BufferedReader name='Documents/UK-Casualty/Chubb Standard Wording/2015 - Casualty Excess Claims Made Form - CasXS(CM)(ROI)_12.pdf'> contains a metadata field indicating that it should not allow text extraction. Ignoring this field and proceeding.\n",
      "  warnings.warn(warning_msg, PDFTextExtractionNotAllowedWarning)\n"
     ]
    },
    {
     "name": "stdout",
     "output_type": "stream",
     "text": [
      "HOTEL PROPRIETORS ACT (NI) 1958 - LDDa.pdf\n",
      "COUNT 53\n",
      "TERRORISM EXCLUSION  - EL - LBB (up to 31.01.06).pdf\n",
      "COUNT 54\n",
      "THIRD PARTY PROPERTY DAMAGE EXCESS - PL - CMN27a.pdf\n",
      "COUNT 55\n",
      "USE OF HEAT AWAY FROM THE PREMISES - XAB (from 01-01-15).pdf\n",
      "COUNT 56\n",
      "USE OF HEAT AWAY FROM THE PREMISES - PL - LAB (from 01-05-09 to 05-01-12).pdf\n",
      "COUNT 57\n",
      "POLLUTION - USA-CANADA - NMA 1686_REST OF THE WORLD - NMA 1685 - X50.pdf\n",
      "COUNT 58\n",
      "MENTAL INJURY ANGUISH AND SHOCK (PL Only, Excess Combined) - XDU (from 06-05-08).pdf\n",
      "COUNT 59\n",
      "EXCESS MOTOR SPLIT ATTACHMENT - XCC.pdf\n",
      "COUNT 60\n",
      "2007 - Select Excess Umbrella Liability Policy (DIL Version) - SelectXs(ROI)(DIL)_5.pdf\n",
      "COUNT 61\n"
     ]
    },
    {
     "name": "stderr",
     "output_type": "stream",
     "text": [
      "/opt/app/RB/.local/lib/python3.6/site-packages/pdfminer/pdfpage.py:140: PDFTextExtractionNotAllowedWarning: The PDF <_io.BufferedReader name='Documents/UK-Casualty/Chubb Standard Wording/2007 - Select Excess Umbrella Liability Policy (DIL Version) - SelectXs(ROI)(DIL)_5.pdf'> contains a metadata field indicating that it should not allow text extraction. Ignoring this field and proceeding.\n",
      "  warnings.warn(warning_msg, PDFTextExtractionNotAllowedWarning)\n"
     ]
    },
    {
     "name": "stdout",
     "output_type": "stream",
     "text": [
      "Excess PL Quinn endts - ROI - XQB - to be attached in all cases.pdf\n",
      "COUNT 62\n"
     ]
    },
    {
     "name": "stderr",
     "output_type": "stream",
     "text": [
      "/opt/app/RB/.local/lib/python3.6/site-packages/pdfminer/pdfpage.py:140: PDFTextExtractionNotAllowedWarning: The PDF <_io.BufferedReader name='Documents/UK-Casualty/Chubb Standard Wording/Excess PL Quinn endts - ROI - XQB - to be attached in all cases.pdf'> contains a metadata field indicating that it should not allow text extraction. Ignoring this field and proceeding.\n",
      "  warnings.warn(warning_msg, PDFTextExtractionNotAllowedWarning)\n"
     ]
    },
    {
     "name": "stdout",
     "output_type": "stream",
     "text": [
      "2009 - 2012 - Non-Negligent Damage Liability for Contractors - JCT_SP_C (ROI)_3 (to 14-02-12).pdf\n",
      "COUNT 63\n"
     ]
    },
    {
     "name": "stderr",
     "output_type": "stream",
     "text": [
      "/opt/app/RB/.local/lib/python3.6/site-packages/pdfminer/pdfpage.py:140: PDFTextExtractionNotAllowedWarning: The PDF <_io.BufferedReader name='Documents/UK-Casualty/Chubb Standard Wording/2009 - 2012 - Non-Negligent Damage Liability for Contractors - JCT_SP_C (ROI)_3 (to 14-02-12).pdf'> contains a metadata field indicating that it should not allow text extraction. Ignoring this field and proceeding.\n",
      "  warnings.warn(warning_msg, PDFTextExtractionNotAllowedWarning)\n"
     ]
    },
    {
     "name": "stdout",
     "output_type": "stream",
     "text": [
      "MEDICAL SERVICES EXCLUSION - XFT (PL only, Excess Combined) (from 27-03-15 to 15-04-19).pdf\n",
      "COUNT 64\n",
      "COMBINED SINGLE LIMIT (for XS Combined only) - XAY.pdf\n",
      "COUNT 65\n",
      "TOBACCO PRODUCT EXCLUSION - PL - L63a.pdf\n",
      "COUNT 66\n",
      "SILICA EXCLUSION - XCA.pdf\n",
      "COUNT 67\n",
      "USA, CANADA - DIRECT EXPORTS EXCLUSION - PL - LAC (not for CasPrim(FOS)).pdf\n",
      "COUNT 68\n",
      "2006 - Umbrella Excess Liability Scheme Wdg - Umbrella_2 - valid from 1-1-06.pdf\n",
      "COUNT 69\n"
     ]
    },
    {
     "name": "stderr",
     "output_type": "stream",
     "text": [
      "/opt/app/RB/.local/lib/python3.6/site-packages/pdfminer/pdfpage.py:140: PDFTextExtractionNotAllowedWarning: The PDF <_io.BufferedReader name='Documents/UK-Casualty/Chubb Standard Wording/2006 - Umbrella Excess Liability Scheme Wdg - Umbrella_2 - valid from 1-1-06.pdf'> contains a metadata field indicating that it should not allow text extraction. Ignoring this field and proceeding.\n",
      "  warnings.warn(warning_msg, PDFTextExtractionNotAllowedWarning)\n"
     ]
    },
    {
     "name": "stdout",
     "output_type": "stream",
     "text": [
      "2013 - Non-Negligent Damage Liability for Contractors - JCT_SP_C (ROI)_5 (from 15-10-13).pdf\n",
      "COUNT 70\n"
     ]
    },
    {
     "name": "stderr",
     "output_type": "stream",
     "text": [
      "/opt/app/RB/.local/lib/python3.6/site-packages/pdfminer/pdfpage.py:140: PDFTextExtractionNotAllowedWarning: The PDF <_io.BufferedReader name='Documents/UK-Casualty/Chubb Standard Wording/2013 - Non-Negligent Damage Liability for Contractors - JCT_SP_C (ROI)_5 (from 15-10-13).pdf'> contains a metadata field indicating that it should not allow text extraction. Ignoring this field and proceeding.\n",
      "  warnings.warn(warning_msg, PDFTextExtractionNotAllowedWarning)\n"
     ]
    },
    {
     "name": "stdout",
     "output_type": "stream",
     "text": [
      "OFFSHORE WORK EXCLUSION (PL, Excess Combined) - XDY (from 06-05-08 to 30-04-09).pdf\n",
      "COUNT 71\n",
      "EXCESS - PL - LDX.pdf\n",
      "COUNT 72\n",
      "BONFIRE, FIREWORK DISPLAYS - PL - LCJ (to 30-04-09).pdf\n",
      "COUNT 73\n",
      "360 Multinational Liab Schedule - Version 3 (Jan 2019).pdf\n",
      "COUNT 74\n",
      "Information Exclusion - X38 v1 (Aon_XS_Comb_Liab 10-18).pdf\n",
      "COUNT 75\n",
      "SANCTIONS EXCLUSION - XFO (from 04-01-11).pdf\n",
      "COUNT 76\n",
      "Loss of Yield Exclusion - XFA v1 (Aon_XS_Comb_Liab 10-18).pdf\n",
      "COUNT 77\n",
      "360 UK National and Multinational Mid Term Endorsement Template.pdf\n",
      "COUNT 78\n",
      "COVERAGE PRIOR TO SIGHT OF PRIMARY WORDING (for XS Combined only) - XBS (from 01-01-07 to 17-07-07).pdf\n",
      "COUNT 79\n",
      "MOTOR EXCLUSION (for SelectXS only) - XBZ.pdf\n",
      "COUNT 80\n",
      "OFFSHORE WORK CLAUSE - EL - L72 (to 30-04-09).pdf\n",
      "COUNT 81\n",
      "PRODUCTS - INEVITABLE DAMAGE EXCLUSION - L21.pdf\n",
      "COUNT 82\n",
      "CLAIMS MADE RETRO EXTENSION - PL - L52 (to 06-01-11).pdf\n",
      "COUNT 83\n",
      "2016 - Excess Combined Liability Policy - XSComb(ROI)_14 (from 01-11-16 to 30-04-17).pdf\n",
      "COUNT 84\n"
     ]
    },
    {
     "name": "stderr",
     "output_type": "stream",
     "text": [
      "/opt/app/RB/.local/lib/python3.6/site-packages/pdfminer/pdfpage.py:140: PDFTextExtractionNotAllowedWarning: The PDF <_io.BufferedReader name='Documents/UK-Casualty/Chubb Standard Wording/2016 - Excess Combined Liability Policy - XSComb(ROI)_14 (from 01-11-16 to 30-04-17).pdf'> contains a metadata field indicating that it should not allow text extraction. Ignoring this field and proceeding.\n",
      "  warnings.warn(warning_msg, PDFTextExtractionNotAllowedWarning)\n"
     ]
    },
    {
     "name": "stdout",
     "output_type": "stream",
     "text": [
      "Cancellation Condition Amendment - L118a.pdf\n",
      "COUNT 85\n",
      "2008 - 2009 - Select Excess Umbrella Liability Policy (Full Limit Version) - SelectXs(ROI)(Full)_6 (to 30-04-09).pdf\n",
      "COUNT 86\n"
     ]
    },
    {
     "name": "stderr",
     "output_type": "stream",
     "text": [
      "/opt/app/RB/.local/lib/python3.6/site-packages/pdfminer/pdfpage.py:140: PDFTextExtractionNotAllowedWarning: The PDF <_io.BufferedReader name='Documents/UK-Casualty/Chubb Standard Wording/2008 - 2009 - Select Excess Umbrella Liability Policy (Full Limit Version) - SelectXs(ROI)(Full)_6 (to 30-04-09).pdf'> contains a metadata field indicating that it should not allow text extraction. Ignoring this field and proceeding.\n",
      "  warnings.warn(warning_msg, PDFTextExtractionNotAllowedWarning)\n"
     ]
    },
    {
     "name": "stdout",
     "output_type": "stream",
     "text": [
      "POLLUTION - TOTAL EXCLUSION - PL - L69a.pdf\n",
      "COUNT 87\n",
      "Belligerent Acts Exclusion - IAB.pdf\n",
      "COUNT 88\n",
      "ATHLETIC PARTICIPANTS EXCLUSION - PL - L62a.pdf\n",
      "COUNT 89\n",
      "RIGHTS OF RECOURSE - PL ONLY - (Excess Combined Policies) - XCP (from 18-04-08).pdf\n",
      "COUNT 90\n",
      "2008 - 2009 - Select Excess Umbrella Liability Policy (DIL Version) - SelectXs(ROI)(DIL)_6 (to 30-04-09).pdf\n",
      "COUNT 91\n"
     ]
    },
    {
     "name": "stderr",
     "output_type": "stream",
     "text": [
      "/opt/app/RB/.local/lib/python3.6/site-packages/pdfminer/pdfpage.py:140: PDFTextExtractionNotAllowedWarning: The PDF <_io.BufferedReader name='Documents/UK-Casualty/Chubb Standard Wording/2008 - 2009 - Select Excess Umbrella Liability Policy (DIL Version) - SelectXs(ROI)(DIL)_6 (to 30-04-09).pdf'> contains a metadata field indicating that it should not allow text extraction. Ignoring this field and proceeding.\n",
      "  warnings.warn(warning_msg, PDFTextExtractionNotAllowedWarning)\n"
     ]
    },
    {
     "name": "stdout",
     "output_type": "stream",
     "text": [
      "MEDICAL SERVICES EXCLUSION - XFTa (PL only, Excess Combined) (from 16-04-19).pdf\n",
      "COUNT 92\n",
      "MAINTENANCE OF VEHICLES - PL - LBFa.pdf\n",
      "COUNT 93\n",
      "Medical Malpractice and Treatment Exclusion - XDT v1 (Aon_XS_Comb_Liab 10-18).pdf\n",
      "COUNT 94\n",
      "HOTEL PROPRIETORS ACT 1956 - PL - CMN14a.pdf\n",
      "COUNT 95\n",
      "MEDICAL SERVICES EXCLUSION - PL - LGBa.pdf\n",
      "COUNT 96\n",
      "Non Legal Liability Damage to Property - IBG.pdf\n",
      "COUNT 97\n",
      "2016 - Casualty Excess Claims Made Form - CasXS(CM)(ROI)_14 (from 01-11-16 to 30-04-17).pdf\n",
      "COUNT 98\n"
     ]
    },
    {
     "name": "stderr",
     "output_type": "stream",
     "text": [
      "/opt/app/RB/.local/lib/python3.6/site-packages/pdfminer/pdfpage.py:140: PDFTextExtractionNotAllowedWarning: The PDF <_io.BufferedReader name='Documents/UK-Casualty/Chubb Standard Wording/2016 - Casualty Excess Claims Made Form - CasXS(CM)(ROI)_14 (from 01-11-16 to 30-04-17).pdf'> contains a metadata field indicating that it should not allow text extraction. Ignoring this field and proceeding.\n",
      "  warnings.warn(warning_msg, PDFTextExtractionNotAllowedWarning)\n"
     ]
    },
    {
     "name": "stdout",
     "output_type": "stream",
     "text": [
      "TOXIC MOULD EXCLUSION - PL - LCG.pdf\n",
      "COUNT 99\n",
      "FINANCIAL LOSS EXTENSION - Inner Limit - PL - L89 - From 01-02-06 To 25-01-07.pdf\n",
      "COUNT 100\n",
      "SILICA, DUST AND PARTICULATE MATTER EXCLUSION (EL or PL Only, Excess Combined) - XEL (from 06-05-08).pdf\n",
      "COUNT 101\n",
      "LOSS OF YIELD EXCLUSION - XFB (PL only, Excess Combined) (from 13-05-08).pdf\n",
      "COUNT 102\n",
      "SUBROGATION WAIVER (PARENT) - EL,PL - L41a.pdf\n",
      "COUNT 103\n",
      "SILICA, DUST AND PARTICULATE MATTER EXCLUSION - LDLa.pdf\n",
      "COUNT 104\n",
      "CONSTRUCTION (NEW BUILDINGS) - EL,PL - L36 (to 30-04-09).pdf\n",
      "COUNT 105\n",
      "TOBACCO PRODUCT EXCLUSION (PL Only, Excess Combined) - XEN (from 06-05-08).pdf\n",
      "COUNT 106\n",
      "Pharmaceuticals Exclusion - XAO v1 (Aon_XS_Comb_Liab 10-18).pdf\n",
      "COUNT 107\n",
      "POLLUTION - SUDDEN UNINTENDED AND UNEXPECTED POLLUTION CLAUSE (ABI) - PL - L81 (to 30-06-09).pdf\n",
      "COUNT 108\n",
      "HEIGHT LIMITATION CLAUSE - EL - L71a.pdf\n",
      "COUNT 109\n",
      "Child Protection Conditions - IAG (to 03-11-08).pdf\n",
      "COUNT 110\n",
      "2008 - Stand Alone Single Project JCT 21.2.1. Wording for Contractors - JCT_SP_C_4.pdf\n",
      "COUNT 111\n"
     ]
    },
    {
     "name": "stderr",
     "output_type": "stream",
     "text": [
      "/opt/app/RB/.local/lib/python3.6/site-packages/pdfminer/pdfpage.py:140: PDFTextExtractionNotAllowedWarning: The PDF <_io.BufferedReader name='Documents/UK-Casualty/Chubb Standard Wording/2008 - Stand Alone Single Project JCT 21.2.1. Wording for Contractors - JCT_SP_C_4.pdf'> contains a metadata field indicating that it should not allow text extraction. Ignoring this field and proceeding.\n",
      "  warnings.warn(warning_msg, PDFTextExtractionNotAllowedWarning)\n"
     ]
    },
    {
     "name": "stdout",
     "output_type": "stream",
     "text": [
      "Marsh PP Excess Liability Insurance 2016 final (Specimen).pdf\n",
      "COUNT 112\n",
      "ASBESTOS EXCLUSION  - EMPLOYERS LIABILITY (FOR XS COMBINED ONLY) - XBG.pdf\n",
      "COUNT 113\n",
      "GENETICALLY MODIFIED PRODUCTS EXCLUSION - PL - LBJ.pdf\n",
      "COUNT 114\n",
      "Hazardous Filming Photography Exclusion - IAW.pdf\n",
      "COUNT 115\n",
      "LONG TERM AGREEMENT (POLICY) CLAUSE - LFX (no discount) (from 07-12-10).pdf\n",
      "COUNT 116\n",
      "Airside Work Exclusion - X21 v1 (Aon_XS_Comb_Liab 10-18).pdf\n",
      "COUNT 117\n",
      "USA, CANADA DEDUCTIBLE CLAUSE - PL - L82 (from 02-05-2007) (not for CasPrim(FOS)).pdf\n",
      "COUNT 118\n",
      "2008 - Non-Negligent Damage Liability for Contractors - JCT_SP_C (ROI)_2.pdf\n",
      "COUNT 119\n"
     ]
    },
    {
     "name": "stderr",
     "output_type": "stream",
     "text": [
      "/opt/app/RB/.local/lib/python3.6/site-packages/pdfminer/pdfpage.py:140: PDFTextExtractionNotAllowedWarning: The PDF <_io.BufferedReader name='Documents/UK-Casualty/Chubb Standard Wording/2008 - Non-Negligent Damage Liability for Contractors - JCT_SP_C (ROI)_2.pdf'> contains a metadata field indicating that it should not allow text extraction. Ignoring this field and proceeding.\n",
      "  warnings.warn(warning_msg, PDFTextExtractionNotAllowedWarning)\n"
     ]
    },
    {
     "name": "stdout",
     "output_type": "stream",
     "text": [
      "Participant to Participant Exclusion - IBK.pdf\n",
      "COUNT 120\n",
      "2014 - Primary Liability Policy (Limited Cover) - CasPrimlimited(ROI)_5.pdf\n",
      "COUNT 121\n"
     ]
    },
    {
     "name": "stderr",
     "output_type": "stream",
     "text": [
      "/opt/app/RB/.local/lib/python3.6/site-packages/pdfminer/pdfpage.py:140: PDFTextExtractionNotAllowedWarning: The PDF <_io.BufferedReader name='Documents/UK-Casualty/Chubb Standard Wording/2014 - Primary Liability Policy (Limited Cover) - CasPrimlimited(ROI)_5.pdf'> contains a metadata field indicating that it should not allow text extraction. Ignoring this field and proceeding.\n",
      "  warnings.warn(warning_msg, PDFTextExtractionNotAllowedWarning)\n"
     ]
    },
    {
     "name": "stdout",
     "output_type": "stream",
     "text": [
      "MANUAL WORK AWAY FROM THE PREMISES EXCLUSION - XAR.pdf\n",
      "COUNT 122\n",
      "POLLUTION - SEEPAGE CLAUSE (NMA 1686) - PL - L79 (from 01-07-09).pdf\n",
      "COUNT 123\n",
      "M.R.S.A. AND C.D. EXCLUSION - PL - LDH.pdf\n",
      "COUNT 124\n",
      "2019 MN Partner Casualty OS_6 (SE - From 01-01-19).pdf\n",
      "COUNT 125\n"
     ]
    },
    {
     "name": "stderr",
     "output_type": "stream",
     "text": [
      "/opt/app/RB/.local/lib/python3.6/site-packages/pdfminer/pdfpage.py:140: PDFTextExtractionNotAllowedWarning: The PDF <_io.BufferedReader name='Documents/UK-Casualty/Chubb Standard Wording/2019 MN Partner Casualty OS_6 (SE - From 01-01-19).pdf'> contains a metadata field indicating that it should not allow text extraction. Ignoring this field and proceeding.\n",
      "  warnings.warn(warning_msg, PDFTextExtractionNotAllowedWarning)\n"
     ]
    },
    {
     "name": "stdout",
     "output_type": "stream",
     "text": [
      "CO-INSURERS CLAUSE - EL,PL - L26.pdf\n",
      "COUNT 126\n",
      "HAZARDOUS PREMISES EXCLUSION - EL,PL - LCR.pdf\n",
      "COUNT 127\n",
      "Data Risk and Cyber Liability Exclusion - LMCa.pdf\n",
      "COUNT 128\n",
      "360 UK National Liab Wording - Chubb Version 2.1 (Jan 2019).pdf\n",
      "COUNT 129\n",
      "PASS\n",
      "    Contents        Introduction .......................................................................................................................1  Policy Information for the Policyholder...................................................................................2  Making a Claim..................................................................................................................3  Complaints Procedure ........................................................................................................4  Contents...........................................................................................................................5  Schedule of Insurance ........................................................................................................6  General Definitions.............................................................................................................7  Section  1 |  Employers’ Liability ........................................................................................... 11  Section  2  | Public  Liability ................................................................................................. 12  Section  3  | Products  Liability ............................................................................................. 15  Section 4 | Financial Loss................................................................................................... 16  Section  5  | Prof essional  Indemnity ..................................................................................... 18  Extensions and Exclusions applicable to more than one Section ............................................. 21  Claims Conditions............................................................................................................ 25  General Conditions .......................................................................................................... 26  Data Protection................................................................................................................ 31          360 UK National Liab Wording – Chubb Version 2.1 (Jan 2019)  Page 5 of 32\n",
      "BONA FIDE SUBCONTRACTORS (equivalent limit) - XBB.pdf\n",
      "COUNT 130\n",
      "2015 - Stand Alone Single Project Non-Negligent Damage Liability Policy for Principals - JCT_SP_P_8 (to 04-03-16).pdf\n",
      "COUNT 131\n"
     ]
    },
    {
     "name": "stderr",
     "output_type": "stream",
     "text": [
      "/opt/app/RB/.local/lib/python3.6/site-packages/pdfminer/pdfpage.py:140: PDFTextExtractionNotAllowedWarning: The PDF <_io.BufferedReader name='Documents/UK-Casualty/Chubb Standard Wording/2015 - Stand Alone Single Project Non-Negligent Damage Liability Policy for Principals - JCT_SP_P_8 (to 04-03-16).pdf'> contains a metadata field indicating that it should not allow text extraction. Ignoring this field and proceeding.\n",
      "  warnings.warn(warning_msg, PDFTextExtractionNotAllowedWarning)\n"
     ]
    },
    {
     "name": "stdout",
     "output_type": "stream",
     "text": [
      "THIRD PARTY PROPERTY DAMAGE EXCESS - PL - L78 (from 01-05-09).pdf\n",
      "COUNT 132\n",
      "2011 - 2012 - Primary Clinical Trials Wording - CTPrim(Blan)_3 (from 01-10-11 to 30-09-12).pdf\n",
      "COUNT 133\n"
     ]
    },
    {
     "name": "stderr",
     "output_type": "stream",
     "text": [
      "/opt/app/RB/.local/lib/python3.6/site-packages/pdfminer/pdfpage.py:140: PDFTextExtractionNotAllowedWarning: The PDF <_io.BufferedReader name='Documents/UK-Casualty/Chubb Standard Wording/2011 - 2012 - Primary Clinical Trials Wording - CTPrim(Blan)_3 (from 01-10-11 to 30-09-12).pdf'> contains a metadata field indicating that it should not allow text extraction. Ignoring this field and proceeding.\n",
      "  warnings.warn(warning_msg, PDFTextExtractionNotAllowedWarning)\n"
     ]
    },
    {
     "name": "stdout",
     "output_type": "stream",
     "text": [
      "CONSTRUCTION - LIMITED HEIGHT - EL - LCOa.pdf\n",
      "COUNT 134\n",
      "2016 Briefing Note - Clinical Trials.pdf\n",
      "COUNT 135\n",
      "2012 - Non- Negligent Damage Liability For Contractors - JCT_SP_C (ROI)_4 (from 15-02-12 to 14-10-13).pdf\n",
      "COUNT 136\n"
     ]
    },
    {
     "name": "stderr",
     "output_type": "stream",
     "text": [
      "/opt/app/RB/.local/lib/python3.6/site-packages/pdfminer/pdfpage.py:140: PDFTextExtractionNotAllowedWarning: The PDF <_io.BufferedReader name='Documents/UK-Casualty/Chubb Standard Wording/2012 - Non- Negligent Damage Liability For Contractors - JCT_SP_C (ROI)_4 (from 15-02-12 to 14-10-13).pdf'> contains a metadata field indicating that it should not allow text extraction. Ignoring this field and proceeding.\n",
      "  warnings.warn(warning_msg, PDFTextExtractionNotAllowedWarning)\n"
     ]
    },
    {
     "name": "stdout",
     "output_type": "stream",
     "text": [
      "ROI Products questionnaire inc USA (SE - From 01-01-2019).pdf\n",
      "COUNT 137\n",
      "Member to Member Liability Exclusion - IBD.pdf\n",
      "COUNT 138\n",
      "UK Corporate 2 Year EPA (SE - From 01-01-2019).pdf\n",
      "COUNT 139\n",
      "EMPLOYERS LIABILITY EXCLUSION (only for use with Blanket Primary's etc) - XBM.pdf\n",
      "COUNT 140\n",
      "Abuse Exclusion - XCL v1 (Aon_XS_Comb_Liab 10-18).pdf\n",
      "COUNT 141\n",
      "2005 - Select Excess Umbrella Liability Policy (Full Version) - SelectXs(ROI)(Full)_3.pdf\n",
      "COUNT 142\n",
      "CAR PARK LIABILITY CLAUSE - PUBLIC CAR PARK - PL - L50.pdf\n",
      "COUNT 143\n",
      "AIDS EXCLUSION - EL or PL - LBO.pdf\n",
      "COUNT 144\n",
      "Member to Member Extension - IBC.pdf\n",
      "COUNT 145\n",
      "LOSS OF YIELD EXCLUSION - PL - LDYa.pdf\n",
      "COUNT 146\n",
      "Failure to Supply - X36 - From 01-02-06 - prev  Absolute Failure to Supply.pdf\n",
      "COUNT 147\n",
      "2014 - 2015 - Primary Clinical Trials Wording - CTPrim(Blan)_5 (to 06-07-15).pdf\n",
      "COUNT 148\n"
     ]
    },
    {
     "name": "stderr",
     "output_type": "stream",
     "text": [
      "/opt/app/RB/.local/lib/python3.6/site-packages/pdfminer/pdfpage.py:140: PDFTextExtractionNotAllowedWarning: The PDF <_io.BufferedReader name='Documents/UK-Casualty/Chubb Standard Wording/2014 - 2015 - Primary Clinical Trials Wording - CTPrim(Blan)_5 (to 06-07-15).pdf'> contains a metadata field indicating that it should not allow text extraction. Ignoring this field and proceeding.\n",
      "  warnings.warn(warning_msg, PDFTextExtractionNotAllowedWarning)\n"
     ]
    },
    {
     "name": "stdout",
     "output_type": "stream",
     "text": [
      "2012 - Select Excess Umbrella Liability Policy (Full Limit Version) - SelectXs(Full)(ROI)_9 (to 13-04-12).pdf\n",
      "COUNT 149\n"
     ]
    },
    {
     "name": "stderr",
     "output_type": "stream",
     "text": [
      "/opt/app/RB/.local/lib/python3.6/site-packages/pdfminer/pdfpage.py:140: PDFTextExtractionNotAllowedWarning: The PDF <_io.BufferedReader name='Documents/UK-Casualty/Chubb Standard Wording/2012 - Select Excess Umbrella Liability Policy (Full Limit Version) - SelectXs(Full)(ROI)_9 (to 13-04-12).pdf'> contains a metadata field indicating that it should not allow text extraction. Ignoring this field and proceeding.\n",
      "  warnings.warn(warning_msg, PDFTextExtractionNotAllowedWarning)\n"
     ]
    },
    {
     "name": "stdout",
     "output_type": "stream",
     "text": [
      "2017 - Primary Liability Policy(Enhanced Cover) - CasPrim(ROI)_16 (from 01-05-17 to 24-05-2018).pdf\n",
      "COUNT 150\n"
     ]
    },
    {
     "name": "stderr",
     "output_type": "stream",
     "text": [
      "/opt/app/RB/.local/lib/python3.6/site-packages/pdfminer/pdfpage.py:140: PDFTextExtractionNotAllowedWarning: The PDF <_io.BufferedReader name='Documents/UK-Casualty/Chubb Standard Wording/2017 - Primary Liability Policy(Enhanced Cover) - CasPrim(ROI)_16 (from 01-05-17 to 24-05-2018).pdf'> contains a metadata field indicating that it should not allow text extraction. Ignoring this field and proceeding.\n",
      "  warnings.warn(warning_msg, PDFTextExtractionNotAllowedWarning)\n"
     ]
    },
    {
     "name": "stdout",
     "output_type": "stream",
     "text": [
      "FINANCIAL LOSS EXTENSION - STANDARD - PL - LAX - Up To 31-01-06.pdf\n",
      "COUNT 151\n",
      "Height Limitation Condition (named person) - IAY.pdf\n",
      "COUNT 152\n",
      "TERRORISM EXCLUSION - XAL (from 01.02.06).pdf\n",
      "COUNT 153\n",
      "DAMAGE TO UNDERGROUND SERVICES - PL - L22a.pdf\n",
      "COUNT 154\n",
      "Tobacco Product Exclusion - X48 v1 (Aon_XS_Comb_Liab 10-18).pdf\n",
      "COUNT 155\n",
      "Unmanned Aerial Vehicle Extension – Full Cover - PL - L131a.pdf\n",
      "COUNT 156\n",
      "Motor Vehicle Components Exclusion - X26 v1 (Aon_XS_Comb_Liab 10-18).pdf\n",
      "COUNT 157\n",
      "RENEWAL REPLACEMENT POLICY - EL,PL - LBR.pdf\n",
      "COUNT 158\n",
      "USE OF HEAT EQUIPMENT AWAY FROM PREMISES EXCLUSION (EL or PL Only, Excess Combined) - XET (from 01-01-15).pdf\n",
      "COUNT 159\n",
      "USA, CANADA - DIRECT EXPORTS RUN OFF COVER EXCLUSION - PL - LCXa.pdf\n",
      "COUNT 160\n",
      "2019 MN Global Accounts Casualty OS EIL_6 (SE - From 01-01-19).pdf\n",
      "COUNT 161\n"
     ]
    },
    {
     "name": "stderr",
     "output_type": "stream",
     "text": [
      "/opt/app/RB/.local/lib/python3.6/site-packages/pdfminer/pdfpage.py:140: PDFTextExtractionNotAllowedWarning: The PDF <_io.BufferedReader name='Documents/UK-Casualty/Chubb Standard Wording/2019 MN Global Accounts Casualty OS EIL_6 (SE - From 01-01-19).pdf'> contains a metadata field indicating that it should not allow text extraction. Ignoring this field and proceeding.\n",
      "  warnings.warn(warning_msg, PDFTextExtractionNotAllowedWarning)\n"
     ]
    },
    {
     "name": "stdout",
     "output_type": "stream",
     "text": [
      "Valet Parking Exclusion - IBR.pdf\n",
      "COUNT 162\n",
      "OFFSHORE WORK CLAUSE - LEH (from 01-05-09).pdf\n",
      "COUNT 163\n",
      "2014 - 2015 - Primary Clinical Trial Wording - CTPrim(CM)_6 (to 06-07-15).pdf\n",
      "COUNT 164\n"
     ]
    },
    {
     "name": "stderr",
     "output_type": "stream",
     "text": [
      "/opt/app/RB/.local/lib/python3.6/site-packages/pdfminer/pdfpage.py:140: PDFTextExtractionNotAllowedWarning: The PDF <_io.BufferedReader name='Documents/UK-Casualty/Chubb Standard Wording/2014 - 2015 - Primary Clinical Trial Wording - CTPrim(CM)_6 (to 06-07-15).pdf'> contains a metadata field indicating that it should not allow text extraction. Ignoring this field and proceeding.\n",
      "  warnings.warn(warning_msg, PDFTextExtractionNotAllowedWarning)\n"
     ]
    },
    {
     "name": "stdout",
     "output_type": "stream",
     "text": [
      "RENEWAL REPLACEMENT POLICY - EL,PL - LBRa.pdf\n",
      "COUNT 165\n",
      "Custody or Control Extension - L103a.pdf\n",
      "COUNT 166\n",
      "USA, CANADA - DIRECT EXPORTS RUN OFF COVER EXCLUSION - PL - LCX.pdf\n",
      "COUNT 167\n",
      "WOODWORKING MACHINERY - CONTRACTORS - EL,PL - LARa.pdf\n",
      "COUNT 168\n",
      "HOTEL PROPRIETORS ACT 1963 (ROI) - LDCa.pdf\n",
      "COUNT 169\n",
      "DIC, DIL EXCLN – SPECD TERRITORIES OR SUBSIDIARIES - CMN58a.pdf\n",
      "COUNT 170\n",
      "OFFSHORE EXTENSION – EMPLOYERS’ LIABILITY - LEI (from 14-03-11).pdf\n",
      "COUNT 171\n",
      "BONA FIDE SUBCONTRACTORS (EQUIVILENT COVER) - PL - LBW (to 30-04-09).pdf\n",
      "COUNT 172\n",
      "AIRSIDE WORK EXCLUSION - X21 (From 1-12-05).pdf\n",
      "COUNT 173\n",
      "2019 Stand-alone Single Project Non Negligent Damage Policy JCT_SP_C_10 (SE - From 01-01-19).pdf\n",
      "COUNT 174\n"
     ]
    },
    {
     "name": "stderr",
     "output_type": "stream",
     "text": [
      "/opt/app/RB/.local/lib/python3.6/site-packages/pdfminer/pdfpage.py:140: PDFTextExtractionNotAllowedWarning: The PDF <_io.BufferedReader name='Documents/UK-Casualty/Chubb Standard Wording/2019 Stand-alone Single Project Non Negligent Damage Policy JCT_SP_C_10 (SE - From 01-01-19).pdf'> contains a metadata field indicating that it should not allow text extraction. Ignoring this field and proceeding.\n",
      "  warnings.warn(warning_msg, PDFTextExtractionNotAllowedWarning)\n"
     ]
    },
    {
     "name": "stdout",
     "output_type": "stream",
     "text": [
      "Hazardous Activities Condition - IAV.pdf\n",
      "COUNT 175\n",
      "NON-NEGLIGENT DAMAGE LIABILITY RUN-OFF - XBQ (to 31-12-07).pdf\n",
      "COUNT 176\n",
      "Parental Consent Warranty - IBJ.pdf\n",
      "COUNT 177\n",
      "DIFFERENCE IN CONDITIONS - PL - LBK (from 10-03-11).pdf\n",
      "COUNT 178\n"
     ]
    },
    {
     "name": "stderr",
     "output_type": "stream",
     "text": [
      "/opt/app/RB/.local/lib/python3.6/site-packages/pdfminer/pdfpage.py:140: PDFTextExtractionNotAllowedWarning: The PDF <_io.BufferedReader name='Documents/UK-Casualty/Chubb Standard Wording/NON-NEGLIGENT DAMAGE LIABILITY RUN-OFF - XBQ (to 31-12-07).pdf'> contains a metadata field indicating that it should not allow text extraction. Ignoring this field and proceeding.\n",
      "  warnings.warn(warning_msg, PDFTextExtractionNotAllowedWarning)\n"
     ]
    },
    {
     "name": "stdout",
     "output_type": "stream",
     "text": [
      "THIRD PARTY PROPERTY DAMAGE EXCESS - L78a.pdf\n",
      "COUNT 179\n",
      "Safety Critical Vehicle Products Exclusion - XMR v1 (Aon_XS_Comb_Liab 10-18).pdf\n",
      "COUNT 180\n",
      "POLLUTION (EIL) SECTION EXTENSION - LDPa.pdf\n",
      "COUNT 181\n",
      "USA, CANADA DEDUCTIBLE CLAUSE - PL - L82a (not for CasPrim(FOS) policy).pdf\n",
      "COUNT 182\n",
      "2019 MN Global Accounts Casualty_6 (SE - From 01-01-19).pdf\n",
      "COUNT 183\n"
     ]
    },
    {
     "name": "stderr",
     "output_type": "stream",
     "text": [
      "/opt/app/RB/.local/lib/python3.6/site-packages/pdfminer/pdfpage.py:140: PDFTextExtractionNotAllowedWarning: The PDF <_io.BufferedReader name='Documents/UK-Casualty/Chubb Standard Wording/2019 MN Global Accounts Casualty_6 (SE - From 01-01-19).pdf'> contains a metadata field indicating that it should not allow text extraction. Ignoring this field and proceeding.\n",
      "  warnings.warn(warning_msg, PDFTextExtractionNotAllowedWarning)\n"
     ]
    },
    {
     "name": "stdout",
     "output_type": "stream",
     "text": [
      "PROFESSIONAL ADVICE AND TREATMENT EXCLUSION - PL - LCZ (from 7-11-05).pdf\n",
      "COUNT 184\n",
      "FINANCIAL LOSS EXTENSION - INNER LIMIT - PL - L89 - To 31-01-06.pdf\n",
      "COUNT 185\n",
      "DOORS CLAUSE - PL - LCPa.pdf\n",
      "COUNT 186\n",
      "WOODWORKING MACHINERY - CONTRACTORS - EL,PL - LAR.pdf\n",
      "COUNT 187\n",
      "Match Officials Exclusion - IBB.pdf\n",
      "COUNT 188\n",
      "USE OF HEAT AWAY FROM THE PREMISES (PL Only, Excess Combined) - XES (from 01-01-15).pdf\n",
      "COUNT 189\n",
      "DIRECT EXPORTS TO THE USA-CANADA EXCLUSION (PL Only, Excess Combined) - XDH (from 06-05-08).pdf\n",
      "COUNT 190\n",
      "2016 - Primary Clinical Trial Wording - CTPrim(CM)_8.pdf\n",
      "COUNT 191\n"
     ]
    },
    {
     "name": "stderr",
     "output_type": "stream",
     "text": [
      "/opt/app/RB/.local/lib/python3.6/site-packages/pdfminer/pdfpage.py:140: PDFTextExtractionNotAllowedWarning: The PDF <_io.BufferedReader name='Documents/UK-Casualty/Chubb Standard Wording/2016 - Primary Clinical Trial Wording - CTPrim(CM)_8.pdf'> contains a metadata field indicating that it should not allow text extraction. Ignoring this field and proceeding.\n",
      "  warnings.warn(warning_msg, PDFTextExtractionNotAllowedWarning)\n"
     ]
    },
    {
     "name": "stdout",
     "output_type": "stream",
     "text": [
      "PROFESSIONAL ADVICE AND TREATMENT EXCLUSION (From 1-12-05) - X28.pdf\n",
      "COUNT 192\n",
      "OFFSHORE LIMIT OF LIABILITY - LFQa (CasPrim(OS) only).pdf\n",
      "COUNT 193\n",
      "DIFFERENCE IN CONDITIONS + DIFFERENCE IN LIMITS - PL - LDJa.pdf\n",
      "COUNT 194\n",
      "EXCESS - PL - LDXa.pdf\n",
      "COUNT 195\n",
      "CONSTRUCTION - EXCLUDED WORK CLAUSE - EL,PL - L28.pdf\n",
      "COUNT 196\n",
      "PUBLIC AND PRODUCTS LIABILITY EXCLUSION - EL,PL - LAH.pdf\n",
      "COUNT 197\n",
      "USA,CANADA JURISDICTION EXCLUSION - EL,PL - L34.pdf\n",
      "COUNT 198\n",
      "2005 - Excess PL Quinn - XS PPL (Quinn)_1.pdf\n",
      "COUNT 199\n"
     ]
    },
    {
     "name": "stderr",
     "output_type": "stream",
     "text": [
      "/opt/app/RB/.local/lib/python3.6/site-packages/pdfminer/pdfpage.py:140: PDFTextExtractionNotAllowedWarning: The PDF <_io.BufferedReader name='Documents/UK-Casualty/Chubb Standard Wording/2005 - Excess PL Quinn - XS PPL (Quinn)_1.pdf'> contains a metadata field indicating that it should not allow text extraction. Ignoring this field and proceeding.\n",
      "  warnings.warn(warning_msg, PDFTextExtractionNotAllowedWarning)\n"
     ]
    },
    {
     "name": "stdout",
     "output_type": "stream",
     "text": [
      "FAILURE TO SUPPLY - X36.pdf\n",
      "COUNT 200\n",
      "OFFSHORE DEFINITION - EL - LCC (to 30-04-09).pdf\n",
      "COUNT 201\n",
      "2006 - 2007 Excess Clinical Trial - CTXS(CM)_1.pdf\n",
      "COUNT 202\n",
      "POLLUTION AND CONTAMINATION CLEAN UP - LFM (from 06-04-11).pdf\n",
      "COUNT 203\n",
      "PYRITE EXCLUSION (SelectXS Only) - XFN.pdf\n",
      "COUNT 204\n",
      "MTBE Exclusion - L123a.pdf\n",
      "COUNT 205\n",
      "EXCESS MOTOR LIABILITY INCL PRIVATE MOTOR - PL - LBX.pdf\n",
      "COUNT 206\n",
      "PROFESSIONAL ADVICE AND TREATMENT EXCLUSION - PL - LCZa.pdf\n",
      "COUNT 207\n",
      "OFFSHORE WORK EXCLUSION - PL - LAQ (to 30-04-09).pdf\n",
      "COUNT 208\n",
      "2008 - 2009 - Excess PPL Quinn - XS PPL (Quinn)_4 (to 30-04-09).pdf\n",
      "COUNT 209\n"
     ]
    },
    {
     "name": "stderr",
     "output_type": "stream",
     "text": [
      "/opt/app/RB/.local/lib/python3.6/site-packages/pdfminer/pdfpage.py:140: PDFTextExtractionNotAllowedWarning: The PDF <_io.BufferedReader name='Documents/UK-Casualty/Chubb Standard Wording/2008 - 2009 - Excess PPL Quinn - XS PPL (Quinn)_4 (to 30-04-09).pdf'> contains a metadata field indicating that it should not allow text extraction. Ignoring this field and proceeding.\n",
      "  warnings.warn(warning_msg, PDFTextExtractionNotAllowedWarning)\n"
     ]
    },
    {
     "name": "stdout",
     "output_type": "stream",
     "text": [
      "2018 - Casualty Excess Claims Made Form - CasXS(CM)(ROI)_16 (from 25-05-2018 to 31-12-18).pdf\n",
      "COUNT 210\n",
      "MOVEMENT OF OBSTRUCTING VEHICLES - PL - LAN.pdf\n",
      "COUNT 211\n",
      "PROFESSIONAL ADVICE AND TREATMENT EXCLUSION - X28 (From 7-11-05).pdf\n",
      "COUNT 212\n",
      "FINANCIAL LOSS EXTENSION (CM) - PL - LDU (from 12-11-11 to 31-01-2017).pdf\n",
      "COUNT 213\n",
      "PROPERTY OWNERS LIABILITY - LISTING - PL - L43a.pdf\n",
      "COUNT 214\n",
      "Event Organisers conditions - IAR.pdf\n",
      "COUNT 215\n",
      "SILICA EXCLUSION (EL or PL Only, Excess Combined) - XEK (from 06-05-08).pdf\n",
      "COUNT 216\n",
      "PRODUCTS LIABILITY EXCLUSION - PL - LAG.pdf\n",
      "COUNT 217\n",
      "POLLUTION AND CONTAMINATION – AGGREGATE LIMIT - PL - LAW.pdf\n",
      "COUNT 218\n",
      "POLLUTION - TOTAL EXCLUSION - PL - CMN22a.pdf\n",
      "COUNT 219\n",
      "MEDICAL MALPRACTICE AND TREATMENT EXCLUSION (PL Only, Excess Combined) - XDT (from 06-05-08 to 17-09-12).pdf\n",
      "COUNT 220\n",
      "BITUMEN HEATING CONDITIONS - PL - L24a.pdf\n",
      "COUNT 221\n",
      "Financial Strength Cancellation Condition - L127a.pdf\n",
      "COUNT 222\n",
      "UNDERWRITING GUIDE NOV 2017.pdf\n",
      "COUNT 223\n",
      "PASS\n",
      "Scope:   The scope of  this document is for  all Casualty business written within the Chubb UK. This is not applicable  to Republic of  Ireland.                  Contents  Scope: ...................................................................................... 2  Introduction............................................................................. 3  Description .........................................................................................................3  Trades of Significant  Exposure: ....................................................................3  Underwriting Guidance ............................................................. 4  Abuse Exposures ............................................................................................4  Asbestos ..........................................................................................................4  Associated Companies: ..................................................................................5  Cyber Liability ................................................................................................5  Costs In Addition: ..........................................................................................7  Definition of Business:...................................................................................7  Excess Motor Liability ...................................................................................7  Financial Loss .................................................................................................8  Harrassment and Discrimination: ................................................................9  Offshore Work ................................................................................................9  Pollution – USA and Canada, Named Perils. ...............................................9  Professional Indemnity..................................................................................9  Republic of Ireland.........................................................................................9  Round the Clock Aggregate Reinstatement..................................................10  Operational Guidance ............................................................... 11  Client Scope ....................................................................................................11  Employers Liability Certs ..............................................................................11  Policy Wording ...............................................................................................11  Policy Schedule and Quote Document..........................................................11  Remuneration - FAC ......................................................................................12  Services ...........................................................................................................13  Worldview ......................................................................................................13  Change Record ......................................................................... 13  Appendix 1 – Willis 360 National Combined PDBI/Liabs Policy Comparison  14  Appendix 2 – Data Breach Exclusion .......................................... 16  Appendix 3 – Cyber Attack Exclusion.......................................... 17    2  Chubb. Insured.SM\n",
      "DIFFERENCE IN LIMITS - EL,PL - LBL (from 01-12-05 to 09-03-11).pdf\n",
      "COUNT 224\n",
      "2019 MN Partner Casualty EIL_6 (SE - From 01-01-19).pdf\n",
      "COUNT 225\n"
     ]
    },
    {
     "name": "stderr",
     "output_type": "stream",
     "text": [
      "/opt/app/RB/.local/lib/python3.6/site-packages/pdfminer/pdfpage.py:140: PDFTextExtractionNotAllowedWarning: The PDF <_io.BufferedReader name='Documents/UK-Casualty/Chubb Standard Wording/DIFFERENCE IN LIMITS - EL,PL - LBL (from 01-12-05 to 09-03-11).pdf'> contains a metadata field indicating that it should not allow text extraction. Ignoring this field and proceeding.\n",
      "  warnings.warn(warning_msg, PDFTextExtractionNotAllowedWarning)\n",
      "/opt/app/RB/.local/lib/python3.6/site-packages/pdfminer/pdfpage.py:140: PDFTextExtractionNotAllowedWarning: The PDF <_io.BufferedReader name='Documents/UK-Casualty/Chubb Standard Wording/2019 MN Partner Casualty EIL_6 (SE - From 01-01-19).pdf'> contains a metadata field indicating that it should not allow text extraction. Ignoring this field and proceeding.\n",
      "  warnings.warn(warning_msg, PDFTextExtractionNotAllowedWarning)\n"
     ]
    },
    {
     "name": "stdout",
     "output_type": "stream",
     "text": [
      "BITUMEN HEATING CONDITIONS - PL - L24 (from 01-05-09).pdf\n",
      "COUNT 226\n",
      "AIRCRAFT PRODUCTS EXCLUSION - X20.pdf\n",
      "COUNT 227\n",
      "2015 - Excess Combined Liability Policy - XSComb(ROI)_12.pdf\n",
      "COUNT 228\n"
     ]
    },
    {
     "name": "stderr",
     "output_type": "stream",
     "text": [
      "/opt/app/RB/.local/lib/python3.6/site-packages/pdfminer/pdfpage.py:140: PDFTextExtractionNotAllowedWarning: The PDF <_io.BufferedReader name='Documents/UK-Casualty/Chubb Standard Wording/2015 - Excess Combined Liability Policy - XSComb(ROI)_12.pdf'> contains a metadata field indicating that it should not allow text extraction. Ignoring this field and proceeding.\n",
      "  warnings.warn(warning_msg, PDFTextExtractionNotAllowedWarning)\n"
     ]
    },
    {
     "name": "stdout",
     "output_type": "stream",
     "text": [
      "UK EL Questionnaire (SE - From 01-01-2019).pdf\n",
      "COUNT 229\n",
      "PASS\n",
      "            Ch u b b  E urop ean  Group S E   100 Le ad e nh al l S treet  Lon d on   E C3 A  3 BP    T: 02 0 7173  7000   F: 02 0 7173  78 00  c h u b b.com/u k      Casualty Employers’  Liability Questionnaire  The questions below should be answered by the person responsible for Health & Safety.  Company details  Company name..................................................................................................................................   Occupation / business / trade (please detail all activities)..............................................................   ............................................................................................................................................................   Correspondence address, phone number and email .......................................................................   ............................................................................................................................................................   ............................................................................................................................................................   Addresses of any additional premises ..............................................................................................   ............................................................................................................................................................   ............................................................................................................................................................     ............................................................................................................................................................   ............................................................................................................................................................   ............................................................................................................................................................   Website address.................................................................................................................................   Date business established .................................................................................................................   Previous company names in the last five years................................................................................   People and processes  Number of non-manual employees and payroll ..............................................................................   Number of manual employees and payroll ......................................................................................   Number of labour only sub -contractors and payroll .......................................................................   Do you carry out any manual work away from your own premises,  including overseas?   Yes     No  If Yes, please give details...................................................................................................................   ............................................................................................................................................................   ............................................................................................................................................................   ............................................................................................................................................................   UK0484-L        1  \n",
      "PASS\n",
      "Do you do any work offshore?   Yes     No  If Yes, please give details (i.e. number of employees and hours worked) ...............................................................................................    ....................................................................................................................................................................................................................    ....................................................................................................................................................................................................................           Does your business involve any of the following:  1.  Power driven machinery?  2.  Work at height?  3.  Cranes, hoists or other lifting equipment?  4.  Fork lift trucks or other workplace vehicles?  5.  Asbestos, lead or ionising radiation?  6.  Trackside railway work?  7.  Noise levels in excess of 85 dB(A)?   Health & Safety  Do you have a written Health & Safety Policy?  If Yes, please attach a copy   Do you have a designated person managing Health & Safety?  1.  The Health & Safety Policy?  2.  Workplace hazards?  3.  Health & Safety rules?  4.  Accident reporting?  5.  How to access first aid?  6.  Fire and emergency procedures?  7.  How to raise concerns about Health & Safety?    UK0484-L    If Yes, please give date of last noise survey ..............................................................................................................................................   If Yes, please supply name and job title....................................................................................................................................................   Do you use an external Health & Safety consultant?  If Yes, please supply name and address....................................................................................................................................................    ....................................................................................................................................................................................................................    ....................................................................................................................................................................................................................   Do employees receive Health & Safety induction training?  If Yes, which of the following topics does the induction training cover:   Yes     No   Yes     No   Yes     No   Yes     No   Yes     No   Yes     No   Yes     No   Yes     No   Yes     No   Yes     No   Yes     No   Yes     No   Yes     No   Yes     No   Yes     No   Yes     No   Yes     No   Yes     No    \n",
      "PASS\n",
      "  What percentage of your employees has attended Health & Safety induction training? .......................................................................   Is attendance at Health & Safety induction training recorded?  Are any of your employees required to wear Personal Protective Equipment (PPE) at work?  If Yes, please list all the items of PPE you provide...................................................................................................................................    ....................................................................................................................................................................................................................    ....................................................................................................................................................................................................................    ....................................................................................................................................................................................................................   If Yes, how many? ......................................................................................................................................................................................   If Yes, please give the date of the last exercise .........................................................................................................................................   Do you have any trained first aiders?  Do you carry out fire drills?  Accidents and claims   Yes     No   Yes     No   Yes     No   Yes     No  Have you had any Employers’ Liability (EL) claims made against you in the last five years?   Yes     No  If Yes, please give details ...........................................................................................................................................................................    ....................................................................................................................................................................................................................    ....................................................................................................................................................................................................................    ....................................................................................................................................................................................................................   Have you had any cases of industrial disease in the last five years (for e xample, noise induced hearing loss, occupational cancer,   No  asthma, skin conditions, upper limb disorders, hand arm vibration syndrome, stress -related ill health)?   Yes    How many RIDDOR reports have you made in the last five years? ........................................................................................................   Have you been convicted of a breach of health and safety law in the last ten years?   Yes     No  If Yes, please provide details .....................................................................................................................................................................    ....................................................................................................................................................................................................................    ....................................................................................................................................................................................................................    ....................................................................................................................................................................................................................   Have you been served with a Prohibition or Improvement Notice in the last five years?   Yes     No  If Yes, please provide details .....................................................................................................................................................................    ....................................................................................................................................................................................................................    ....................................................................................................................................................................................................................    ....................................................................................................................................................................................................................         UK0484-L      3\n"
     ]
    },
    {
     "name": "stdout",
     "output_type": "stream",
     "text": [
      "PASS\n",
      "  Contact details  Thank you for completing this questionnaire. As part of our assessment, Chubb may need to contact you to discuss your health  and safety systems or to arrange a site visit.  Please provide us with the following contact details:  Name ..........................................................................................................................................................................................................   Position ......................................................................................................................................................................................................   Telephone...................................................................................................................................................................................................   Email ..........................................................................................................................................................................................................   Declaration  We declare (i) that the statements and particulars in this proposal are true and that no other material facts have been misst ated,  omitted or suppressed after enquiry; and (ii) we have obtained, and will obtain in the future, the express consent to the disclosure  and use of sensitive personal data from every data subject whose sensitive personal data is supplied in connection with this proposal  for the purposes of (a) underwriting the risks and (b) administering and performing any resulting insurance contract.  We undertake to inform the insurer promptly in writing of any material alteration to those facts occurring before completion of  the contract of insurance. We confirm our understanding that the fact that specific question s have been asked in this  questionnaire does not remove our company’s obligation to inform Chubb of all other matters relating to health and safety of  employees which are material to the risk for which we are seeking insurance.  Authorised signatory .................................................................................................................................................................................   Signed.........................................................................................................................................................................................................   Position ......................................................................................................................................................................................................   Date ............................................................................................................................................................................................................   Contact us  Chubb European Group SE  100 Leadenhall Street  London  EC3A  3BP    T: 020 7173 7000  F: 020 7173 7800  chubb.com/uk   Chubb  European Group SE (CEG)  is  an undertaking governed by the provisions  of the French insurance code with registr ation number  450 327 374  RCS Nanterre.    Registered office: La Tour Carpe Diem,  31  Place des Corolles,  Esplanade Nord,  92400 Courbevoie,  France. CEG has fully paid sh are  capital of €896,176,662.    UK business  address: 100 Leadenhall Street, London EC3A  3BP.    Supervised by  the French Prudential Supervision and Resolution Authority  (4, Place de Budapest,  CS  92459, 75436 PARIS CEDEX  09) and authorised and subject to limited regulation  by  the Financial Conduct Authority.  Details about  the extent of our regulation  by  the Financial Conduct Authority are available  from  us on request.   You can find details about the firm by  searching  ‘Chubb European Group SE’  online  at  https://register.fca.org.uk/.    CEG is  subsidiary  of a US  parent and Chubb Limited (a NYSE  listed  company). The company is part of the Chubb Group of companies. Consequently,  CEG  is  subject  to certain US  laws  and regulations  in addition to EU,  UN and national sanctions  restrictions  which may prohibit  them from providing cover  or paying claims  to  certain individuals  or  entities, and from insuring  certain types of activities  in or  connected with certain countries and terr itories such as,  but not limited to, Iran,  Syria,  North Korea, North  Sudan, Cuba and Crimea.    UK0484-L        \n",
      "Rights of Recourse - PL - XCQ v1 (Aon_XS_Comb_Liab 10-18).pdf\n",
      "COUNT 230\n",
      "OFFSHORE EXTENSION – EMPLOYERS' LIABILITY - LCC (from 14-03-11).pdf\n",
      "COUNT 231\n",
      "2009 - 2011 Primary Clinical Trials Wording - CTPrim(Blan)_2 (to 30-09-11).pdf\n",
      "COUNT 232\n"
     ]
    },
    {
     "name": "stderr",
     "output_type": "stream",
     "text": [
      "/opt/app/RB/.local/lib/python3.6/site-packages/pdfminer/pdfpage.py:140: PDFTextExtractionNotAllowedWarning: The PDF <_io.BufferedReader name='Documents/UK-Casualty/Chubb Standard Wording/2009 - 2011 Primary Clinical Trials Wording - CTPrim(Blan)_2 (to 30-09-11).pdf'> contains a metadata field indicating that it should not allow text extraction. Ignoring this field and proceeding.\n",
      "  warnings.warn(warning_msg, PDFTextExtractionNotAllowedWarning)\n"
     ]
    },
    {
     "name": "stdout",
     "output_type": "stream",
     "text": [
      "COVERAGE PRIOR TO SIGHT OF PRIMARY WORDING (RENEWAL) - XBR (from 05-03-11).pdf\n",
      "COUNT 233\n",
      "MANUAL WORK AWAY FROM THE PREMISES EXCLUSION - PL - LAFa.pdf\n",
      "COUNT 234\n",
      "COVERAGE PRIOR TO SIGHT OF PRIMARY WORDING (for XS Combined only) - XBS (from 18-07-07).pdf\n",
      "COUNT 235\n",
      "CONSTRUCTION - LIMITED HEIGHT - EL - LCO.pdf\n",
      "COUNT 236\n",
      "OFFSHORE DEFINITION - LEI (from 01-05-09 to 13-03-11).pdf\n",
      "COUNT 237\n",
      "Tour Operators Liability Exclusion - Statute - XFD v1 (Aon_XS_Comb_Liab 10-18).pdf\n",
      "COUNT 238\n",
      "LOSS OF YIELD EXCLUSION - XFA (from 13-05-08).pdf\n",
      "COUNT 239\n",
      "EXCESS THIRD PARTY LIABILITY - XBK.pdf\n",
      "COUNT 240\n",
      "2009 - 2010 - Casualty Excess Claims Made Form - CasXS(CM)(ROI)_7 (from 01-05-09).pdf\n",
      "COUNT 241\n"
     ]
    },
    {
     "name": "stderr",
     "output_type": "stream",
     "text": [
      "/opt/app/RB/.local/lib/python3.6/site-packages/pdfminer/pdfpage.py:140: PDFTextExtractionNotAllowedWarning: The PDF <_io.BufferedReader name='Documents/UK-Casualty/Chubb Standard Wording/2009 - 2010 - Casualty Excess Claims Made Form - CasXS(CM)(ROI)_7 (from 01-05-09).pdf'> contains a metadata field indicating that it should not allow text extraction. Ignoring this field and proceeding.\n",
      "  warnings.warn(warning_msg, PDFTextExtractionNotAllowedWarning)\n"
     ]
    },
    {
     "name": "stdout",
     "output_type": "stream",
     "text": [
      "BONA FIDE SUBCONTRACTORS (LIMIT STATED) - PL - LBVa.pdf\n",
      "COUNT 242\n",
      "Asbestos Exclusion - X45 v1 (Aon_XS_Comb_Liab 10-18).pdf\n",
      "COUNT 243\n",
      "TREE FELLING AND LOPPING EXCLUSION - PL - L66.pdf\n",
      "COUNT 244\n",
      "COVERAGE PRIOR TO SIGHT OF PRIMARY WORDING (EL) - XCJ (from 05-03-11).pdf\n",
      "COUNT 245\n",
      "2016 - Primary Clinical Trial Policy - CTPrim(CM)(ROI)_7.pdf\n",
      "COUNT 246\n"
     ]
    },
    {
     "name": "stderr",
     "output_type": "stream",
     "text": [
      "/opt/app/RB/.local/lib/python3.6/site-packages/pdfminer/pdfpage.py:140: PDFTextExtractionNotAllowedWarning: The PDF <_io.BufferedReader name='Documents/UK-Casualty/Chubb Standard Wording/2016 - Primary Clinical Trial Policy - CTPrim(CM)(ROI)_7.pdf'> contains a metadata field indicating that it should not allow text extraction. Ignoring this field and proceeding.\n",
      "  warnings.warn(warning_msg, PDFTextExtractionNotAllowedWarning)\n"
     ]
    },
    {
     "name": "stdout",
     "output_type": "stream",
     "text": [
      "POLLUTION - INDUSTRIES SEEPAGE POLLUTION AND CONTAMINATION CLAUSE (NMA 1685) - PL - L80a.pdf\n",
      "COUNT 247\n",
      "360 UK National PDBI Wording - Chubb Version 2.1 (Jan 2019).pdf\n",
      "COUNT 248\n",
      "PASS\n",
      "          Contents      Introduction .......................................................................................................................1  Policy Information for the Policyholder...................................................................................2  Making a Claim..................................................................................................................3  Complaints Procedure ........................................................................................................4  Contents...........................................................................................................................5  Schedule of Insurance ........................................................................................................6  General Definitions.............................................................................................................7  Section  1 |  Property Damage ............................................................................................. 15  Section 2 | Business Interruption ........................................................................................ 22  Section 3 | Specified Business Equipment ........................................................................... 29  Extensions, Exclusions and Conditions applicable to Section 1 | Property Damage, Section 2 |  Business Interruption and Section 3 | Specified Business Equipment ....................................... 30  Section  4  |  Money  and Personal  Accident  Assault ............................................................... 35  Section  5  | Goods in Transit  ............................................................................................... 37  Section  6  |  Terrorism......................................................................................................... 38  Claims Conditions............................................................................................................ 40  General Conditions .......................................................................................................... 41  General Extensions.......................................................................................................... 47  General Exclusions .......................................................................................................... 48  Data Protection................................................................................................................ 50  360 UK National PDBI Wording – Chubb Version 2.1 (Jan 2019)  Page 5 of 51\n",
      "Racing Exclusion - IBM.pdf\n",
      "COUNT 249\n",
      "CONSTRUCTION - EXCLUDED WORK CLAUSE - EL,PL - L28a.pdf\n",
      "COUNT 250\n",
      "COVERAGE PRIOR TO SIGHT OF PRIMARY WORDING (RENEWAL) - XBR (from 01-01-08 to 30-04-09).pdf\n",
      "COUNT 251\n",
      "REPLACEMENT SCHEDULE - XBI.pdf\n",
      "COUNT 252\n",
      "2016 - Primary Liability Policy (Limited Cover) - CasPrimlimited(ROI)_7 (to 31-08-16).pdf\n",
      "COUNT 253\n"
     ]
    },
    {
     "name": "stderr",
     "output_type": "stream",
     "text": [
      "/opt/app/RB/.local/lib/python3.6/site-packages/pdfminer/pdfpage.py:140: PDFTextExtractionNotAllowedWarning: The PDF <_io.BufferedReader name='Documents/UK-Casualty/Chubb Standard Wording/2016 - Primary Liability Policy (Limited Cover) - CasPrimlimited(ROI)_7 (to 31-08-16).pdf'> contains a metadata field indicating that it should not allow text extraction. Ignoring this field and proceeding.\n",
      "  warnings.warn(warning_msg, PDFTextExtractionNotAllowedWarning)\n"
     ]
    },
    {
     "name": "stdout",
     "output_type": "stream",
     "text": [
      "NON-NEGLIGENT DAMAGE LIABILITY - EXCESS COVER (package primary) (XS Comb) - XDX (from 06-05-08).pdf\n",
      "COUNT 254\n",
      "AIRSIDE WORK EXCLUSION - PL - L23 (to 30-11-05 only).pdf\n",
      "COUNT 255\n",
      "Child Protection Conditions - IAG (from 04-11-08).pdf\n",
      "COUNT 256\n",
      "MRSA AND CD EXCLUSION - XBY.pdf\n",
      "COUNT 257\n",
      "Difference In Conditions, Difference In Limits Extn (Primary CT) - LGA (from 14-06-11).pdf\n",
      "COUNT 258\n",
      "2005 - Casualty Excess Claims Made Form - CasXs(CM) (ROI)_3.pdf\n",
      "COUNT 259\n",
      "INEFFICACY EXCLUSION - DESIGN (PL Only, Excess Combined) - XDN (from 06-05-08).pdf\n",
      "COUNT 260\n",
      "CO-INSURERS CLAUSE - EL,PL - L26a.pdf\n",
      "COUNT 261\n",
      "2011 - Stand Alone Single Project Non-Negligent Damage Liability for Contractors - JCT_SP_C_6 (from 15-02-11 to 14-10-13).pdf\n",
      "COUNT 262\n"
     ]
    },
    {
     "name": "stderr",
     "output_type": "stream",
     "text": [
      "/opt/app/RB/.local/lib/python3.6/site-packages/pdfminer/pdfpage.py:140: PDFTextExtractionNotAllowedWarning: The PDF <_io.BufferedReader name='Documents/UK-Casualty/Chubb Standard Wording/2011 - Stand Alone Single Project Non-Negligent Damage Liability for Contractors - JCT_SP_C_6 (from 15-02-11 to 14-10-13).pdf'> contains a metadata field indicating that it should not allow text extraction. Ignoring this field and proceeding.\n",
      "  warnings.warn(warning_msg, PDFTextExtractionNotAllowedWarning)\n"
     ]
    },
    {
     "name": "stdout",
     "output_type": "stream",
     "text": [
      "USA, CANADA - DIRECT EXPORTS EXCLUSION - PL - LACa (not for CasPrim(FOS) policy).pdf\n",
      "COUNT 263\n",
      "REIMBURSEMENT CLAUSE - EL - LAPa.pdf\n",
      "COUNT 264\n",
      "BONA FIDE SUBCONTRACTORS (equivalent limit) (PL Only, Excess Combined) - XCZ (from 06-05-08).pdf\n",
      "COUNT 265\n",
      "Nuclear Energy Liability Exclusion - NEL v1 (Aon_XS_Comb_Liab 10-18).pdf\n",
      "COUNT 266\n",
      "USE OF HEAT EQUIPMENT AWAY FROM PREMISES EXCLUSION - PL - LAIa.pdf\n",
      "COUNT 267\n",
      "RIOT DAMAGES ACT EXCLUSION -  XCI.pdf\n",
      "COUNT 268\n",
      "Named Party Endorsement (Specific Contract) - IBE.pdf\n",
      "COUNT 269\n",
      "Aon Excess Combined Liability Policy - October 2018.pdf\n",
      "COUNT 270\n",
      "Offshore Extension - Employers' Liability - L120a.pdf\n",
      "COUNT 271\n",
      "FINANCIAL LOSS EXTENSION (CM) - PL - LDU (from 01-05-09 to 11-11-11).pdf\n",
      "COUNT 272\n",
      "2016 - Stand Alone Single Project Non-Negligent Damage Liability Policy for Principals - JCT_SP_P_9 (to 31-12-18).pdf\n",
      "COUNT 273\n"
     ]
    },
    {
     "name": "stderr",
     "output_type": "stream",
     "text": [
      "/opt/app/RB/.local/lib/python3.6/site-packages/pdfminer/pdfpage.py:140: PDFTextExtractionNotAllowedWarning: The PDF <_io.BufferedReader name='Documents/UK-Casualty/Chubb Standard Wording/2016 - Stand Alone Single Project Non-Negligent Damage Liability Policy for Principals - JCT_SP_P_9 (to 31-12-18).pdf'> contains a metadata field indicating that it should not allow text extraction. Ignoring this field and proceeding.\n",
      "  warnings.warn(warning_msg, PDFTextExtractionNotAllowedWarning)\n"
     ]
    },
    {
     "name": "stdout",
     "output_type": "stream",
     "text": [
      "ABUSE EXCLUSION - XCL.pdf\n",
      "COUNT 274\n",
      "DIRECT EXPORTS TO THE USA_CANADA EXCLUSION - XAG.pdf\n",
      "COUNT 275\n",
      "UNMANNED AERIAL VEHICLE EXTENSION – LIMITED COVER  - PL - LGF (from 10-07-15).pdf\n",
      "COUNT 276\n",
      "COVERAGE PRIOR TO SIGHT OF PRIMARY WORDING - XBH (to 31-12-06).pdf\n",
      "COUNT 277\n",
      "CONSTRUCTION - LIMITED HEIGHT - LEC (from 23-05-08).pdf\n",
      "COUNT 278\n",
      "Aon Chubb XOL Policy Schedule Feb 2019 - CL.pdf\n",
      "COUNT 279\n"
     ]
    },
    {
     "name": "stderr",
     "output_type": "stream",
     "text": [
      "/opt/app/RB/.local/lib/python3.6/site-packages/pdfminer/pdfpage.py:140: PDFTextExtractionNotAllowedWarning: The PDF <_io.BufferedReader name='Documents/UK-Casualty/Chubb Standard Wording/COVERAGE PRIOR TO SIGHT OF PRIMARY WORDING - XBH (to 31-12-06).pdf'> contains a metadata field indicating that it should not allow text extraction. Ignoring this field and proceeding.\n",
      "  warnings.warn(warning_msg, PDFTextExtractionNotAllowedWarning)\n"
     ]
    },
    {
     "name": "stdout",
     "output_type": "stream",
     "text": [
      "2016 - Stand Alone Single Project Non-Negligent Damage Liability Policy for Contractors - JCT_SP_C_9 (to 31-12-18).pdf\n",
      "COUNT 280\n"
     ]
    },
    {
     "name": "stderr",
     "output_type": "stream",
     "text": [
      "/opt/app/RB/.local/lib/python3.6/site-packages/pdfminer/pdfpage.py:140: PDFTextExtractionNotAllowedWarning: The PDF <_io.BufferedReader name='Documents/UK-Casualty/Chubb Standard Wording/2016 - Stand Alone Single Project Non-Negligent Damage Liability Policy for Contractors - JCT_SP_C_9 (to 31-12-18).pdf'> contains a metadata field indicating that it should not allow text extraction. Ignoring this field and proceeding.\n",
      "  warnings.warn(warning_msg, PDFTextExtractionNotAllowedWarning)\n"
     ]
    },
    {
     "name": "stdout",
     "output_type": "stream",
     "text": [
      "MUNITIONS OF WAR - PL - CMN19a.pdf\n",
      "COUNT 281\n",
      "EMPLOYERS LIABILITY MINIMUM LIMIT - EL - L87a.pdf\n",
      "COUNT 282\n",
      "POLLUTION - SUDDEN UNINTENDED AND UNEXPECTED POLLUTION CLAUSE (ABI) - PL - L81a.pdf\n",
      "COUNT 283\n",
      "Binding Cover Template.pdf\n",
      "COUNT 284\n",
      "DIFFERENCE IN CONDITIONS - EL,PL - LBK (From 1-12-05 to 09-03-11).pdf\n",
      "COUNT 285\n",
      "POLLUTION – SUDDEN AND ACCIDENTAL - XAA.pdf\n",
      "COUNT 286\n",
      "MUNITIONS OF WAR - PL - LCW.pdf\n",
      "COUNT 287\n",
      "POLLUTION - S + A POLL CLAUSE (ABI) - PL - L81 (from 01-07-09).pdf\n",
      "COUNT 288\n",
      "USE OF HEAT EQUIPMENT AWAY FROM PREMISES EXCLUSION - XAC (from 01-01-15).pdf\n",
      "COUNT 289\n",
      "TERRORISM EXCLUSION - EL -LBBa.pdf\n",
      "COUNT 290\n",
      "UNITED KINGDOM JURISDICTION CLAUSE - PL - L25 (from 10-03-11).pdf\n",
      "COUNT 291\n",
      "CONSTRUCTION - CIVIL ENGINEERING - EXCLUDED WORK CLAUSE - EL,PL - L38.pdf\n",
      "COUNT 292\n",
      "Excess EL Quinn endts - UK - to be attached in all cases - XQA.pdf\n",
      "COUNT 293\n"
     ]
    },
    {
     "name": "stderr",
     "output_type": "stream",
     "text": [
      "/opt/app/RB/.local/lib/python3.6/site-packages/pdfminer/pdfpage.py:140: PDFTextExtractionNotAllowedWarning: The PDF <_io.BufferedReader name='Documents/UK-Casualty/Chubb Standard Wording/Excess EL Quinn endts - UK - to be attached in all cases - XQA.pdf'> contains a metadata field indicating that it should not allow text extraction. Ignoring this field and proceeding.\n",
      "  warnings.warn(warning_msg, PDFTextExtractionNotAllowedWarning)\n"
     ]
    },
    {
     "name": "stdout",
     "output_type": "stream",
     "text": [
      "2008 - 2009 - Excess PPL Quinn - XS PL (Quinn)(ROI)_4 (to 30-04-09).pdf\n",
      "COUNT 294\n"
     ]
    },
    {
     "name": "stderr",
     "output_type": "stream",
     "text": [
      "/opt/app/RB/.local/lib/python3.6/site-packages/pdfminer/pdfpage.py:140: PDFTextExtractionNotAllowedWarning: The PDF <_io.BufferedReader name='Documents/UK-Casualty/Chubb Standard Wording/2008 - 2009 - Excess PPL Quinn - XS PL (Quinn)(ROI)_4 (to 30-04-09).pdf'> contains a metadata field indicating that it should not allow text extraction. Ignoring this field and proceeding.\n",
      "  warnings.warn(warning_msg, PDFTextExtractionNotAllowedWarning)\n"
     ]
    },
    {
     "name": "stdout",
     "output_type": "stream",
     "text": [
      "FIN LOSS EXT - Standard - PL - LAX - From 01-02-06 to 25-01-07.pdf\n",
      "COUNT 295\n",
      "2015 - Primary Clinical Trials Policy - CTPrim(Blan)(ROI)_6 (from 17-07-15 to 31-12-15).pdf\n",
      "COUNT 296\n"
     ]
    },
    {
     "name": "stderr",
     "output_type": "stream",
     "text": [
      "/opt/app/RB/.local/lib/python3.6/site-packages/pdfminer/pdfpage.py:140: PDFTextExtractionNotAllowedWarning: The PDF <_io.BufferedReader name='Documents/UK-Casualty/Chubb Standard Wording/2015 - Primary Clinical Trials Policy - CTPrim(Blan)(ROI)_6 (from 17-07-15 to 31-12-15).pdf'> contains a metadata field indicating that it should not allow text extraction. Ignoring this field and proceeding.\n",
      "  warnings.warn(warning_msg, PDFTextExtractionNotAllowedWarning)\n"
     ]
    },
    {
     "name": "stdout",
     "output_type": "stream",
     "text": [
      "2014 - Primary Liability Policy (Enhanced Cover, if this is specifically quoted) - CasPrim(ROI)_12.pdf\n",
      "COUNT 297\n"
     ]
    },
    {
     "name": "stderr",
     "output_type": "stream",
     "text": [
      "/opt/app/RB/.local/lib/python3.6/site-packages/pdfminer/pdfpage.py:140: PDFTextExtractionNotAllowedWarning: The PDF <_io.BufferedReader name='Documents/UK-Casualty/Chubb Standard Wording/2014 - Primary Liability Policy (Enhanced Cover, if this is specifically quoted) - CasPrim(ROI)_12.pdf'> contains a metadata field indicating that it should not allow text extraction. Ignoring this field and proceeding.\n",
      "  warnings.warn(warning_msg, PDFTextExtractionNotAllowedWarning)\n"
     ]
    },
    {
     "name": "stdout",
     "output_type": "stream",
     "text": [
      "2005 - Excess PPL Quinn - XS PPL (Quinn) (ROI)_1.pdf\n",
      "COUNT 298\n"
     ]
    },
    {
     "name": "stderr",
     "output_type": "stream",
     "text": [
      "/opt/app/RB/.local/lib/python3.6/site-packages/pdfminer/pdfpage.py:140: PDFTextExtractionNotAllowedWarning: The PDF <_io.BufferedReader name='Documents/UK-Casualty/Chubb Standard Wording/2005 - Excess PPL Quinn - XS PPL (Quinn) (ROI)_1.pdf'> contains a metadata field indicating that it should not allow text extraction. Ignoring this field and proceeding.\n",
      "  warnings.warn(warning_msg, PDFTextExtractionNotAllowedWarning)\n"
     ]
    },
    {
     "name": "stdout",
     "output_type": "stream",
     "text": [
      "Genetically Modified Products Exclusion - XAV v1 (Aon_XS_Comb_Liab 10-18).pdf\n",
      "COUNT 299\n",
      "Data Protection Legislation Exclusion - XMN v1 (Aon_XS_Comb_Liab 10-18).pdf\n",
      "COUNT 300\n",
      "ASBESTOS EXCLUSION - EL - LAM.pdf\n",
      "COUNT 301\n",
      "COVERAGE PRIOR TO SIGHT OF PRIMARY WORDING (for XMTPD only) - XCD (from 18-07-07 to 31-12-07).pdf\n",
      "COUNT 302\n",
      "EMF (ELECTRO MAGNETIC FIELDS) EXCLUSION - XAT.pdf\n",
      "COUNT 303\n"
     ]
    },
    {
     "name": "stderr",
     "output_type": "stream",
     "text": [
      "/opt/app/RB/.local/lib/python3.6/site-packages/pdfminer/pdfpage.py:140: PDFTextExtractionNotAllowedWarning: The PDF <_io.BufferedReader name='Documents/UK-Casualty/Chubb Standard Wording/ASBESTOS EXCLUSION - EL - LAM.pdf'> contains a metadata field indicating that it should not allow text extraction. Ignoring this field and proceeding.\n",
      "  warnings.warn(warning_msg, PDFTextExtractionNotAllowedWarning)\n"
     ]
    },
    {
     "name": "stdout",
     "output_type": "stream",
     "text": [
      "2016 - Primary Clinical Trials Wording - CTPrim(Blan)_7.pdf\n",
      "COUNT 304\n"
     ]
    },
    {
     "name": "stderr",
     "output_type": "stream",
     "text": [
      "/opt/app/RB/.local/lib/python3.6/site-packages/pdfminer/pdfpage.py:140: PDFTextExtractionNotAllowedWarning: The PDF <_io.BufferedReader name='Documents/UK-Casualty/Chubb Standard Wording/2016 - Primary Clinical Trials Wording - CTPrim(Blan)_7.pdf'> contains a metadata field indicating that it should not allow text extraction. Ignoring this field and proceeding.\n",
      "  warnings.warn(warning_msg, PDFTextExtractionNotAllowedWarning)\n"
     ]
    },
    {
     "name": "stdout",
     "output_type": "stream",
     "text": [
      "2006 - Primary Liability Policy - CasPrim(ROI)_5.pdf\n",
      "COUNT 305\n",
      "Motor Exclusion (for select excess policies) - XBZ v1 (Aon_XS_Comb_Liab 10-18).pdf\n",
      "COUNT 306\n",
      "2008 - 2009 - Excess Motor Third Party Liability - XMTPD(ROI)_4 (to 30-04-09).pdf\n",
      "COUNT 307\n"
     ]
    },
    {
     "name": "stderr",
     "output_type": "stream",
     "text": [
      "/opt/app/RB/.local/lib/python3.6/site-packages/pdfminer/pdfpage.py:140: PDFTextExtractionNotAllowedWarning: The PDF <_io.BufferedReader name='Documents/UK-Casualty/Chubb Standard Wording/2008 - 2009 - Excess Motor Third Party Liability - XMTPD(ROI)_4 (to 30-04-09).pdf'> contains a metadata field indicating that it should not allow text extraction. Ignoring this field and proceeding.\n",
      "  warnings.warn(warning_msg, PDFTextExtractionNotAllowedWarning)\n"
     ]
    },
    {
     "name": "stdout",
     "output_type": "stream",
     "text": [
      "PRODUCTS LIABILITY EXCLUSION - XAE.pdf\n",
      "COUNT 308\n",
      "DIFFERENCE IN LIMITS - PL - LBLa.pdf\n",
      "COUNT 309\n",
      "ATHLETIC PARTICIPANTS EXCLUSION - X47.pdf\n",
      "COUNT 310\n",
      "TOUR OPERATORS LIABILITY EXCLUSION - STATUTE - XFD (from 27-08-08).pdf\n",
      "COUNT 311\n",
      "USA, CANADA - DIRECT EXPORTS RUN OFF COVER EXCLUSION - PL - LCXa (not for CasPrim(FOS) policy).pdf\n",
      "COUNT 312\n",
      "Bouncy Castle - IAC.pdf\n",
      "COUNT 313\n",
      "TERRORISM EXCLUSION - PL - LBDa.pdf\n",
      "COUNT 314\n",
      "MOTOR VEHICLE PROPERTY DAMAGE EXTENSION - X39 (to 04-03-11).pdf\n",
      "COUNT 315\n"
     ]
    },
    {
     "name": "stderr",
     "output_type": "stream",
     "text": [
      "/opt/app/RB/.local/lib/python3.6/site-packages/pdfminer/pdfpage.py:140: PDFTextExtractionNotAllowedWarning: The PDF <_io.BufferedReader name='Documents/UK-Casualty/Chubb Standard Wording/MOTOR VEHICLE PROPERTY DAMAGE EXTENSION - X39 (to 04-03-11).pdf'> contains a metadata field indicating that it should not allow text extraction. Ignoring this field and proceeding.\n",
      "  warnings.warn(warning_msg, PDFTextExtractionNotAllowedWarning)\n"
     ]
    },
    {
     "name": "stdout",
     "output_type": "stream",
     "text": [
      "JCT 21.2.1 – EXCESS COVER (stand alone policy) - to 30-9-06 - See Non-Negligent - XBN.pdf\n",
      "COUNT 316\n",
      "2019 CasPrim(ROI)_17 (SE - From 01-01-19).pdf\n",
      "COUNT 317\n"
     ]
    },
    {
     "name": "stderr",
     "output_type": "stream",
     "text": [
      "/opt/app/RB/.local/lib/python3.6/site-packages/pdfminer/pdfpage.py:140: PDFTextExtractionNotAllowedWarning: The PDF <_io.BufferedReader name='Documents/UK-Casualty/Chubb Standard Wording/2019 CasPrim(ROI)_17 (SE - From 01-01-19).pdf'> contains a metadata field indicating that it should not allow text extraction. Ignoring this field and proceeding.\n",
      "  warnings.warn(warning_msg, PDFTextExtractionNotAllowedWarning)\n"
     ]
    },
    {
     "name": "stdout",
     "output_type": "stream",
     "text": [
      "LONG TERM AGREEMENT (POLICY) CLAUSE - LFX (no discount) (from 07-12-10) (replaced by LGE).pdf\n",
      "COUNT 318\n",
      "DIFFERENCE IN CONDITIONS + DIFFERENCE IN LIMITS - LDJ (to 09-03-11).pdf\n",
      "COUNT 319\n",
      "Hazardous Activities Exclusion - IAU.pdf\n",
      "COUNT 320\n",
      "TOUR OPERATORS LIABILITY EXCLUSION - FULL - PL - LBQ.pdf\n",
      "COUNT 321\n",
      "AIDS EXCLUSION (EL or PL Only, Excess Combined) - XCS (from 06-05-08).pdf\n",
      "COUNT 322\n",
      "Failure to Supply - X36 v1 (Aon_XS_Comb_Liab 10-18).pdf\n",
      "COUNT 323\n",
      "OFFSHORE WORK EXCLUSION (PL, Excess Combined) - XDY (from 06-05-08 to 03-04-09).pdf\n",
      "COUNT 324\n",
      "MEDICAL SERVICES EXCLUSION - XFT (PL only, Excess Combined) (from 27-03-15).pdf\n",
      "COUNT 325\n",
      "Trio Combined Liability Wording May 2017.pdf\n",
      "COUNT 326\n",
      "2013 - Stand Alone Single Project Non-Negligent Damage Liability for Contractors - JCT_SP_C_7 (from 15-10-13).pdf\n",
      "COUNT 327\n"
     ]
    },
    {
     "name": "stderr",
     "output_type": "stream",
     "text": [
      "/opt/app/RB/.local/lib/python3.6/site-packages/pdfminer/pdfpage.py:140: PDFTextExtractionNotAllowedWarning: The PDF <_io.BufferedReader name='Documents/UK-Casualty/Chubb Standard Wording/2013 - Stand Alone Single Project Non-Negligent Damage Liability for Contractors - JCT_SP_C_7 (from 15-10-13).pdf'> contains a metadata field indicating that it should not allow text extraction. Ignoring this field and proceeding.\n",
      "  warnings.warn(warning_msg, PDFTextExtractionNotAllowedWarning)\n"
     ]
    },
    {
     "name": "stdout",
     "output_type": "stream",
     "text": [
      "2013 - Primary Liability Policy (Enhanced Cover, if this is specifically quoted) - CasPrim(ROI)_11.pdf\n",
      "COUNT 328\n"
     ]
    },
    {
     "name": "stderr",
     "output_type": "stream",
     "text": [
      "/opt/app/RB/.local/lib/python3.6/site-packages/pdfminer/pdfpage.py:140: PDFTextExtractionNotAllowedWarning: The PDF <_io.BufferedReader name='Documents/UK-Casualty/Chubb Standard Wording/2013 - Primary Liability Policy (Enhanced Cover, if this is specifically quoted) - CasPrim(ROI)_11.pdf'> contains a metadata field indicating that it should not allow text extraction. Ignoring this field and proceeding.\n",
      "  warnings.warn(warning_msg, PDFTextExtractionNotAllowedWarning)\n"
     ]
    },
    {
     "name": "stdout",
     "output_type": "stream",
     "text": [
      "DATA RISK AND CYBER LIABILITY EXCLUSION (EL, PL, Motor Excess Combined) - XMT (from 18-04-19).pdf\n",
      "COUNT 329\n",
      "360 Multinational PDBI and Liab Schedule - Version 4 (Jan 2019).pdf\n",
      "COUNT 330\n",
      "Excess PL Quinn endts - UK - to be attached in all cases - XQB.pdf\n",
      "COUNT 331\n"
     ]
    },
    {
     "name": "stderr",
     "output_type": "stream",
     "text": [
      "/opt/app/RB/.local/lib/python3.6/site-packages/pdfminer/pdfpage.py:140: PDFTextExtractionNotAllowedWarning: The PDF <_io.BufferedReader name='Documents/UK-Casualty/Chubb Standard Wording/Excess PL Quinn endts - UK - to be attached in all cases - XQB.pdf'> contains a metadata field indicating that it should not allow text extraction. Ignoring this field and proceeding.\n",
      "  warnings.warn(warning_msg, PDFTextExtractionNotAllowedWarning)\n"
     ]
    },
    {
     "name": "stdout",
     "output_type": "stream",
     "text": [
      "JCT Contract Clause 6_5_1 Questionnaire (SE - From 01-01-2019).pdf\n",
      "COUNT 332\n",
      "FINANCIAL LOSS EXTENSION - PL - LFL - Up To 31-01-06.pdf\n",
      "COUNT 333\n",
      "TRACKSIDE LIABILITY EXCLUSION - PL- LDGa.pdf\n",
      "COUNT 334\n",
      "Marsh UK  - Excess Liability Policy 01Sept2017.pdf\n",
      "COUNT 335\n",
      "European Union Jurisdiction - IAL.pdf\n",
      "COUNT 336\n",
      "BITUMEN HEATING CONDITIONS - PL - L24 (to 30-04-09).pdf\n",
      "COUNT 337\n",
      "Aircrafts Products Exclusion - X20 v1 (Aon_XS_Comb_Liab 10-18).pdf\n",
      "COUNT 338\n",
      "ASBESTOS EXCLUSION - EL - LDBa.pdf\n",
      "COUNT 339\n",
      "INFORMATION EXCLUSION - PL - L84 (to 28-2-07).pdf\n",
      "COUNT 340\n",
      "AIRSIDE WORK EXCLUSION - PL - L23 (From 1-12-05).pdf\n",
      "COUNT 341\n",
      "POLLUTION - SUDDEN UNINTENDED+UNEXPECTED POLLN CLAUSE (ABI) (PL Only,XS Comb) - XED (from 06-05-08).pdf\n",
      "COUNT 342\n",
      "2009 - 2010 - Select Excess Umbrella Liability Policy (DIL Version) - SelectXs(DIL)(ROI)_7 (from 01-05-09).pdf\n",
      "COUNT 343\n"
     ]
    },
    {
     "name": "stderr",
     "output_type": "stream",
     "text": [
      "/opt/app/RB/.local/lib/python3.6/site-packages/pdfminer/pdfpage.py:140: PDFTextExtractionNotAllowedWarning: The PDF <_io.BufferedReader name='Documents/UK-Casualty/Chubb Standard Wording/2009 - 2010 - Select Excess Umbrella Liability Policy (DIL Version) - SelectXs(DIL)(ROI)_7 (from 01-05-09).pdf'> contains a metadata field indicating that it should not allow text extraction. Ignoring this field and proceeding.\n",
      "  warnings.warn(warning_msg, PDFTextExtractionNotAllowedWarning)\n"
     ]
    },
    {
     "name": "stdout",
     "output_type": "stream",
     "text": [
      "Health Spa Treatment Conditions - IAX.pdf\n",
      "COUNT 344\n",
      "Pollution US Named Perils - L115a.pdf\n",
      "COUNT 345\n",
      "2008 - 2010 - Primary Liability Policy - CasPrim(ROI)_7 (to 30-06-10).pdf\n",
      "COUNT 346\n"
     ]
    },
    {
     "name": "stderr",
     "output_type": "stream",
     "text": [
      "/opt/app/RB/.local/lib/python3.6/site-packages/pdfminer/pdfpage.py:140: PDFTextExtractionNotAllowedWarning: The PDF <_io.BufferedReader name='Documents/UK-Casualty/Chubb Standard Wording/2008 - 2010 - Primary Liability Policy - CasPrim(ROI)_7 (to 30-06-10).pdf'> contains a metadata field indicating that it should not allow text extraction. Ignoring this field and proceeding.\n",
      "  warnings.warn(warning_msg, PDFTextExtractionNotAllowedWarning)\n"
     ]
    },
    {
     "name": "stdout",
     "output_type": "stream",
     "text": [
      "WAREHOUSE KEEPERS EXCLUSION (PL Only, Excess Combined) - XEU (from 06-05-08).pdf\n",
      "COUNT 347\n",
      "2018 MN Partner Casualty OS_6 (To 31-12-18).pdf\n",
      "COUNT 348\n",
      "COVERAGE PRIOR TO SIGHT OF PRIMARY WORDING (EL) - XCJ (from 18-07-07 to 31-12-07).pdf\n",
      "COUNT 349\n",
      "Silica, Dust and Particulate Matter Exclusion - XCB v1 (Aon_XS_Comb_Liab 10-18).pdf\n",
      "COUNT 350\n",
      "2012 - Primary Liability Policy (Enhanced Cover, if this is specifically quoted) - CasPrim(ROI)_10.pdf\n",
      "COUNT 351\n"
     ]
    },
    {
     "name": "stderr",
     "output_type": "stream",
     "text": [
      "/opt/app/RB/.local/lib/python3.6/site-packages/pdfminer/pdfpage.py:140: PDFTextExtractionNotAllowedWarning: The PDF <_io.BufferedReader name='Documents/UK-Casualty/Chubb Standard Wording/2012 - Primary Liability Policy (Enhanced Cover, if this is specifically quoted) - CasPrim(ROI)_10.pdf'> contains a metadata field indicating that it should not allow text extraction. Ignoring this field and proceeding.\n",
      "  warnings.warn(warning_msg, PDFTextExtractionNotAllowedWarning)\n"
     ]
    },
    {
     "name": "stdout",
     "output_type": "stream",
     "text": [
      "Deliberate Acts Exclusion - L106a.pdf\n",
      "COUNT 352\n",
      "WAREHOUSE KEEPERS EXCLUSION - XBC.pdf\n",
      "COUNT 353\n",
      "TREE FELLING AND LOPPING EXCLUSION - PL - L66a.pdf\n",
      "COUNT 354\n",
      "DISPENSING OF DRUGS - PL - LAOa.pdf\n",
      "COUNT 355\n",
      "POLLUTION (EIL) SECTION EXTENSION - LDOa.pdf\n",
      "COUNT 356\n",
      "EMPLOYERS LIABILITY MINIMUM LIMIT - EL - L87.pdf\n",
      "COUNT 357\n",
      "CROP SPRAYING EXCLUSION (EL or PL only, Excess Combined) - XDE (from 06-05-08).pdf\n",
      "COUNT 358\n",
      "Participant to Participant Extension - IBL.pdf\n",
      "COUNT 359\n",
      "FAILURE TO SUPPLY (PL Only, Excess Combined) - XEW (from 06-05-08).pdf\n",
      "COUNT 360\n",
      "CONTRACTUAL LIABILITY EXTENSION (oil and gas industry) - LCEa.pdf\n",
      "COUNT 361\n",
      "2009 - 2011 Primary Clinical Trial Wording - CTPrim(CM)_3 (to 30-09-11).pdf\n",
      "COUNT 362\n"
     ]
    },
    {
     "name": "stderr",
     "output_type": "stream",
     "text": [
      "/opt/app/RB/.local/lib/python3.6/site-packages/pdfminer/pdfpage.py:140: PDFTextExtractionNotAllowedWarning: The PDF <_io.BufferedReader name='Documents/UK-Casualty/Chubb Standard Wording/2009 - 2011 Primary Clinical Trial Wording - CTPrim(CM)_3 (to 30-09-11).pdf'> contains a metadata field indicating that it should not allow text extraction. Ignoring this field and proceeding.\n",
      "  warnings.warn(warning_msg, PDFTextExtractionNotAllowedWarning)\n"
     ]
    },
    {
     "name": "stdout",
     "output_type": "stream",
     "text": [
      "2012 - Excess Combined Liability Policy - XSComb(ROI)_9.pdf\n",
      "COUNT 363\n"
     ]
    },
    {
     "name": "stderr",
     "output_type": "stream",
     "text": [
      "/opt/app/RB/.local/lib/python3.6/site-packages/pdfminer/pdfpage.py:140: PDFTextExtractionNotAllowedWarning: The PDF <_io.BufferedReader name='Documents/UK-Casualty/Chubb Standard Wording/2012 - Excess Combined Liability Policy - XSComb(ROI)_9.pdf'> contains a metadata field indicating that it should not allow text extraction. Ignoring this field and proceeding.\n",
      "  warnings.warn(warning_msg, PDFTextExtractionNotAllowedWarning)\n"
     ]
    },
    {
     "name": "stdout",
     "output_type": "stream",
     "text": [
      "AIRCRAFT WATERCRAFT VEHICLES (PL Only, Excess Combined) - XMV (from 18-04-19).pdf\n",
      "COUNT 364\n",
      "FINANCIAL LOSS EXTENSION - PL - LDTa (not for CasPrim(FOS)).pdf\n",
      "COUNT 365\n",
      "WOODWORKING MACHINERY EXCLUSION - EL or PL - CMN32a.pdf\n",
      "COUNT 366\n",
      "2018 - Primary Liability Policy(Enhanced Cover) - CasPrim(ROI)_17 (from 25-05-2018 to 31-12-18).pdf\n",
      "COUNT 367\n",
      "WOODWORKING MACHINERY EXCLUSION - EL - LAJ.pdf\n",
      "COUNT 368\n",
      "MTBE Exclusion - XFH v1 (Aon_XS_Comb_Liab 10-18).pdf\n",
      "COUNT 369\n",
      "2009 - 2012 - Non-Negligent Damage Liability for Principals - JCT_SP_P (ROI)_3 (to 14-02-12).pdf\n",
      "COUNT 370\n"
     ]
    },
    {
     "name": "stderr",
     "output_type": "stream",
     "text": [
      "/opt/app/RB/.local/lib/python3.6/site-packages/pdfminer/pdfpage.py:140: PDFTextExtractionNotAllowedWarning: The PDF <_io.BufferedReader name='Documents/UK-Casualty/Chubb Standard Wording/2009 - 2012 - Non-Negligent Damage Liability for Principals - JCT_SP_P (ROI)_3 (to 14-02-12).pdf'> contains a metadata field indicating that it should not allow text extraction. Ignoring this field and proceeding.\n",
      "  warnings.warn(warning_msg, PDFTextExtractionNotAllowedWarning)\n"
     ]
    },
    {
     "name": "stdout",
     "output_type": "stream",
     "text": [
      "Global Acc Casualty INDICATION Template (SE - From 01-01-2019).pdf\n",
      "COUNT 371\n",
      "LOSS OF UNDERGROUND RESOURCES EXCLUSION - PL - LCBa.pdf\n",
      "COUNT 372\n",
      "Foetal Alcohol Health Exclusion - L108a.pdf\n",
      "COUNT 373\n",
      "HOTEL PROPRIETORS ACT 1956 - PL - LAYa.pdf\n",
      "COUNT 374\n",
      "2012 - 2013 - Primary Clinical Trial Wording - CTPrim(CM)_5 (from 01-10-12 to 31-12-13).pdf\n",
      "COUNT 375\n"
     ]
    },
    {
     "name": "stderr",
     "output_type": "stream",
     "text": [
      "/opt/app/RB/.local/lib/python3.6/site-packages/pdfminer/pdfpage.py:140: PDFTextExtractionNotAllowedWarning: The PDF <_io.BufferedReader name='Documents/UK-Casualty/Chubb Standard Wording/2012 - 2013 - Primary Clinical Trial Wording - CTPrim(CM)_5 (from 01-10-12 to 31-12-13).pdf'> contains a metadata field indicating that it should not allow text extraction. Ignoring this field and proceeding.\n",
      "  warnings.warn(warning_msg, PDFTextExtractionNotAllowedWarning)\n"
     ]
    },
    {
     "name": "stdout",
     "output_type": "stream",
     "text": [
      "USE OF HEAT EQUIPMENT AWAY FROM PREMISES EXCLUSION - XAC (to 31-12-14).pdf\n",
      "COUNT 376\n",
      "Batch Clause - L102a.pdf\n",
      "COUNT 377\n",
      "CONSTRUCTION - CIVIL ENGINEERING - EXCLUDED WORK CLAUSE - EL,PL - L38a.pdf\n",
      "COUNT 378\n",
      "USA,CANADA JURISDICTION EXCLUSION - EL,PL - L34a (not for CasPrim(FOS) policy).pdf\n",
      "COUNT 379\n",
      "2019 CasPrim(OS)_10 (SE - From 01-01-19).pdf\n",
      "COUNT 380\n"
     ]
    },
    {
     "name": "stderr",
     "output_type": "stream",
     "text": [
      "/opt/app/RB/.local/lib/python3.6/site-packages/pdfminer/pdfpage.py:140: PDFTextExtractionNotAllowedWarning: The PDF <_io.BufferedReader name='Documents/UK-Casualty/Chubb Standard Wording/2019 CasPrim(OS)_10 (SE - From 01-01-19).pdf'> contains a metadata field indicating that it should not allow text extraction. Ignoring this field and proceeding.\n",
      "  warnings.warn(warning_msg, PDFTextExtractionNotAllowedWarning)\n"
     ]
    },
    {
     "name": "stdout",
     "output_type": "stream",
     "text": [
      "RIGHTS OF RECOURSE - PL - XCQ (from 18-04-08).pdf\n",
      "COUNT 381\n",
      "2013 - Stand Alone Single Project Non-Negligent Damage Liability for Principals - JCT_SP_P_7 (from 15-10-13).pdf\n",
      "COUNT 382\n"
     ]
    },
    {
     "name": "stderr",
     "output_type": "stream",
     "text": [
      "/opt/app/RB/.local/lib/python3.6/site-packages/pdfminer/pdfpage.py:140: PDFTextExtractionNotAllowedWarning: The PDF <_io.BufferedReader name='Documents/UK-Casualty/Chubb Standard Wording/2013 - Stand Alone Single Project Non-Negligent Damage Liability for Principals - JCT_SP_P_7 (from 15-10-13).pdf'> contains a metadata field indicating that it should not allow text extraction. Ignoring this field and proceeding.\n",
      "  warnings.warn(warning_msg, PDFTextExtractionNotAllowedWarning)\n"
     ]
    },
    {
     "name": "stdout",
     "output_type": "stream",
     "text": [
      "2007 - Excess EL Quinn - XS EL (Quinn)_2.pdf\n",
      "COUNT 383\n"
     ]
    },
    {
     "name": "stderr",
     "output_type": "stream",
     "text": [
      "/opt/app/RB/.local/lib/python3.6/site-packages/pdfminer/pdfpage.py:140: PDFTextExtractionNotAllowedWarning: The PDF <_io.BufferedReader name='Documents/UK-Casualty/Chubb Standard Wording/2007 - Excess EL Quinn - XS EL (Quinn)_2.pdf'> contains a metadata field indicating that it should not allow text extraction. Ignoring this field and proceeding.\n",
      "  warnings.warn(warning_msg, PDFTextExtractionNotAllowedWarning)\n"
     ]
    },
    {
     "name": "stdout",
     "output_type": "stream",
     "text": [
      "OFFSHORE - CONTRACTUAL LIABILITY EXTENSION - EL,PL - LCE - to 19-9-06 .pdf\n",
      "COUNT 384\n",
      "2018 MN Partner Casualty OS EIL_6 (To 31-12-18).pdf\n",
      "COUNT 385\n",
      "OFFSHORE WORK CLAUSE - LEH (from 23-05-08 to 30-04-09).pdf\n",
      "COUNT 386\n",
      "FINANCIAL LOSS EXTENSION - INNER LIMIT - PL - L89 - Up To 31-01-06.pdf\n",
      "COUNT 387\n",
      "WELDING FUMES EXCLUSION - PL - LFZ (from 01-03-11).pdf\n",
      "COUNT 388\n",
      "HAZARDOUS GOODS EXCLUSION (EL or PL or Motor Only, Excess Combined) - XDL (from 06-05-08).pdf\n",
      "COUNT 389\n",
      "Manual Work Away from the Premises Exclusion - XAR v1 (Aon_XS_Comb_Liab 10-18).pdf\n",
      "COUNT 390\n",
      "PROPERTY OWNERS LIABILITY - LODGED WITH COMPANY - PL - LCA.pdf\n",
      "COUNT 391\n",
      "Safety Critical Vehicle Products Exclusion  - XMR.pdf\n",
      "COUNT 392\n",
      "Tobacco Products Exclusion - PL - LGIa.pdf\n",
      "COUNT 393\n",
      "DIRECT EXPORTS TO THE USA-CANADA EXCLUSION - XAG.pdf\n",
      "COUNT 394\n",
      "PYRITE EXCLUSION - LFVa.pdf\n",
      "COUNT 395\n",
      "2016 - Excess Combined Liability Policy - XSComb(ROI)_13 (to 31-10-16).pdf\n",
      "COUNT 396\n"
     ]
    },
    {
     "name": "stderr",
     "output_type": "stream",
     "text": [
      "/opt/app/RB/.local/lib/python3.6/site-packages/pdfminer/pdfpage.py:140: PDFTextExtractionNotAllowedWarning: The PDF <_io.BufferedReader name='Documents/UK-Casualty/Chubb Standard Wording/2016 - Excess Combined Liability Policy - XSComb(ROI)_13 (to 31-10-16).pdf'> contains a metadata field indicating that it should not allow text extraction. Ignoring this field and proceeding.\n",
      "  warnings.warn(warning_msg, PDFTextExtractionNotAllowedWarning)\n"
     ]
    },
    {
     "name": "stdout",
     "output_type": "stream",
     "text": [
      "EL Certificate - Standard (SE - From 30-04-2019).pdf\n",
      "COUNT 397\n",
      "PHARMACEUTICALS EXCLUSION - XAO.pdf\n",
      "COUNT 398\n",
      "2013 - Primary Liability Policy (Limited Cover) - CasPrimlimited(ROI)_4.pdf\n",
      "COUNT 399\n"
     ]
    },
    {
     "name": "stderr",
     "output_type": "stream",
     "text": [
      "/opt/app/RB/.local/lib/python3.6/site-packages/pdfminer/pdfpage.py:140: PDFTextExtractionNotAllowedWarning: The PDF <_io.BufferedReader name='Documents/UK-Casualty/Chubb Standard Wording/2013 - Primary Liability Policy (Limited Cover) - CasPrimlimited(ROI)_4.pdf'> contains a metadata field indicating that it should not allow text extraction. Ignoring this field and proceeding.\n",
      "  warnings.warn(warning_msg, PDFTextExtractionNotAllowedWarning)\n"
     ]
    },
    {
     "name": "stdout",
     "output_type": "stream",
     "text": [
      "DIC, DIL Exclusion - Specd Territories or Subsidiaries - L129a.pdf\n",
      "COUNT 400\n",
      "2015 - Primary Liability Policy (Enhanced Cover, if this is specifically quoted) - CasPrim(ROI)_13.pdf\n",
      "COUNT 401\n"
     ]
    },
    {
     "name": "stderr",
     "output_type": "stream",
     "text": [
      "/opt/app/RB/.local/lib/python3.6/site-packages/pdfminer/pdfpage.py:140: PDFTextExtractionNotAllowedWarning: The PDF <_io.BufferedReader name='Documents/UK-Casualty/Chubb Standard Wording/2015 - Primary Liability Policy (Enhanced Cover, if this is specifically quoted) - CasPrim(ROI)_13.pdf'> contains a metadata field indicating that it should not allow text extraction. Ignoring this field and proceeding.\n",
      "  warnings.warn(warning_msg, PDFTextExtractionNotAllowedWarning)\n"
     ]
    },
    {
     "name": "stdout",
     "output_type": "stream",
     "text": [
      "SCHEDULE TO SPECIAL EXTENSION 1 - PRODUCTS RECALL EXPENSE - LGDa.pdf\n",
      "COUNT 402\n",
      "ELECTRONIC DATE RECOGNITION CLAUSE - PL - L2Ka.pdf\n",
      "COUNT 403\n",
      "2013 - Non-Negligent Damage Liability for Principals - JCT_SP_P (ROI)_5 (from 15-10-13).pdf\n",
      "COUNT 404\n"
     ]
    },
    {
     "name": "stderr",
     "output_type": "stream",
     "text": [
      "/opt/app/RB/.local/lib/python3.6/site-packages/pdfminer/pdfpage.py:140: PDFTextExtractionNotAllowedWarning: The PDF <_io.BufferedReader name='Documents/UK-Casualty/Chubb Standard Wording/2013 - Non-Negligent Damage Liability for Principals - JCT_SP_P (ROI)_5 (from 15-10-13).pdf'> contains a metadata field indicating that it should not allow text extraction. Ignoring this field and proceeding.\n",
      "  warnings.warn(warning_msg, PDFTextExtractionNotAllowedWarning)\n"
     ]
    },
    {
     "name": "stdout",
     "output_type": "stream",
     "text": [
      "DATE RECOGNITION CLAUSE (PL Only, Excess Combined) - XDG (from 06-05-08).pdf\n",
      "COUNT 405\n",
      "PYRITE EXCLUSION (PL Only, Excess Combined) - XFM.pdf\n",
      "COUNT 406\n",
      "FINANCIAL LOSS EXTENSION - Limit in Addition - PL - LFL - From 01-02-06 To 25-01-07.pdf\n",
      "COUNT 407\n",
      "MRSA AND CD EXCLUSION (EL or PL Only, Excess Combined) - XEY (from 06-05-08).pdf\n",
      "COUNT 408\n",
      "PROPERTY OWNERS LIABILITY - LISTING - PL - L43.pdf\n",
      "COUNT 409\n",
      "FAILURE TO SUPPLY - L61a.pdf\n",
      "COUNT 410\n",
      "2007 - Non-Negligent Damage Liability for Contractors - JCT_SP_C (ROI)_1.pdf\n",
      "COUNT 411\n"
     ]
    },
    {
     "name": "stderr",
     "output_type": "stream",
     "text": [
      "/opt/app/RB/.local/lib/python3.6/site-packages/pdfminer/pdfpage.py:140: PDFTextExtractionNotAllowedWarning: The PDF <_io.BufferedReader name='Documents/UK-Casualty/Chubb Standard Wording/2007 - Non-Negligent Damage Liability for Contractors - JCT_SP_C (ROI)_1.pdf'> contains a metadata field indicating that it should not allow text extraction. Ignoring this field and proceeding.\n",
      "  warnings.warn(warning_msg, PDFTextExtractionNotAllowedWarning)\n"
     ]
    },
    {
     "name": "stdout",
     "output_type": "stream",
     "text": [
      "Local Authorities Clause - XAX v1 (Aon_XS_Comb_Liab 10-18).pdf\n",
      "COUNT 412\n",
      "Failure to Supply - L61 - From 01-02-06 - prev  Absolute Failure to Supply.pdf\n",
      "COUNT 413\n",
      "360 UK National Liab Schedule - Version 3 (Jan 2019).pdf\n",
      "COUNT 414\n",
      "360 Multinational PDBI and Liab Wording- Chubb Version 3.1 (Jan 2019).pdf\n",
      "COUNT 415\n",
      "PASS\n",
      "        Contents    Introduction .......................................................................................................................1  Policy Information for the Policyholder...................................................................................2  Making a Claim..................................................................................................................3  Complaints Procedure ........................................................................................................4  Contents...........................................................................................................................5  Schedule of Insurance ........................................................................................................6  General Definitions.............................................................................................................7  Master Policy Provisions ................................................................................................... 19  Section 1 | Property Damage ............................................................................................. 22  Section 2 | Business Interruption ........................................................................................ 29  Section 3 | Specified Business Equipment ........................................................................... 36  Extensions, Exclusions and Conditions applicable to Section 1 | Property Damage, Section 2 |  Business Interruption and Section 3 | Specified Business Equipment ....................................... 37  Section 4 | Money and Personal Accident Assault ................................................................. 43  Section 5 | Goods in Transit............................................................................................... 45  Section 6 | Terrorism ........................................................................................................ 46  Section 7 | Employers’ Liability ........................................................................................... 48  Section 8 | Public Liability.................................................................................................. 50  Section 9 | Products Liability .............................................................................................. 53  Section 10 | Financial Loss ................................................................................................ 54  Section 11 | Professional Indemnity .................................................................................... 56  Extensions, Exclusions and Conditions applicable to Section 7 | Employers’ Liability, Section 8 |  Public Liability, Section 9 | Products Liability, Section 10 | Financial Loss and Section 11 |  Prof essional Indemnity...................................................................................................... 59  Claims Conditions ............................................................................................................ 64  General Conditions .......................................................................................................... 65  General Extensions .......................................................................................................... 71  General Exclusions .......................................................................................................... 72  Data Protection................................................................................................................ 74               360 Multinational PDBI & Liab Wording – Chubb Version 3.1 (Jan 2019)  Page 5 of 75\n",
      "POLLUTION - USA_CANADA - NMA 1686 _ REST OF THE WORLD - NMA 1685 - X50.pdf\n",
      "COUNT 416\n",
      "360 UK National PDBI and Liab Wording - Chubb Version 3.1 (Jan 2019).pdf\n",
      "COUNT 417\n",
      "PASS\n",
      "    Contents        Introduction .......................................................................................................................1  Policy Information for the Policyholder...................................................................................2  Making a Claim..................................................................................................................3  Complaints Procedure ........................................................................................................4  Contents...........................................................................................................................5  Schedule of Insurance ........................................................................................................6  General Definitions.............................................................................................................7  Section  1 |  Property Damage ............................................................................................. 17  Section 2 | Business Interruption ........................................................................................ 24  Section 3 | Specified Business Equipment ........................................................................... 31  Extensions, Exclusions and Conditions applicable to Section 1 | Property Damage, Section 2 |  Business Interruption and Section 3 | Specified Business Equipment ....................................... 32  Section  4  |  Money  and Personal  Accident  Assault ............................................................... 37  Section  5  | Goods in Transit  ............................................................................................... 39  Section  6  |  Terrorism......................................................................................................... 40  Section  7 |  Employers’ Liability ........................................................................................... 42  Section  8  | Public  Liability ................................................................................................. 43  Section  9  | Products  Liability ............................................................................................. 46  Section 10 | Financial Loss ................................................................................................. 47  Section  11  |  Prof essional  Indemnity  ................................................................................... 49  Extensions, Exclusions and Conditions applicable to Section 7 | Employers’ Liability, Section 8 |  Public Liability, Section 9 | Products Liability, Section 10 | Financial Loss and Section 11 |  Prof essional Indemnity...................................................................................................... 52  Claims Conditions............................................................................................................ 57  General Conditions .......................................................................................................... 58  General Extensions.......................................................................................................... 64  General Exclusions .......................................................................................................... 65  Data Protection................................................................................................................ 67                   360 UK National PDBI & Liab Wording – Chubb Version 3.1 (Jan 2019)  Page 5 of 68\n",
      "Children Rides exclusion - IAH.pdf\n",
      "COUNT 418\n",
      "INEFFICACY EXCLUSION - DESIGN - PL - LAEa.pdf\n",
      "COUNT 419\n",
      "FINANCIAL LOSS EXTENSION - Standard - PL - LAX - From 01-02-06 To 25-01-07.pdf\n",
      "COUNT 420\n",
      "Silica and Dust Exclusion - L117a.pdf\n",
      "COUNT 421\n",
      "FOREIGN ENTITY LOSS - SPECIAL CONDITION - XRG.pdf\n",
      "COUNT 422\n",
      "2006 - Stand Alone Single Project JCT 21.2.1 Wording for Contractors - JCT_SP_C_2.pdf\n",
      "COUNT 423\n"
     ]
    },
    {
     "name": "stderr",
     "output_type": "stream",
     "text": [
      "/opt/app/RB/.local/lib/python3.6/site-packages/pdfminer/pdfpage.py:140: PDFTextExtractionNotAllowedWarning: The PDF <_io.BufferedReader name='Documents/UK-Casualty/Chubb Standard Wording/2006 - Stand Alone Single Project JCT 21.2.1 Wording for Contractors - JCT_SP_C_2.pdf'> contains a metadata field indicating that it should not allow text extraction. Ignoring this field and proceeding.\n",
      "  warnings.warn(warning_msg, PDFTextExtractionNotAllowedWarning)\n"
     ]
    },
    {
     "name": "stdout",
     "output_type": "stream",
     "text": [
      "USA CANADA JURISDICTION EXCLUSION - PL - CMN31a.pdf\n",
      "COUNT 424\n",
      "TOXIC MOULD EXCLUSION (PL Only, Excess Combined) - XEO (from 06-05-08).pdf\n",
      "COUNT 425\n",
      "Officials Indemnity Exclusion - IBI.pdf\n",
      "COUNT 426\n",
      "WELDING FUMES EXCLUSION (PL only, Excess Combined) - XFR (from 01-03-11).pdf\n",
      "COUNT 427\n",
      "2014 - Excess Combined Liability Policy - XSComb(ROI)_11.pdf\n",
      "COUNT 428\n"
     ]
    },
    {
     "name": "stderr",
     "output_type": "stream",
     "text": [
      "/opt/app/RB/.local/lib/python3.6/site-packages/pdfminer/pdfpage.py:140: PDFTextExtractionNotAllowedWarning: The PDF <_io.BufferedReader name='Documents/UK-Casualty/Chubb Standard Wording/2014 - Excess Combined Liability Policy - XSComb(ROI)_11.pdf'> contains a metadata field indicating that it should not allow text extraction. Ignoring this field and proceeding.\n",
      "  warnings.warn(warning_msg, PDFTextExtractionNotAllowedWarning)\n"
     ]
    },
    {
     "name": "stdout",
     "output_type": "stream",
     "text": [
      "2005 - Select Excess Umbrella Liability Policy (DIL Version) - SelectXs(ROI)(DIL)_3.pdf\n",
      "COUNT 429\n",
      "Excess Motor Extension - L124a.pdf\n",
      "COUNT 430\n",
      "INFORMATION EXCLUSION - PL - L84a.pdf\n",
      "COUNT 431\n",
      "LOSS OF UNDERGROUND RESOURCES EXCLUSION - PL - LCB (from 01-05-09 to 06-01-11).pdf\n",
      "COUNT 432\n",
      "CROP SPRAYING EXCLUSION - EL,PL - LCH.pdf\n",
      "COUNT 433\n",
      "2013 - Excess Combined Liability Policy - XSComb(ROI)_10.pdf\n",
      "COUNT 434\n"
     ]
    },
    {
     "name": "stderr",
     "output_type": "stream",
     "text": [
      "/opt/app/RB/.local/lib/python3.6/site-packages/pdfminer/pdfpage.py:140: PDFTextExtractionNotAllowedWarning: The PDF <_io.BufferedReader name='Documents/UK-Casualty/Chubb Standard Wording/2013 - Excess Combined Liability Policy - XSComb(ROI)_10.pdf'> contains a metadata field indicating that it should not allow text extraction. Ignoring this field and proceeding.\n",
      "  warnings.warn(warning_msg, PDFTextExtractionNotAllowedWarning)\n"
     ]
    },
    {
     "name": "stdout",
     "output_type": "stream",
     "text": [
      "PROFESSIONAL ADVICE AND TREATMENT EXCLUSION (PL Only, Excess Combined) - XEI (from 06-05-08).pdf\n",
      "COUNT 435\n",
      "MOTOR VEHICLE PROPERTY DAMAGE EXTENSION - X39 (from 05-03-11).pdf\n",
      "COUNT 436\n",
      "POLLUTION AND CONTAMINATION - AGGREGATE LIMIT - LAWa.pdf\n",
      "COUNT 437\n",
      "Specific Underlying Cover Exclusion - XCF v1 (Aon_XS_Comb_Liab 10-18).pdf\n",
      "COUNT 438\n",
      "2007 - Excess PPL Quinn - XS PPL (Quinn) (ROI)_3.pdf\n",
      "COUNT 439\n"
     ]
    },
    {
     "name": "stderr",
     "output_type": "stream",
     "text": [
      "/opt/app/RB/.local/lib/python3.6/site-packages/pdfminer/pdfpage.py:140: PDFTextExtractionNotAllowedWarning: The PDF <_io.BufferedReader name='Documents/UK-Casualty/Chubb Standard Wording/2007 - Excess PPL Quinn - XS PPL (Quinn) (ROI)_3.pdf'> contains a metadata field indicating that it should not allow text extraction. Ignoring this field and proceeding.\n",
      "  warnings.warn(warning_msg, PDFTextExtractionNotAllowedWarning)\n"
     ]
    },
    {
     "name": "stdout",
     "output_type": "stream",
     "text": [
      "EMF (ELECTRO MAGNETIC FIELDS) EXCLUSION (EL or PL Only, Excess Combined) - XDI (from 06-05-08).pdf\n",
      "COUNT 440\n",
      "2010 - Primary Liability Policy (Limited Cover) - CasPrimlimited(ROI)_1 (from 01-06-10).pdf\n",
      "COUNT 441\n"
     ]
    },
    {
     "name": "stderr",
     "output_type": "stream",
     "text": [
      "/opt/app/RB/.local/lib/python3.6/site-packages/pdfminer/pdfpage.py:140: PDFTextExtractionNotAllowedWarning: The PDF <_io.BufferedReader name='Documents/UK-Casualty/Chubb Standard Wording/2010 - Primary Liability Policy (Limited Cover) - CasPrimlimited(ROI)_1 (from 01-06-10).pdf'> contains a metadata field indicating that it should not allow text extraction. Ignoring this field and proceeding.\n",
      "  warnings.warn(warning_msg, PDFTextExtractionNotAllowedWarning)\n"
     ]
    },
    {
     "name": "stdout",
     "output_type": "stream",
     "text": [
      "OFFSHORE EXTENSION - EL - CMN21a.pdf\n",
      "COUNT 442\n",
      "Deductible - L105a.pdf\n",
      "COUNT 443\n",
      "CROP SPRAYING EXCLUSION - EL,PL - LCHa.pdf\n",
      "COUNT 444\n",
      "MANUAL WORK AWAY FROM PREMISES EXCLUSION - EL - LCV.pdf\n",
      "COUNT 445\n",
      "Libel and Slander Extension - L112a.pdf\n",
      "COUNT 446\n",
      "Sanctions Exclusion - XFO v1 (Aon_XS_Comb_Liab 10-18).pdf\n",
      "COUNT 447\n",
      "FINANCIAL LOSS EXTENSION (CLAIMS-MADE BASIS) - PL - CMN11b - from 06112018.pdf\n",
      "COUNT 448\n",
      "HAZARDOUS PREMISES EXCLUSION - EL,PL - LCRa.pdf\n",
      "COUNT 449\n",
      "OFFSHORE WORK EXCLUSION - PL - LAQa (not for Offshore Liability Policy).pdf\n",
      "COUNT 450\n",
      "FINANCIAL LOSS EXTENSION (CM) - PL - LDU (from 26-01-07 to 30-04-09).pdf\n",
      "COUNT 451\n",
      "MINIMUM PREMIUM - EL,PL - L75.pdf\n",
      "COUNT 452\n",
      "FINANCIAL LOSS EXTENSION - PL - Limit in Addition - LFL - To 31-01-06.pdf\n",
      "COUNT 453\n",
      "RIOT DAMAGES ACT EXCLUSION (PL Only, Excess Combined) - XEJ (from 06-05-08).pdf\n",
      "COUNT 454\n",
      "2008 - 2009 - Excess EL Quinn - XS EL (Quinn)(ROI)_4 (to 30-04-09).pdf\n",
      "COUNT 455\n"
     ]
    },
    {
     "name": "stderr",
     "output_type": "stream",
     "text": [
      "/opt/app/RB/.local/lib/python3.6/site-packages/pdfminer/pdfpage.py:140: PDFTextExtractionNotAllowedWarning: The PDF <_io.BufferedReader name='Documents/UK-Casualty/Chubb Standard Wording/2008 - 2009 - Excess EL Quinn - XS EL (Quinn)(ROI)_4 (to 30-04-09).pdf'> contains a metadata field indicating that it should not allow text extraction. Ignoring this field and proceeding.\n",
      "  warnings.warn(warning_msg, PDFTextExtractionNotAllowedWarning)\n"
     ]
    },
    {
     "name": "stdout",
     "output_type": "stream",
     "text": [
      "POLLUTION - SEEPAGE, POLLUTION AND CONTAMINATION CLAUSE (NMA 1685) - X43.pdf\n",
      "COUNT 456\n",
      "Non-Negligent Damage Liability - Excess Cover (package primary) (XS Comb) XDX v1 (Aon_XS_Comb_Liab 10-18).pdf\n",
      "COUNT 457\n",
      "COVERAGE PRIOR TO SIGHT OF PRIMARY WORDING (for XS Combined only) - XBS (to 31-12-05).pdf\n",
      "COUNT 458\n",
      "OFFSHORE VISITS - DECLARATION BASIS - CMN34a.pdf\n",
      "COUNT 459\n",
      "LEGAL COSTS - THE FOOD SAFETY ACT 1990 - PL - L57a.pdf\n",
      "COUNT 460\n",
      "Unmanned Aerial Vehicle Extension – Limited Cover - PL - L130a.pdf\n",
      "COUNT 461\n",
      "2016 - Primary Liability Policy (Enhanced Cover, if this is specifically quoted) - CasPrim(ROI)_14.pdf\n",
      "COUNT 462\n"
     ]
    },
    {
     "name": "stderr",
     "output_type": "stream",
     "text": [
      "/opt/app/RB/.local/lib/python3.6/site-packages/pdfminer/pdfpage.py:140: PDFTextExtractionNotAllowedWarning: The PDF <_io.BufferedReader name='Documents/UK-Casualty/Chubb Standard Wording/2016 - Primary Liability Policy (Enhanced Cover, if this is specifically quoted) - CasPrim(ROI)_14.pdf'> contains a metadata field indicating that it should not allow text extraction. Ignoring this field and proceeding.\n",
      "  warnings.warn(warning_msg, PDFTextExtractionNotAllowedWarning)\n"
     ]
    },
    {
     "name": "stdout",
     "output_type": "stream",
     "text": [
      "TOUR OPERATORS LIABILITY EXCLUSION - STATUTE - PL - LBP (to 10-10-08).pdf\n",
      "COUNT 463\n",
      "MOBILE PHONE EXCLUSION - XAW.pdf\n",
      "COUNT 464\n",
      "OFFSHORE VISITS-DECLN BASIS - LFP (from 01-07-09, CasPrim(OS) only).pdf\n",
      "COUNT 465\n"
     ]
    },
    {
     "name": "stderr",
     "output_type": "stream",
     "text": [
      "/opt/app/RB/.local/lib/python3.6/site-packages/pdfminer/pdfpage.py:140: PDFTextExtractionNotAllowedWarning: The PDF <_io.BufferedReader name='Documents/UK-Casualty/Chubb Standard Wording/TOUR OPERATORS LIABILITY EXCLUSION - STATUTE - PL - LBP (to 10-10-08).pdf'> contains a metadata field indicating that it should not allow text extraction. Ignoring this field and proceeding.\n",
      "  warnings.warn(warning_msg, PDFTextExtractionNotAllowedWarning)\n"
     ]
    },
    {
     "name": "stdout",
     "output_type": "stream",
     "text": [
      "INTERNET LIABILITY EXCLUSION - PL - LCU.pdf\n",
      "COUNT 466\n",
      "POLLUTION AND CONTAMINATION – AGGREGATE LIMIT - XAH.pdf\n",
      "COUNT 467\n",
      "AERIAL ERECTION EXCLUSION - EL,PL - L65a.pdf\n",
      "COUNT 468\n",
      "Special Condition – Phase 1 Clinical Trials - LGC (from 22-11-12).pdf\n",
      "COUNT 469\n",
      "2015 - Non-Negligent Damage Liability for Contractors - JCT_SP_C (ROI)_6 (to 04-03-16).pdf\n",
      "COUNT 470\n"
     ]
    },
    {
     "name": "stderr",
     "output_type": "stream",
     "text": [
      "/opt/app/RB/.local/lib/python3.6/site-packages/pdfminer/pdfpage.py:140: PDFTextExtractionNotAllowedWarning: The PDF <_io.BufferedReader name='Documents/UK-Casualty/Chubb Standard Wording/2015 - Non-Negligent Damage Liability for Contractors - JCT_SP_C (ROI)_6 (to 04-03-16).pdf'> contains a metadata field indicating that it should not allow text extraction. Ignoring this field and proceeding.\n",
      "  warnings.warn(warning_msg, PDFTextExtractionNotAllowedWarning)\n"
     ]
    },
    {
     "name": "stdout",
     "output_type": "stream",
     "text": [
      "AVIAN FLU EXCLUSION - LDQ.pdf\n",
      "COUNT 471\n",
      "MINIMUM PREMIUM - EL,PL - L75a.pdf\n",
      "COUNT 472\n",
      "MTBE EXCLUSION - XFH (from 11-03-09).pdf\n",
      "COUNT 473\n",
      "Rugby Union Coaching Condition - IBN.pdf\n",
      "COUNT 474\n",
      "ASBESTOS EXCLUSION - LEA (from 23-05-08).pdf\n",
      "COUNT 475\n",
      "Limit of Liability (mid term adjustment) - XMM v1 (Aon_XS_Comb_Liab 10-18).pdf\n",
      "COUNT 476\n",
      "LOCAL AUTHORITIES CLAUSE - XAX.pdf\n",
      "COUNT 477\n",
      "BITUMEN HEATING CONDITIONS - X22.pdf\n",
      "COUNT 478\n",
      "FINANCIAL LOSS EXTENSION - PL - LDT (from 12-11-11) (not for CasPrim(FOS)).pdf\n",
      "COUNT 479\n",
      "2007 - Stand Alone Single Project JCT 21.2.1 Wording for Contractors - JCT_SP_C_3.pdf\n",
      "COUNT 480\n"
     ]
    },
    {
     "name": "stderr",
     "output_type": "stream",
     "text": [
      "/opt/app/RB/.local/lib/python3.6/site-packages/pdfminer/pdfpage.py:140: PDFTextExtractionNotAllowedWarning: The PDF <_io.BufferedReader name='Documents/UK-Casualty/Chubb Standard Wording/2007 - Stand Alone Single Project JCT 21.2.1 Wording for Contractors - JCT_SP_C_3.pdf'> contains a metadata field indicating that it should not allow text extraction. Ignoring this field and proceeding.\n",
      "  warnings.warn(warning_msg, PDFTextExtractionNotAllowedWarning)\n"
     ]
    },
    {
     "name": "stdout",
     "output_type": "stream",
     "text": [
      "SPECIFIC UNDERLYING COVER EXCLUSION (EL or PL or Motor Only, Excess Combined) - XEM (from 06-05-08).pdf\n",
      "COUNT 481\n",
      "ROI Products questionnaire (SE - From 01-01-2019).pdf\n",
      "COUNT 482\n",
      "TOBACCO PRODUCT EXCLUSION - PL - L63.pdf\n",
      "COUNT 483\n",
      "2007 - Select Excess Umbrella Liability Policy (Full Version) - SelectXs(ROI)(Full)_5.pdf\n",
      "COUNT 484\n"
     ]
    },
    {
     "name": "stderr",
     "output_type": "stream",
     "text": [
      "/opt/app/RB/.local/lib/python3.6/site-packages/pdfminer/pdfpage.py:140: PDFTextExtractionNotAllowedWarning: The PDF <_io.BufferedReader name='Documents/UK-Casualty/Chubb Standard Wording/2007 - Select Excess Umbrella Liability Policy (Full Version) - SelectXs(ROI)(Full)_5.pdf'> contains a metadata field indicating that it should not allow text extraction. Ignoring this field and proceeding.\n",
      "  warnings.warn(warning_msg, PDFTextExtractionNotAllowedWarning)\n"
     ]
    },
    {
     "name": "stdout",
     "output_type": "stream",
     "text": [
      "MANUAL WORK ABROAD EXTENSION - PL - L67.pdf\n",
      "COUNT 485\n",
      "ACQUISITIONS CLAUSE - XRA (8-12-06 to 22-2-07).pdf\n",
      "COUNT 486\n",
      "EL Certificate - Excess (SE - From 30-04-2019).pdf\n",
      "COUNT 487\n",
      "CUSTODY OR CONTROL EXTENSION - CMN36a.pdf\n",
      "COUNT 488\n",
      "HOTEL PROPRIETORS ACT 1956 - PL - LAY (from 18-11-11).pdf\n",
      "COUNT 489\n",
      "PROFESSIONAL INDEMNITY EXCL - X28 (to 6-11-05 only - Use Prof Advice + Treatment).pdf\n",
      "COUNT 490\n",
      "Terrorism Exclusion (TRIA) - L121a.pdf\n",
      "COUNT 491\n",
      "CHILDCARE BODILY INJURY EXCLUSION - PL- LCK.pdf\n",
      "COUNT 492\n",
      "OFFSHORE WORK CONDITION - PL - LCF (from 01-05-09) (not for Offshore Liability Policy).pdf\n",
      "COUNT 493\n",
      "DATA PROTECTION LEGISLATION EXCLUSION - XMN (from 25-05-2018).pdf\n",
      "COUNT 494\n",
      "360 UK Nat Multinat Differences between Versions of Wording Table.pdf\n",
      "COUNT 495\n",
      "MOTOR VEHICLE COMPONENTS EXCLUSION - PL -L46.pdf\n",
      "COUNT 496\n",
      "MOTOR VEHICLE COMPONENTS EXCLUSION - PL -L46a.pdf\n",
      "COUNT 497\n",
      "OFFSHORE VISITS CLAUSE - LDRa.pdf\n",
      "COUNT 498\n",
      "2012 - Non-Negligent Damage Liability For Principals - JCT_SP_P (ROI)_4 (from 15-02-12 to 14-10-13).pdf\n",
      "COUNT 499\n"
     ]
    },
    {
     "name": "stderr",
     "output_type": "stream",
     "text": [
      "/opt/app/RB/.local/lib/python3.6/site-packages/pdfminer/pdfpage.py:140: PDFTextExtractionNotAllowedWarning: The PDF <_io.BufferedReader name='Documents/UK-Casualty/Chubb Standard Wording/2012 - Non-Negligent Damage Liability For Principals - JCT_SP_P (ROI)_4 (from 15-02-12 to 14-10-13).pdf'> contains a metadata field indicating that it should not allow text extraction. Ignoring this field and proceeding.\n",
      "  warnings.warn(warning_msg, PDFTextExtractionNotAllowedWarning)\n"
     ]
    },
    {
     "name": "stdout",
     "output_type": "stream",
     "text": [
      "SILICA, DUST AND PARTICULATE MATTER EXCLUSION - LDL.pdf\n",
      "COUNT 500\n",
      "Coverage Prior to Sight of Primary Wording - XBH v1 (Aon_XS_Comb_Liab 10-18).pdf\n",
      "COUNT 501\n",
      "FINANCIAL LOSS EXTENSION (CLAIMS-MADE BASIS) - PL - CMN11a.pdf\n",
      "COUNT 502\n",
      "MOVEMENT OF OBSTRUCTING VEHICLES - PL - LANa.pdf\n",
      "COUNT 503\n",
      "COVERAGE PRIOR TO SIGHT OF PRIMARY WORDING - XBH (from 01-01-08 to 30-04-09).pdf\n",
      "COUNT 504\n",
      "PRODUCTS RUN OFF COVER EXCLUSION - PL - LBS.pdf\n",
      "COUNT 505\n",
      "2007 - Stand Alone Single Project JCT 21.2.1 Wording for Principals - JCT_SP_P_3.pdf\n",
      "COUNT 506\n"
     ]
    },
    {
     "name": "stderr",
     "output_type": "stream",
     "text": [
      "/opt/app/RB/.local/lib/python3.6/site-packages/pdfminer/pdfpage.py:140: PDFTextExtractionNotAllowedWarning: The PDF <_io.BufferedReader name='Documents/UK-Casualty/Chubb Standard Wording/2007 - Stand Alone Single Project JCT 21.2.1 Wording for Principals - JCT_SP_P_3.pdf'> contains a metadata field indicating that it should not allow text extraction. Ignoring this field and proceeding.\n",
      "  warnings.warn(warning_msg, PDFTextExtractionNotAllowedWarning)\n"
     ]
    },
    {
     "name": "stdout",
     "output_type": "stream",
     "text": [
      "2005 - Casualty Excess Claims Made Form - CasXs(CM) (ROI)_2.pdf\n",
      "COUNT 507\n",
      "PUBLIC AND PRODUCTS LIABILITY EXCLUSION - EL,PL - LAHa.pdf\n",
      "COUNT 508\n",
      "INTERNET LIABILITY EXCLUSION - XCO (from 24-04-08).pdf\n",
      "COUNT 509\n",
      "USE OF HEAT AWAY FROM THE PREMISES - XAB (to 13-07-13).pdf\n",
      "COUNT 510\n",
      "COVERAGE PRIOR TO SIGHT OF PRIMARY WORDING (for XS Combined only) - XBS (from 01-05-09 to 04-03-11).pdf\n",
      "COUNT 511\n",
      "TOUR OPERATORS LIABILITY EXCLUSION - TOTAL (PL Only, Excess Combined) - XFE (from 27-08-08).pdf\n",
      "COUNT 512\n",
      "LONG TERM AGREEMENT (POLICY) CLAUSE - LGEa (Updated, no discount).pdf\n",
      "COUNT 513\n",
      "OFFSHORE WORK EXCLUSION - X32 (to 30-04-09).pdf\n",
      "COUNT 514\n",
      "USA,CANADA JURISDICTION EXCLUSION - EL,PL - L34a.pdf\n",
      "COUNT 515\n",
      "Global Acc  XS Casualty Quotation Template (SE - From 01-01-2019).pdf\n",
      "COUNT 516\n",
      "COVERAGE PRIOR TO SIGHT OF PRIMARY WORDING (for XMTPD only) - XCD (to 17-07-07).pdf\n",
      "COUNT 517\n",
      "HEIGHT LIMITATION CLAUSE - LEF (from 23-05-08).pdf\n",
      "COUNT 518\n",
      "POLLUTION – SUDDEN AND ACCIDENTAL (PL Only, Excess Combined) - XEC (from 06-05-08).pdf\n",
      "COUNT 519\n",
      "COVERAGE PRIOR TO SIGHT OF PRIMARY WORDING (RENEWAL) - XBR (from 01-01-07 to 17-07-07).pdf\n",
      "COUNT 520\n",
      "COVERAGE PRIOR TO SIGHT OF PRIMARY WORDING (EL) - XCJ (to 17-07-07).pdf\n",
      "COUNT 521\n",
      "Sunbed Endorsement - IBO.pdf\n",
      "COUNT 522\n",
      "Marsh PP Excess Liability Insurance 2016 ACE (Non-Specimen).pdf\n",
      "COUNT 523\n",
      "ASBESTOS EXCLUSION  - PL - LAA (included within policy wording from 01-05-09).pdf\n",
      "COUNT 524\n",
      "MOTOR VEHICLE PROPERTY DAMAGE EXTENSION  - X39 (to 04-03-11).pdf\n",
      "COUNT 525\n"
     ]
    },
    {
     "name": "stderr",
     "output_type": "stream",
     "text": [
      "/opt/app/RB/.local/lib/python3.6/site-packages/pdfminer/pdfpage.py:140: PDFTextExtractionNotAllowedWarning: The PDF <_io.BufferedReader name='Documents/UK-Casualty/Chubb Standard Wording/MOTOR VEHICLE PROPERTY DAMAGE EXTENSION  - X39 (to 04-03-11).pdf'> contains a metadata field indicating that it should not allow text extraction. Ignoring this field and proceeding.\n",
      "  warnings.warn(warning_msg, PDFTextExtractionNotAllowedWarning)\n"
     ]
    },
    {
     "name": "stdout",
     "output_type": "stream",
     "text": [
      "2008 - Stand Alone Single Project JCT 21.2.1. Wording for Principals - JCT_SP_P_4.pdf\n",
      "COUNT 526\n"
     ]
    },
    {
     "name": "stderr",
     "output_type": "stream",
     "text": [
      "/opt/app/RB/.local/lib/python3.6/site-packages/pdfminer/pdfpage.py:140: PDFTextExtractionNotAllowedWarning: The PDF <_io.BufferedReader name='Documents/UK-Casualty/Chubb Standard Wording/2008 - Stand Alone Single Project JCT 21.2.1. Wording for Principals - JCT_SP_P_4.pdf'> contains a metadata field indicating that it should not allow text extraction. Ignoring this field and proceeding.\n",
      "  warnings.warn(warning_msg, PDFTextExtractionNotAllowedWarning)\n"
     ]
    },
    {
     "name": "stdout",
     "output_type": "stream",
     "text": [
      "CLAIMS MADE BASIS - PL - LAZ.pdf\n",
      "COUNT 527\n",
      "COVERAGE PRIOR TO SIGHT OF PRIMARY WORDING (RENEWAL) - XBR (from 18-07-07 to 31-12-07).pdf\n",
      "COUNT 528\n",
      "MOVEMENT OF OBSTRUCTING VEHICLES - PL - CMN18a.pdf\n",
      "COUNT 529\n",
      "2018 MN Partner Casualty_6 (To 31-12-18).pdf\n",
      "COUNT 530\n",
      "Hazardous Substances Exclusion - L109a.pdf\n",
      "COUNT 531\n",
      "RENEWAL REPLACEMENT POLICY - XAS.pdf\n",
      "COUNT 532\n",
      "OFFSHORE WORK CONDITION - PL - LCF (to 30-04-09).pdf\n",
      "COUNT 533\n",
      "UNMANNED AERIAL VEHICLE PRODUCTS EXTENSION - PL - CMN61a.pdf\n",
      "COUNT 534\n",
      "EUROPEAN UNION COVERAGE - LFW (from 28-07-10).pdf\n",
      "COUNT 535\n",
      "ATHLETIC PARTICIPANTS EXCLUSION - PL - L62.pdf\n",
      "COUNT 536\n",
      "ABSOLUTE FAILURE TO SUPPLY - L61 - To 31-01-06 - now Failure to Supply.pdf\n",
      "COUNT 537\n",
      "PHARMACEUTICALS EXCLUSION - EL or PL - LBN.pdf\n",
      "COUNT 538\n",
      "2007 - Excess PPL Quinn XS PPL (Quinn)_3.pdf\n",
      "COUNT 539\n"
     ]
    },
    {
     "name": "stderr",
     "output_type": "stream",
     "text": [
      "/opt/app/RB/.local/lib/python3.6/site-packages/pdfminer/pdfpage.py:140: PDFTextExtractionNotAllowedWarning: The PDF <_io.BufferedReader name='Documents/UK-Casualty/Chubb Standard Wording/2007 - Excess PPL Quinn XS PPL (Quinn)_3.pdf'> contains a metadata field indicating that it should not allow text extraction. Ignoring this field and proceeding.\n",
      "  warnings.warn(warning_msg, PDFTextExtractionNotAllowedWarning)\n"
     ]
    },
    {
     "name": "stdout",
     "output_type": "stream",
     "text": [
      "BITUMEN HEATING CONDITIONS (PL Only, Excess Combined) - XCY (from 06-05-08).pdf\n",
      "COUNT 540\n",
      "AIDS Exclusion - XAP v1 (Aon_XS_Comb_Liab 10-18).pdf\n",
      "COUNT 541\n",
      "2008 - Non-Negligent Damage Liability for Principals - JCT_SP_P (ROI)_2.pdf\n",
      "COUNT 542\n"
     ]
    },
    {
     "name": "stderr",
     "output_type": "stream",
     "text": [
      "/opt/app/RB/.local/lib/python3.6/site-packages/pdfminer/pdfpage.py:140: PDFTextExtractionNotAllowedWarning: The PDF <_io.BufferedReader name='Documents/UK-Casualty/Chubb Standard Wording/2008 - Non-Negligent Damage Liability for Principals - JCT_SP_P (ROI)_2.pdf'> contains a metadata field indicating that it should not allow text extraction. Ignoring this field and proceeding.\n",
      "  warnings.warn(warning_msg, PDFTextExtractionNotAllowedWarning)\n"
     ]
    },
    {
     "name": "stdout",
     "output_type": "stream",
     "text": [
      "COVERAGE PRIOR TO SIGHT OF PRIMARY WORDING (EL) - XCJ (from 01-05-09 to 04-03-11).pdf\n",
      "COUNT 543\n",
      "COVERAGE PRIOR TO SIGHT OF PRIMARY WORDING (for XMTPD only) - XCD (from 05-03-11).pdf\n",
      "COUNT 544\n",
      "2015 - Primary Clinical Trial Wording - CTPrim(CM)_7 (from 07-07-15 to 31-12-15).pdf\n",
      "COUNT 545\n"
     ]
    },
    {
     "name": "stderr",
     "output_type": "stream",
     "text": [
      "/opt/app/RB/.local/lib/python3.6/site-packages/pdfminer/pdfpage.py:140: PDFTextExtractionNotAllowedWarning: The PDF <_io.BufferedReader name='Documents/UK-Casualty/Chubb Standard Wording/2015 - Primary Clinical Trial Wording - CTPrim(CM)_7 (from 07-07-15 to 31-12-15).pdf'> contains a metadata field indicating that it should not allow text extraction. Ignoring this field and proceeding.\n",
      "  warnings.warn(warning_msg, PDFTextExtractionNotAllowedWarning)\n"
     ]
    },
    {
     "name": "stdout",
     "output_type": "stream",
     "text": [
      "RIGHTS OF RECOURSE - PL - LBC (from 01-05-09).pdf\n",
      "COUNT 546\n",
      "2006 - Excess EL Quinn - XS EL (Quinn)(ROI)_2.pdf\n",
      "COUNT 547\n"
     ]
    },
    {
     "name": "stderr",
     "output_type": "stream",
     "text": [
      "/opt/app/RB/.local/lib/python3.6/site-packages/pdfminer/pdfpage.py:140: PDFTextExtractionNotAllowedWarning: The PDF <_io.BufferedReader name='Documents/UK-Casualty/Chubb Standard Wording/2006 - Excess EL Quinn - XS EL (Quinn)(ROI)_2.pdf'> contains a metadata field indicating that it should not allow text extraction. Ignoring this field and proceeding.\n",
      "  warnings.warn(warning_msg, PDFTextExtractionNotAllowedWarning)\n"
     ]
    },
    {
     "name": "stdout",
     "output_type": "stream",
     "text": [
      "INEFFICACY EXCLUSION CLAUSE - X25.pdf\n",
      "COUNT 548\n",
      "AIDS EXCLUSION - EL or PL - LBOa.pdf\n",
      "COUNT 549\n",
      "M.R.S.A. AND C.D. EXCLUSION - LDH.pdf\n",
      "COUNT 550\n",
      "Offshore Work Exclusion - X32 v1 (Aon_XS_Comb_Liab 10-18).pdf\n",
      "COUNT 551\n",
      "BONA FIDE SUBCONTRACTORS (LIMIT STATED) - PL - LBV (to 30-04-09).pdf\n",
      "COUNT 552\n",
      "UK Global Accounts EPA  - 3 Year (SE - From 01-01-2019).pdf\n",
      "COUNT 553\n",
      "Named Party Endorsement - IBF.pdf\n",
      "COUNT 554\n",
      "FOREIGN ENTITY LOSS - SPECIAL CONDITION - XRG (for MN cases only) (from 07-03-11).pdf\n",
      "COUNT 555\n",
      "PYRITE EXCLUSION - XFL.pdf\n",
      "COUNT 556\n",
      "COVERAGE PRIOR TO SIGHT OF PRIMARY WORDING - XBH (from 01-01-07 to 17-07-07).pdf\n",
      "COUNT 557\n",
      "EXCESS MOTOR LIABILITY EXCL PRIVATE MOTOR - PL - LL4.pdf\n",
      "COUNT 558\n",
      "TERRORISM EXCLUSION - PL - LBD (up to 31.01.06).pdf\n",
      "COUNT 559\n",
      "UNMANNED AERIAL VEHICLE EXTENSION – LIMITED COVER  - PL - LGFa.pdf\n",
      "COUNT 560\n",
      "FOETAL ALCOHOL HEALTH - PL - CMN12a.pdf\n",
      "COUNT 561\n",
      "UK PL Certificate of Insurance (SE - From 01-01-2019).pdf\n",
      "COUNT 562\n",
      "PRODUCTS LIABILITY EXCLUSION (PL Only, Excess Combined) - XEH (from 06-05-08).pdf\n",
      "COUNT 563\n",
      "TRACKSIDE LIABILITY EXCLUSION - PL- LDG.pdf\n",
      "COUNT 564\n",
      "COVERAGE PRIOR TO SIGHT OF PRIMARY WORDING - XBH (from 05-03-11).pdf\n",
      "COUNT 565\n",
      "ASBESTOS EXC - PL - LAA (inc. in CasPrim_9 + medEQUIP_8 from 01-05-09).pdf\n",
      "COUNT 566\n",
      "GENETICALLY MODIFIED PRODUCTS EXCLUSION (PL Only, Excess Combined) - XDK (from 06-05-08).pdf\n",
      "COUNT 567\n",
      "Pollution Aggregate Limit - L114a.pdf\n",
      "COUNT 568\n",
      "OFFSHORE LIMIT OF LIABILITY - LFQ (from 08-07-09, CasPrim(OS) only).pdf\n",
      "COUNT 569\n",
      "UNMANNED AERIAL VEHICLE EXTENSION – FULL COVER - PL - LGGa.pdf\n",
      "COUNT 570\n",
      "2016 - Non-Negligent Damage Liability for Contractors - JCT_SP_C (ROI)_7 (from 05-03-16 to 31-12-18).pdf\n",
      "COUNT 571\n"
     ]
    },
    {
     "name": "stderr",
     "output_type": "stream",
     "text": [
      "/opt/app/RB/.local/lib/python3.6/site-packages/pdfminer/pdfpage.py:140: PDFTextExtractionNotAllowedWarning: The PDF <_io.BufferedReader name='Documents/UK-Casualty/Chubb Standard Wording/2016 - Non-Negligent Damage Liability for Contractors - JCT_SP_C (ROI)_7 (from 05-03-16 to 31-12-18).pdf'> contains a metadata field indicating that it should not allow text extraction. Ignoring this field and proceeding.\n",
      "  warnings.warn(warning_msg, PDFTextExtractionNotAllowedWarning)\n"
     ]
    },
    {
     "name": "stdout",
     "output_type": "stream",
     "text": [
      "SUBROGATION WAIVER - NAMED - EL,PL - LBTa.pdf\n",
      "COUNT 572\n",
      "CROP SPRAYING EXCLUSION - XBJ.pdf\n",
      "COUNT 573\n",
      "2011 - 2012 - Primary Clinical Trial Wording - CTPrim(CM)_4 (from 01-10-11 to 30-09-12).pdf\n",
      "COUNT 574\n"
     ]
    },
    {
     "name": "stderr",
     "output_type": "stream",
     "text": [
      "/opt/app/RB/.local/lib/python3.6/site-packages/pdfminer/pdfpage.py:140: PDFTextExtractionNotAllowedWarning: The PDF <_io.BufferedReader name='Documents/UK-Casualty/Chubb Standard Wording/2011 - 2012 - Primary Clinical Trial Wording - CTPrim(CM)_4 (from 01-10-11 to 30-09-12).pdf'> contains a metadata field indicating that it should not allow text extraction. Ignoring this field and proceeding.\n",
      "  warnings.warn(warning_msg, PDFTextExtractionNotAllowedWarning)\n"
     ]
    },
    {
     "name": "stdout",
     "output_type": "stream",
     "text": [
      "TERRORISM EXCLUSION - PL - LBD (from 01.02.06).pdf\n",
      "COUNT 575\n",
      "Unmanned Aerial Vehicle Products Extension - PL - L132a.pdf\n",
      "COUNT 576\n",
      "2019 CasPrim(+EIL)_18 (SE - From 01-01-19).pdf\n",
      "COUNT 577\n"
     ]
    },
    {
     "name": "stderr",
     "output_type": "stream",
     "text": [
      "/opt/app/RB/.local/lib/python3.6/site-packages/pdfminer/pdfpage.py:140: PDFTextExtractionNotAllowedWarning: The PDF <_io.BufferedReader name='Documents/UK-Casualty/Chubb Standard Wording/2019 CasPrim(+EIL)_18 (SE - From 01-01-19).pdf'> contains a metadata field indicating that it should not allow text extraction. Ignoring this field and proceeding.\n",
      "  warnings.warn(warning_msg, PDFTextExtractionNotAllowedWarning)\n"
     ]
    },
    {
     "name": "stdout",
     "output_type": "stream",
     "text": [
      "DAMAGE TO UNDERGROUND SERVICES - PL - L22.pdf\n",
      "COUNT 578\n",
      "COVERAGE PRIOR TO SIGHT OF PRIMARY WORDING (for XMTPD only) - XCD (from 01-01-08 to 30-04-09).pdf\n",
      "COUNT 579\n",
      "BONA FIDE SUBCONTRACTORS (stated limit) (PL Only, Excess Combined) - XDA (from 06-05-08).pdf\n",
      "COUNT 580\n",
      "AERIAL ERECTION EXCLUSION - EL or PL - CMN1a.pdf\n",
      "COUNT 581\n",
      "CLOAKROOM CLAUSE - PL- LCM (to 10-06-12).pdf\n",
      "COUNT 582\n",
      "TERRORISM EXCLUSION - LEK (from 23-05-08).pdf\n",
      "COUNT 583\n",
      "SPECIFIC UNDERLYING COVER EXCLUSION - XCF.pdf\n",
      "COUNT 584\n",
      "CLINICAL TRIALS EXCLUSION - EL or PL - LCLa.pdf\n",
      "COUNT 585\n",
      "Financial Loss Exclusion - X37 v1 (Aon_XS_Comb_Liab 10-18).pdf\n",
      "COUNT 586\n",
      "ABUSE EXCLUSION - PL - LCI.pdf\n",
      "COUNT 587\n",
      "USA,CANADA JURISDICTION EXCLUSION - LEL (from 23-05-08).pdf\n",
      "COUNT 588\n",
      "FIN LOSS EXT - Limit in Addition - LFL - From 01-02-06 to 25-01-07.pdf\n",
      "COUNT 589\n",
      "POLLUTION - SEEPAGE, POLLN + CONTAMN CLAUSE (NMA 1685)  (PL Only, Excess Combined) - XEB (from 06-05-08).pdf\n",
      "COUNT 590\n",
      "POLLUTION - SUDDEN UNINTENDED+UNEXPECTED POLLN CLAUSE (ABI) (PL Only,XS Comb)-XED (from 06-05-08).pdf\n",
      "COUNT 591\n",
      "Briefing Note September 2016 MNP ROI.pdf\n",
      "COUNT 592\n",
      "MANUAL WORK AWAY FROM PREMISES EXCLUSION - EL - LCVa.pdf\n",
      "COUNT 593\n",
      "FOUL BERTHING EXCLUSION - PL - L51.pdf\n",
      "COUNT 594\n",
      "USA_CANADA CLAUSE - XAF.pdf\n",
      "COUNT 595\n",
      "USE OF HEAT EQUIPMENT AWAY FROM PREMISES EXCLUSION - PL - LAI (to 31-12-14).pdf\n",
      "COUNT 596\n",
      "EMF (ELECTRO MAGNETIC FIELDS) EXCLUSION - PL - LBH.pdf\n",
      "COUNT 597\n",
      "DATA PROTECTION LEGISLATION EXTENSION - PL - LMAa.pdf\n",
      "COUNT 598\n",
      "360 Multinational Liab Wording - Chubb Version 2.1 (Jan 2019).pdf\n",
      "COUNT 599\n",
      "PASS\n",
      "        Contents    Introduction .......................................................................................................................1  Policy Information for the Policyholder...................................................................................2  Making a Claim..................................................................................................................3  Complaints Procedure ........................................................................................................4  Contents...........................................................................................................................5  Schedule of Insurance ........................................................................................................6  General Definitions.............................................................................................................7  Master Policy Provisions ................................................................................................... 12  Section 1 | Employers’ Liability ........................................................................................... 15  Section 2 | Public Liability.................................................................................................. 17  Section 3 | Products Liability .............................................................................................. 20  Section 4 | Financial Loss.................................................................................................. 21  Section 5 | Professional Indemnity ...................................................................................... 23  Extensions and Exclusions applicable to more than one Section ............................................. 26  Claims Conditions ............................................................................................................ 31  General Conditions .......................................................................................................... 32  Data Protection................................................................................................................ 37               360 Multinational  Liab Wording – Chubb  Version 2.1 (Jan 2019)  Page 5 of 38\n",
      "FOUL BERTHING EXCLUSION - PL - L51a.pdf\n",
      "COUNT 600\n",
      "Hazardous Locations Exclusion - XBV v1 (Aon_XS_Comb_Liab 10-18).pdf\n",
      "COUNT 601\n",
      "FINANCIAL LOSS EXTENSION - PL - LDT (from 01-05-09 to 11-11-11).pdf\n",
      "COUNT 602\n",
      "Damage to Underground Services - XAJ v1 (Aon_XS_Comb_Liab 10-18).pdf\n",
      "COUNT 603\n",
      "Toxic Mould Exclusion - XBD v1 (Aon_XS_Comb_Liab 10-18).pdf\n",
      "COUNT 604\n",
      "ASBESTOS EXCLUSION - EL - LAMa.pdf\n",
      "COUNT 605\n",
      "DELIBERATE ACT EXCLUSION - EL or PL - CMN7a.pdf\n",
      "COUNT 606\n",
      "2016 - Excess Clinical Trial - CTXS(CM)_7.pdf\n",
      "COUNT 607\n"
     ]
    },
    {
     "name": "stderr",
     "output_type": "stream",
     "text": [
      "/opt/app/RB/.local/lib/python3.6/site-packages/pdfminer/pdfpage.py:140: PDFTextExtractionNotAllowedWarning: The PDF <_io.BufferedReader name='Documents/UK-Casualty/Chubb Standard Wording/2016 - Excess Clinical Trial - CTXS(CM)_7.pdf'> contains a metadata field indicating that it should not allow text extraction. Ignoring this field and proceeding.\n",
      "  warnings.warn(warning_msg, PDFTextExtractionNotAllowedWarning)\n"
     ]
    },
    {
     "name": "stdout",
     "output_type": "stream",
     "text": [
      "Bitumen Heating Conditions - X22 v1 (Aon_XS_Comb_Liab 10-18).pdf\n",
      "COUNT 608\n",
      "POLLUTION - TOTAL EXCLUSION - X40.pdf\n",
      "COUNT 609\n",
      "INTERNET LIABILITY EXCLUSION - PL (Excess Combined Policies) - XCN (from 09-04-08).pdf\n",
      "COUNT 610\n",
      "MAINTENANCE OF VEHICLES - PL - LBF.pdf\n",
      "COUNT 611\n",
      "TERRORISM EXCLUSION (Excess Combined Policies) - XCM.pdf\n",
      "COUNT 612\n",
      "2019 Standalone single project Non Negligent Damage Policy JCT_SP_C_8(ROI) (SE - From 01-01-19).pdf\n",
      "COUNT 613\n"
     ]
    },
    {
     "name": "stderr",
     "output_type": "stream",
     "text": [
      "/opt/app/RB/.local/lib/python3.6/site-packages/pdfminer/pdfpage.py:140: PDFTextExtractionNotAllowedWarning: The PDF <_io.BufferedReader name='Documents/UK-Casualty/Chubb Standard Wording/2019 Standalone single project Non Negligent Damage Policy JCT_SP_C_8(ROI) (SE - From 01-01-19).pdf'> contains a metadata field indicating that it should not allow text extraction. Ignoring this field and proceeding.\n",
      "  warnings.warn(warning_msg, PDFTextExtractionNotAllowedWarning)\n"
     ]
    },
    {
     "name": "stdout",
     "output_type": "stream",
     "text": [
      "PRODUCTS LIABILITY EXTENSION TO SECTION 3 - LMN.pdf\n",
      "COUNT 614\n",
      "2009 - 2010 - Excess Motor Third Party Liability - XMTPD(ROI)_5 (from 01-05-09 to 31-12-10).pdf\n",
      "COUNT 615\n"
     ]
    },
    {
     "name": "stderr",
     "output_type": "stream",
     "text": [
      "/opt/app/RB/.local/lib/python3.6/site-packages/pdfminer/pdfpage.py:140: PDFTextExtractionNotAllowedWarning: The PDF <_io.BufferedReader name='Documents/UK-Casualty/Chubb Standard Wording/PRODUCTS LIABILITY EXTENSION TO SECTION 3 - LMN.pdf'> contains a metadata field indicating that it should not allow text extraction. Ignoring this field and proceeding.\n",
      "  warnings.warn(warning_msg, PDFTextExtractionNotAllowedWarning)\n",
      "/opt/app/RB/.local/lib/python3.6/site-packages/pdfminer/pdfpage.py:140: PDFTextExtractionNotAllowedWarning: The PDF <_io.BufferedReader name='Documents/UK-Casualty/Chubb Standard Wording/2009 - 2010 - Excess Motor Third Party Liability - XMTPD(ROI)_5 (from 01-05-09 to 31-12-10).pdf'> contains a metadata field indicating that it should not allow text extraction. Ignoring this field and proceeding.\n",
      "  warnings.warn(warning_msg, PDFTextExtractionNotAllowedWarning)\n"
     ]
    },
    {
     "name": "stdout",
     "output_type": "stream",
     "text": [
      "EXCESS MOTOR – UNDERLYING LIMIT (for XS Combined only) - XFP (from 07-02-11).pdf\n",
      "COUNT 616\n",
      "OFFSHORE WORK EXCLUSION - X32 (from 01-05-09).pdf\n",
      "COUNT 617\n",
      "POLLUTION AND CONTAMINATION – AGGREGATE LIMIT (PL Only, Excess Combined) - XEG (from 06-05-08).pdf\n",
      "COUNT 618\n",
      "ASBESTOS EXCLUSION (PL Only, Excess Combined) - XCV (from 06-05-08).pdf\n",
      "COUNT 619\n",
      "BATCH CLAUSE - PL - CMN2a.pdf\n",
      "COUNT 620\n",
      "LEGAL COSTS - THE FOOD SAFETY ACT 1990 - PL - L57.pdf\n",
      "COUNT 621\n",
      "CAR PARK LIABILITY CLAUSE - PUBLIC CAR PARK - PL - CMN3a.pdf\n",
      "COUNT 622\n",
      "MANUAL WORK AWAY FROM THE PREMISES EXCLUSION (PL Only, Excess Combined) - XDS (from 06-05-08).pdf\n",
      "COUNT 623\n",
      "FIREWORKS + PYROTECHNICS EXCLUSION - IAT.pdf\n",
      "COUNT 624\n",
      "INFORMATION EXCLUSION (PL Only, Excess Combined) - XDP (from 06-05-08).pdf\n",
      "COUNT 625\n",
      "PRODUCTS - DELETION OF THE AGGREGATE LIMIT OF INDEMNITY - L74a.pdf\n",
      "COUNT 626\n",
      "AIRSIDE WORK EXCLUSION - X21 (To 30-11-05).pdf\n",
      "COUNT 627\n",
      "POLLUTION - SEEPAGE POLLUTION AND CONTAMINATION CLAUSE (NMA 1686) - PL - L79 (to 30-06-09).pdf\n",
      "COUNT 628\n",
      "TOUR OPERATORS LIABILITY EXCLUSION - FULL - PL - LBQa.pdf\n",
      "COUNT 629\n",
      "FINANCIAL LOSS EXTENSION - Inner Limit - PL - L89 - From 01-02-06 - To 25-01-07.pdf\n",
      "COUNT 630\n",
      "Crop Spraying Exclusion - XBJ v1 (Aon_XS_Comb_Liab 10-18).pdf\n",
      "COUNT 631\n",
      "UNITED KINGDOM JURISDICTION CLAUSE - X23 (from 05-03-11).pdf\n",
      "COUNT 632\n",
      "TOUR OPERATORS LIABILITY EXCLUSION - STATUTE - PL - LBP (from 11-10-08).pdf\n",
      "COUNT 633\n",
      "INEFFICACY EXCLUSION CLAUSE - PL - L30a.pdf\n",
      "COUNT 634\n",
      "REIMBURSEMENT CLAUSE - LEJ (from 23-05-08).pdf\n",
      "COUNT 635\n",
      "Products Liability Exclusion - XAE v1 (Aon_XS_Comb_Liab 10-18).pdf\n",
      "COUNT 636\n",
      "EXCESS MOTOR LIABILITY EXCL PRIVATE MOTOR - PL - LL4a.pdf\n",
      "COUNT 637\n",
      "2019 Standalone single project Non Negligent Damage Policy JCT_SP_P_8(ROI) (SE - From 01-01-19).pdf\n",
      "COUNT 638\n"
     ]
    },
    {
     "name": "stderr",
     "output_type": "stream",
     "text": [
      "/opt/app/RB/.local/lib/python3.6/site-packages/pdfminer/pdfpage.py:140: PDFTextExtractionNotAllowedWarning: The PDF <_io.BufferedReader name='Documents/UK-Casualty/Chubb Standard Wording/2019 Standalone single project Non Negligent Damage Policy JCT_SP_P_8(ROI) (SE - From 01-01-19).pdf'> contains a metadata field indicating that it should not allow text extraction. Ignoring this field and proceeding.\n",
      "  warnings.warn(warning_msg, PDFTextExtractionNotAllowedWarning)\n"
     ]
    },
    {
     "name": "stdout",
     "output_type": "stream",
     "text": [
      "THIRD PARTY MOTOR VEHICLE SERVICING INDEMNITY - PL - CMN26a.pdf\n",
      "COUNT 639\n",
      "MAINTENANCE OF VEHICLES - PL - CMN17a.pdf\n",
      "COUNT 640\n",
      "TERRORISM EXCLUSION - EL and PL - LDM (from 01.02.06).pdf\n",
      "COUNT 641\n",
      "CANCELLATION CLAUSE AMENDMENT - EL,PL - L48 (to 30-04-09).pdf\n",
      "COUNT 642\n",
      "DAMAGE TO UNDERGROUND SERVICES (PL Only, Excess Combined) - XDF (from 06-05-08).pdf\n",
      "COUNT 643\n",
      "WORLDWIDE JURISDICTION CLAUSE (EXCLUDING USA_CANADA) - X29.pdf\n",
      "COUNT 644\n",
      "COVERAGE PRIOR TO SIGHT OF PRIMARY WORDING (for XS Combined only) - XBS (from 18-07-07 to 31-12-07).pdf\n",
      "COUNT 645\n",
      "MTBE EXCLUSION - PL - LFNa.pdf\n",
      "COUNT 646\n",
      "MOBILE PHONE EXCLUSION - PL - LBGa.pdf\n",
      "COUNT 647\n",
      "2009 - 2011 Excess Clinical Trial - CTXS(CM)_3 (to 30-09-11).pdf\n",
      "COUNT 648\n"
     ]
    },
    {
     "name": "stderr",
     "output_type": "stream",
     "text": [
      "/opt/app/RB/.local/lib/python3.6/site-packages/pdfminer/pdfpage.py:140: PDFTextExtractionNotAllowedWarning: The PDF <_io.BufferedReader name='Documents/UK-Casualty/Chubb Standard Wording/2009 - 2011 Excess Clinical Trial - CTXS(CM)_3 (to 30-09-11).pdf'> contains a metadata field indicating that it should not allow text extraction. Ignoring this field and proceeding.\n",
      "  warnings.warn(warning_msg, PDFTextExtractionNotAllowedWarning)\n"
     ]
    },
    {
     "name": "stdout",
     "output_type": "stream",
     "text": [
      "2013 - Casualty Excess Claims Made Form - CasXS(CM)(ROI)_10.pdf\n",
      "COUNT 649\n"
     ]
    },
    {
     "name": "stderr",
     "output_type": "stream",
     "text": [
      "/opt/app/RB/.local/lib/python3.6/site-packages/pdfminer/pdfpage.py:140: PDFTextExtractionNotAllowedWarning: The PDF <_io.BufferedReader name='Documents/UK-Casualty/Chubb Standard Wording/2013 - Casualty Excess Claims Made Form - CasXS(CM)(ROI)_10.pdf'> contains a metadata field indicating that it should not allow text extraction. Ignoring this field and proceeding.\n",
      "  warnings.warn(warning_msg, PDFTextExtractionNotAllowedWarning)\n"
     ]
    },
    {
     "name": "stdout",
     "output_type": "stream",
     "text": [
      "EL Certificate - Standard Dates Unformatted (SE - From 30-04-2019).pdf\n",
      "COUNT 650\n",
      "Maintenance Liability - X41 v1 (Aon_XS_Comb_Liab 10-18).pdf\n",
      "COUNT 651\n",
      "2015 - Primary Liability Policy (Limited Cover) - CasPrimlimited(ROI)_6.pdf\n",
      "COUNT 652\n"
     ]
    },
    {
     "name": "stderr",
     "output_type": "stream",
     "text": [
      "/opt/app/RB/.local/lib/python3.6/site-packages/pdfminer/pdfpage.py:140: PDFTextExtractionNotAllowedWarning: The PDF <_io.BufferedReader name='Documents/UK-Casualty/Chubb Standard Wording/2015 - Primary Liability Policy (Limited Cover) - CasPrimlimited(ROI)_6.pdf'> contains a metadata field indicating that it should not allow text extraction. Ignoring this field and proceeding.\n",
      "  warnings.warn(warning_msg, PDFTextExtractionNotAllowedWarning)\n"
     ]
    },
    {
     "name": "stdout",
     "output_type": "stream",
     "text": [
      "POLLUTION (EIL) SECTION EXTENSION - LDO (to 12-08-12).pdf\n",
      "COUNT 653\n",
      "Mobile Phone Exclusion - XAW v1 (Aon_XS_Comb_Liab 10-18).pdf\n",
      "COUNT 654\n",
      "360 Multinational PDBI Wording - Chubb Version 2.1 (Jan 2019).pdf\n",
      "COUNT 655\n",
      "PASS\n",
      "          Contents    Introduction .......................................................................................................................1  Policy Information for the Policyholder...................................................................................2  Making a Claim..................................................................................................................3  Complaints Procedure ........................................................................................................4  Contents...........................................................................................................................5  Schedule of Insurance ........................................................................................................6  General Definitions.............................................................................................................7  Master Policy Provisions ................................................................................................... 16  Section 1 | Property Damage ............................................................................................. 19  Section 2 | Business Interruption ........................................................................................ 26  Section 3 | Specified Business Equipment ........................................................................... 33  Extensions, Exclusions and Conditions applicable to Section 1 | Property Damage, Section 2 |  Business Interruption and Section 3 | Specified Business Equipment ....................................... 34  Section 4 | Money and Personal Accident Assault ................................................................. 40  Section 5 | Goods in Transit............................................................................................... 42  Section 6 | Terrorism ........................................................................................................ 43  Claims Conditions ............................................................................................................ 45  General Conditions .......................................................................................................... 46  General Extensions .......................................................................................................... 52  General Exclusions .......................................................................................................... 53  Data Protection................................................................................................................ 55               360 Multinational  PDBI  Wording – Chubb Version 2.1 (Jan 2019)  Page 5 of 56\n",
      "OFFSHORE WORK EXCLUSION (PL, Excess Combined) - XDY (from 01-05-09).pdf\n",
      "COUNT 656\n",
      "EUROPEAN UNION PREMIUMS AND TAXES - EL,PL - LDW (to 28-08-10).pdf\n",
      "COUNT 657\n",
      "2005 - Excess EL Quinn - XS EL (Quinn)(ROI)_1.pdf\n",
      "COUNT 658\n"
     ]
    },
    {
     "name": "stderr",
     "output_type": "stream",
     "text": [
      "/opt/app/RB/.local/lib/python3.6/site-packages/pdfminer/pdfpage.py:140: PDFTextExtractionNotAllowedWarning: The PDF <_io.BufferedReader name='Documents/UK-Casualty/Chubb Standard Wording/2005 - Excess EL Quinn - XS EL (Quinn)(ROI)_1.pdf'> contains a metadata field indicating that it should not allow text extraction. Ignoring this field and proceeding.\n",
      "  warnings.warn(warning_msg, PDFTextExtractionNotAllowedWarning)\n"
     ]
    },
    {
     "name": "stdout",
     "output_type": "stream",
     "text": [
      "ATHLETIC PARTICIPANTS EXCLUSION (PL Only, Excess Combined) - XCW (from 06-05-08).pdf\n",
      "COUNT 659\n",
      "EUROPEAN UNION COVERAGE - LFWa.pdf\n",
      "COUNT 660\n",
      "MEDICAL SERVICES EXCLUSION - XFT (PL only, Excess Combined) (from 17-08-12 to 26-03-15).pdf\n",
      "COUNT 661\n",
      "PROPERTY OWNERS LIABILITY - LODGED WITH COMPANY - PL - LCAa.pdf\n",
      "COUNT 662\n",
      "COMBINED SINGLE LIMIT - XAY (For XS Comb only).pdf\n",
      "COUNT 663\n",
      "2006 - Casualty Excess Claims Made Form - CasXS(CM)ROI_4.pdf\n",
      "COUNT 664\n"
     ]
    },
    {
     "name": "stderr",
     "output_type": "stream",
     "text": [
      "/opt/app/RB/.local/lib/python3.6/site-packages/pdfminer/pdfpage.py:140: PDFTextExtractionNotAllowedWarning: The PDF <_io.BufferedReader name='Documents/UK-Casualty/Chubb Standard Wording/COMBINED SINGLE LIMIT - XAY (For XS Comb only).pdf'> contains a metadata field indicating that it should not allow text extraction. Ignoring this field and proceeding.\n",
      "  warnings.warn(warning_msg, PDFTextExtractionNotAllowedWarning)\n"
     ]
    },
    {
     "name": "stdout",
     "output_type": "stream",
     "text": [
      "DEDUCTIBLE - EL,PL - CMN6a.pdf\n",
      "COUNT 665\n",
      "2008 - 2011 - Umbrella Excess Liability Scheme Wdg - Umbrella (ROI)_4.pdf\n",
      "COUNT 666\n"
     ]
    },
    {
     "name": "stderr",
     "output_type": "stream",
     "text": [
      "/opt/app/RB/.local/lib/python3.6/site-packages/pdfminer/pdfpage.py:140: PDFTextExtractionNotAllowedWarning: The PDF <_io.BufferedReader name='Documents/UK-Casualty/Chubb Standard Wording/2008 - 2011 - Umbrella Excess Liability Scheme Wdg - Umbrella (ROI)_4.pdf'> contains a metadata field indicating that it should not allow text extraction. Ignoring this field and proceeding.\n",
      "  warnings.warn(warning_msg, PDFTextExtractionNotAllowedWarning)\n"
     ]
    },
    {
     "name": "stdout",
     "output_type": "stream",
     "text": [
      "360 UK National PDBI and Liab Schedule - Version 4 (Jan 2019).pdf\n",
      "COUNT 667\n",
      "FINANCIAL LOSS EXCLUSION - X37.pdf\n",
      "COUNT 668\n",
      "PROFESSIONAL INDEMNITY EXCLUSION (To 30-11-05) - X28.pdf\n",
      "COUNT 669\n",
      "MEDICAL MALPRACTICE and TREATMENT EXCLUSION - X27 (to 17-09-12).pdf\n",
      "COUNT 670\n",
      "Beauty Salon endt - IAA.pdf\n",
      "COUNT 671\n",
      "2019 CasPrim(OS)(+EIL)_9  (SE - From 01-01-19).pdf\n",
      "COUNT 672\n"
     ]
    },
    {
     "name": "stderr",
     "output_type": "stream",
     "text": [
      "/opt/app/RB/.local/lib/python3.6/site-packages/pdfminer/pdfpage.py:140: PDFTextExtractionNotAllowedWarning: The PDF <_io.BufferedReader name='Documents/UK-Casualty/Chubb Standard Wording/2019 CasPrim(OS)(+EIL)_9  (SE - From 01-01-19).pdf'> contains a metadata field indicating that it should not allow text extraction. Ignoring this field and proceeding.\n",
      "  warnings.warn(warning_msg, PDFTextExtractionNotAllowedWarning)\n"
     ]
    },
    {
     "name": "stdout",
     "output_type": "stream",
     "text": [
      "Welding Fumes Exclusion - L126a.pdf\n",
      "COUNT 673\n",
      "TOBACCO PRODUCT EXCLUSION - X48.pdf\n",
      "COUNT 674\n",
      "OFFSHORE VISITS-DECLN BASIS - LFP(from 01-07-09, CasPrim(OS) only).pdf\n",
      "COUNT 675\n",
      "CONSTRUCTION (NEW BUILDINGS) - EL,PL - L36 (from 01-05-09).pdf\n",
      "COUNT 676\n",
      "Sanctioned Territories Exclusion - LGQ.pdf\n",
      "COUNT 677\n",
      "COVERAGE PRIOR TO SIGHT OF PRIMARY WORDING (EL) - XCJ (from 01-01-08 to 30-04-09).pdf\n",
      "COUNT 678\n",
      "Inefficacy Exclusion Clause - X25 v1 (Aon_XS_Comb_Liab 10-18).pdf\n",
      "COUNT 679\n",
      "DIFFERENCE IN LIMITS - EL,PL - LBL (To 30-11-05).pdf\n",
      "COUNT 680\n",
      "INEFFICACY EXCLUSION - DESIGN - PL - LAE.pdf\n",
      "COUNT 681\n",
      "HAZARDOUS LOCATIONS EXCLUSION - XBV.pdf\n",
      "COUNT 682\n",
      "TERRORISM EXCLUSION - XAL (up to 31.01.06).pdf\n",
      "COUNT 683\n",
      "CLINICAL TRIALS EXCLUSION - LEB (from 23-05-08).pdf\n",
      "COUNT 684\n",
      "DIFFERENCE IN CONDITIONS - EL,PL - LBK (from 01-12-05 to 09-03-11).pdf\n",
      "COUNT 685\n"
     ]
    },
    {
     "name": "stderr",
     "output_type": "stream",
     "text": [
      "/opt/app/RB/.local/lib/python3.6/site-packages/pdfminer/pdfpage.py:140: PDFTextExtractionNotAllowedWarning: The PDF <_io.BufferedReader name='Documents/UK-Casualty/Chubb Standard Wording/DIFFERENCE IN CONDITIONS - EL,PL - LBK (from 01-12-05 to 09-03-11).pdf'> contains a metadata field indicating that it should not allow text extraction. Ignoring this field and proceeding.\n",
      "  warnings.warn(warning_msg, PDFTextExtractionNotAllowedWarning)\n",
      "/opt/app/RB/.local/lib/python3.6/site-packages/pdfminer/pdfpage.py:140: PDFTextExtractionNotAllowedWarning: The PDF <_io.BufferedReader name='Documents/UK-Casualty/Chubb Standard Wording/2006 - Stand Alone Single Project JCT 21.2.1 Wording for Principals - JCT_SP_P_2.pdf'> contains a metadata field indicating that it should not allow text extraction. Ignoring this field and proceeding.\n",
      "  warnings.warn(warning_msg, PDFTextExtractionNotAllowedWarning)\n"
     ]
    },
    {
     "name": "stdout",
     "output_type": "stream",
     "text": [
      "2006 - Stand Alone Single Project JCT 21.2.1 Wording for Principals - JCT_SP_P_2.pdf\n",
      "COUNT 686\n",
      "Athletic Participants Exclusion - X47 v1 (Aon_XS_Comb_Liab 10-18).pdf\n",
      "COUNT 687\n",
      "MANUAL WORK ABROAD EXTENSION - PL - L67 (not for CasPrim(FOS)).pdf\n",
      "COUNT 688\n",
      "OFFSHORE - INNER LIMIT - EL - LCD (to 30-04-09).pdf\n",
      "COUNT 689\n",
      "ROI Corporate 3 Year EPA (SE - From 01-01-2019).pdf\n",
      "COUNT 690\n",
      "MTBE EXCLUSION (PL Only, Excess Combined) - XFI (from 11-03-09).pdf\n",
      "COUNT 691\n",
      "RIGHTS OF RECOURSE - PL ONLY (Excess Combined Policies) - XCP (from 18-04-08).pdf\n",
      "COUNT 692\n",
      "Firework Conditions - IAS.pdf\n",
      "COUNT 693\n",
      "OFFSHORE DEFINITION - LEI (from 23-05-08 to 30-04-09).pdf\n",
      "COUNT 694\n",
      "USA-CANADA CLAUSE (EL or PL or Motor Only, Excess Combined) - XER (from 06-05-08).pdf\n",
      "COUNT 695\n",
      "Third Party PD + BI Excess - IBQ.pdf\n",
      "COUNT 696\n",
      "DIFFERENCE IN CONDITIONS - PL - LBKa.pdf\n",
      "COUNT 697\n",
      "MEDICAL SERVICES EXCLUSION - XFS (from 27-03-15).pdf\n",
      "COUNT 698\n",
      "EMF (Electro Magnetic Fields) Exclusion - XAT v1 (Aon_XS_Comb_Liab 10-18).pdf\n",
      "COUNT 699\n",
      "Tour Operators Liability Exclusion - XFC v1 (Aon_XS_Comb_Liab 10-18).pdf\n",
      "COUNT 700\n",
      "Event Organisers conditions (including catering) specified limit - IAM.pdf\n",
      "COUNT 701\n",
      "USE OF HEAT AWAY FROM THE PREMISES (PL Only, Excess Combined) - XES (from 14-07-13 to 31-12-14).pdf\n",
      "COUNT 702\n",
      "ROI EL questionnaire (SE - From 01-01-2019).pdf\n",
      "COUNT 703\n",
      "Briefing Note October 2016 MNGA ROI.pdf\n",
      "COUNT 704\n",
      "2011 - Stand Alone Single Project Non-Negligent Damage Liability for Principals - JCT_SP_P_6 (from 15-02-11 to 14-10-13).pdf\n",
      "COUNT 705\n"
     ]
    },
    {
     "name": "stderr",
     "output_type": "stream",
     "text": [
      "/opt/app/RB/.local/lib/python3.6/site-packages/pdfminer/pdfpage.py:140: PDFTextExtractionNotAllowedWarning: The PDF <_io.BufferedReader name='Documents/UK-Casualty/Chubb Standard Wording/2011 - Stand Alone Single Project Non-Negligent Damage Liability for Principals - JCT_SP_P_6 (from 15-02-11 to 14-10-13).pdf'> contains a metadata field indicating that it should not allow text extraction. Ignoring this field and proceeding.\n",
      "  warnings.warn(warning_msg, PDFTextExtractionNotAllowedWarning)\n"
     ]
    },
    {
     "name": "stdout",
     "output_type": "stream",
     "text": [
      "BSE EXCLUSION - XAU.pdf\n",
      "COUNT 706\n",
      "RADIOACTIVE AND EXPLOSIVES MATERIAL EXCLUSION - PL - LFO (from 09-04-09).pdf\n",
      "COUNT 707\n",
      "Tobacco Products and E-Cigarettes Exclusion - PL - LGKa.pdf\n",
      "COUNT 708\n",
      "MUNITIONS OF WAR - PL - LCWa.pdf\n",
      "COUNT 709\n",
      "FINANCIAL LOSS EXTENSION - PL - LDT (from 12-11-11).pdf\n",
      "COUNT 710\n",
      "TERRORISM EXCLUSION - EL and PL - LDMa.pdf\n",
      "COUNT 711\n",
      "Pollution and Contamination Aggregate Limit - XAH v1 (Aon_XS_Comb_Liab 10-18).pdf\n",
      "COUNT 712\n",
      "GENETICALLY MODIFIED PRODUCTS EXCLUSION - XAV.pdf\n",
      "COUNT 713\n",
      "MENTAL INJURY ANGUISH AND SHOCK - USA, CANADA - PL - LDFa.pdf\n",
      "COUNT 714\n",
      "Made-Up Textile Association (MUTA) Conditions - IBA.pdf\n",
      "COUNT 715\n",
      "THIRD PARTY MOTOR VEHICLE SERVICING INDEMNITY - LDI.pdf\n",
      "COUNT 716\n",
      "2017 - Casualty Excess Claims Made Form - CasXS(CM)(ROI)_15 (from 01-05-17 to 24-05-2018).pdf\n",
      "COUNT 717\n"
     ]
    },
    {
     "name": "stderr",
     "output_type": "stream",
     "text": [
      "/opt/app/RB/.local/lib/python3.6/site-packages/pdfminer/pdfpage.py:140: PDFTextExtractionNotAllowedWarning: The PDF <_io.BufferedReader name='Documents/UK-Casualty/Chubb Standard Wording/2017 - Casualty Excess Claims Made Form - CasXS(CM)(ROI)_15 (from 01-05-17 to 24-05-2018).pdf'> contains a metadata field indicating that it should not allow text extraction. Ignoring this field and proceeding.\n",
      "  warnings.warn(warning_msg, PDFTextExtractionNotAllowedWarning)\n"
     ]
    },
    {
     "name": "stdout",
     "output_type": "stream",
     "text": [
      "USA CANADA - DIRECT EXPORTS EXCLUSION - PL - CMN28a.pdf\n",
      "COUNT 718\n",
      "USA, CANADA DEDUCTIBLE CLAUSE - PL - L82a.pdf\n",
      "COUNT 719\n",
      "NON-NEGLIGENT DAMAGE LIABILITY RUN-OFF (PL Only, Excess Combined) - XEZ (from 06-05-08).pdf\n",
      "COUNT 720\n",
      "2011 - Select Excess Umbrella Liability Policy (DIL Version) - SelectXs(DIL)(ROI)_8.pdf\n",
      "COUNT 721\n"
     ]
    },
    {
     "name": "stderr",
     "output_type": "stream",
     "text": [
      "/opt/app/RB/.local/lib/python3.6/site-packages/pdfminer/pdfpage.py:140: PDFTextExtractionNotAllowedWarning: The PDF <_io.BufferedReader name='Documents/UK-Casualty/Chubb Standard Wording/2011 - Select Excess Umbrella Liability Policy (DIL Version) - SelectXs(DIL)(ROI)_8.pdf'> contains a metadata field indicating that it should not allow text extraction. Ignoring this field and proceeding.\n",
      "  warnings.warn(warning_msg, PDFTextExtractionNotAllowedWarning)\n"
     ]
    },
    {
     "name": "stdout",
     "output_type": "stream",
     "text": [
      "2006 - Excess PPL Quinn - XS PPL (Quinn)_2.pdf\n",
      "COUNT 722\n"
     ]
    },
    {
     "name": "stderr",
     "output_type": "stream",
     "text": [
      "/opt/app/RB/.local/lib/python3.6/site-packages/pdfminer/pdfpage.py:140: PDFTextExtractionNotAllowedWarning: The PDF <_io.BufferedReader name='Documents/UK-Casualty/Chubb Standard Wording/2006 - Excess PPL Quinn - XS PPL (Quinn)_2.pdf'> contains a metadata field indicating that it should not allow text extraction. Ignoring this field and proceeding.\n",
      "  warnings.warn(warning_msg, PDFTextExtractionNotAllowedWarning)\n"
     ]
    },
    {
     "name": "stdout",
     "output_type": "stream",
     "text": [
      "INFORMATION EXCLUSION - X38 (to 28-2-07).pdf\n",
      "COUNT 723\n",
      "OFFSHORE WORK CLAUSE - EL - L72a.pdf\n",
      "COUNT 724\n",
      "COVERAGE PRIOR TO SIGHT OF PRIMARY WORDING (RENEWAL) - XBR (from 01-05-09 to 04-03-11).pdf\n",
      "COUNT 725\n",
      "MTBE EXCLUSION - PL - LFN (from 11-03-09).pdf\n",
      "COUNT 726\n",
      "COVERAGE PRIOR TO SIGHT OF PRIMARY WORDING (for XMTPD only) - XCD (from 01-05-09 to 04-03-11).pdf\n",
      "COUNT 727\n",
      "FINANCIAL LOSS EXTENSION - PL - LDT (from 26-01-07 to 30-04-09).pdf\n",
      "COUNT 728\n",
      "2011 - Select Excess Umbrella Liability Policy (Full Limit Version) - SelectXs(Full)(ROI)_8.pdf\n",
      "COUNT 729\n"
     ]
    },
    {
     "name": "stderr",
     "output_type": "stream",
     "text": [
      "/opt/app/RB/.local/lib/python3.6/site-packages/pdfminer/pdfpage.py:140: PDFTextExtractionNotAllowedWarning: The PDF <_io.BufferedReader name='Documents/UK-Casualty/Chubb Standard Wording/2011 - Select Excess Umbrella Liability Policy (Full Limit Version) - SelectXs(Full)(ROI)_8.pdf'> contains a metadata field indicating that it should not allow text extraction. Ignoring this field and proceeding.\n",
      "  warnings.warn(warning_msg, PDFTextExtractionNotAllowedWarning)\n"
     ]
    },
    {
     "name": "stdout",
     "output_type": "stream",
     "text": [
      "USA + Canada Clause - XAF v1 (Aon_XS_Comb_Liab 10-18).pdf\n",
      "COUNT 730\n",
      "FINANCIAL LOSS EXTENSION (CM) - PL - LDUa (not for CasPrim(FOS)).pdf\n",
      "COUNT 731\n",
      "SILICA EXCLUSION - LDKa.pdf\n",
      "COUNT 732\n",
      "2005 - Umbrella Excess Liability Scheme Wdg - valid to 31-12-05.pdf\n",
      "COUNT 733\n",
      "Incumbent Risk Presentation Template.pdf\n",
      "COUNT 734\n",
      "2007 - Casualty Excess Claims Made Form - CasXS(CM)(ROI)_5.pdf\n",
      "COUNT 735\n"
     ]
    },
    {
     "name": "stderr",
     "output_type": "stream",
     "text": [
      "/opt/app/RB/.local/lib/python3.6/site-packages/pdfminer/pdfpage.py:140: PDFTextExtractionNotAllowedWarning: The PDF <_io.BufferedReader name='Documents/UK-Casualty/Chubb Standard Wording/2007 - Casualty Excess Claims Made Form - CasXS(CM)(ROI)_5.pdf'> contains a metadata field indicating that it should not allow text extraction. Ignoring this field and proceeding.\n",
      "  warnings.warn(warning_msg, PDFTextExtractionNotAllowedWarning)\n"
     ]
    },
    {
     "name": "stdout",
     "output_type": "stream",
     "text": [
      "MEDICAL MALPRACTICE AND TREATMENT EXCLUSION - PL - L45 (to 17-09-12).pdf\n",
      "COUNT 736\n",
      "POLLUTION AND CONTAMINATION CLEAN UP - LFM (from 28-09-09 to 05-04-11).pdf\n",
      "COUNT 737\n",
      "OFFSHORE VISITS CLAUSE - LDR (not for Offshore Liability Policy).pdf\n",
      "COUNT 738\n",
      "2018 MN Partner Casualty EIL_6 (To 31-12-18).pdf\n",
      "COUNT 739\n",
      "2019 XSComb(ROI)_16 (SE - From 01-01-19).pdf\n",
      "COUNT 740\n"
     ]
    },
    {
     "name": "stderr",
     "output_type": "stream",
     "text": [
      "/opt/app/RB/.local/lib/python3.6/site-packages/pdfminer/pdfpage.py:140: PDFTextExtractionNotAllowedWarning: The PDF <_io.BufferedReader name='Documents/UK-Casualty/Chubb Standard Wording/2019 XSComb(ROI)_16 (SE - From 01-01-19).pdf'> contains a metadata field indicating that it should not allow text extraction. Ignoring this field and proceeding.\n",
      "  warnings.warn(warning_msg, PDFTextExtractionNotAllowedWarning)\n"
     ]
    },
    {
     "name": "stdout",
     "output_type": "stream",
     "text": [
      "COVERAGE PRIOR TO SIGHT OF PRIMARY WORDING (for XS Combined only) - XBS (from 05-03-11).pdf\n",
      "COUNT 741\n",
      "2012 - 2013 - Excess Clinical Trial - CTXS(CM)_5 (from 01-10-12 to 31-12-13).pdf\n",
      "COUNT 742\n"
     ]
    },
    {
     "name": "stderr",
     "output_type": "stream",
     "text": [
      "/opt/app/RB/.local/lib/python3.6/site-packages/pdfminer/pdfpage.py:140: PDFTextExtractionNotAllowedWarning: The PDF <_io.BufferedReader name='Documents/UK-Casualty/Chubb Standard Wording/2012 - 2013 - Excess Clinical Trial - CTXS(CM)_5 (from 01-10-12 to 31-12-13).pdf'> contains a metadata field indicating that it should not allow text extraction. Ignoring this field and proceeding.\n",
      "  warnings.warn(warning_msg, PDFTextExtractionNotAllowedWarning)\n"
     ]
    },
    {
     "name": "stdout",
     "output_type": "stream",
     "text": [
      "FINANCIAL LOSS EXTENSION - STANDARD - PL - LAX - To 31-01-06.pdf\n",
      "COUNT 743\n",
      "AIRSIDE WORK EXCLUSION - PL - L23 (From 01-12-05).pdf\n",
      "COUNT 744\n",
      "HAZARDOUS WORK EXCLUSION - EL,PL - LCSa.pdf\n",
      "COUNT 745\n",
      "2009 - 2010 - Stand Alone Single Project JCT 21.2.1. Wording for Contractors - JCT_SP_C_5.pdf\n",
      "COUNT 746\n"
     ]
    },
    {
     "name": "stderr",
     "output_type": "stream",
     "text": [
      "/opt/app/RB/.local/lib/python3.6/site-packages/pdfminer/pdfpage.py:140: PDFTextExtractionNotAllowedWarning: The PDF <_io.BufferedReader name='Documents/UK-Casualty/Chubb Standard Wording/2009 - 2010 - Stand Alone Single Project JCT 21.2.1. Wording for Contractors - JCT_SP_C_5.pdf'> contains a metadata field indicating that it should not allow text extraction. Ignoring this field and proceeding.\n",
      "  warnings.warn(warning_msg, PDFTextExtractionNotAllowedWarning)\n"
     ]
    },
    {
     "name": "stdout",
     "output_type": "stream",
     "text": [
      "2008 Primary Clinical Trial Wording - CTPrim(CM)_2.pdf\n",
      "COUNT 747\n"
     ]
    },
    {
     "name": "stderr",
     "output_type": "stream",
     "text": [
      "/opt/app/RB/.local/lib/python3.6/site-packages/pdfminer/pdfpage.py:140: PDFTextExtractionNotAllowedWarning: The PDF <_io.BufferedReader name='Documents/UK-Casualty/Chubb Standard Wording/2008 Primary Clinical Trial Wording - CTPrim(CM)_2.pdf'> contains a metadata field indicating that it should not allow text extraction. Ignoring this field and proceeding.\n",
      "  warnings.warn(warning_msg, PDFTextExtractionNotAllowedWarning)\n"
     ]
    },
    {
     "name": "stdout",
     "output_type": "stream",
     "text": [
      "UK Corporate 3 Year EPA (SE - From 01-01-2019).pdf\n",
      "COUNT 748\n",
      "2019 MN Global Accounts Casualty EIL_6 (SE - From 01-01-19).pdf\n",
      "COUNT 749\n"
     ]
    },
    {
     "name": "stderr",
     "output_type": "stream",
     "text": [
      "/opt/app/RB/.local/lib/python3.6/site-packages/pdfminer/pdfpage.py:140: PDFTextExtractionNotAllowedWarning: The PDF <_io.BufferedReader name='Documents/UK-Casualty/Chubb Standard Wording/2019 MN Global Accounts Casualty EIL_6 (SE - From 01-01-19).pdf'> contains a metadata field indicating that it should not allow text extraction. Ignoring this field and proceeding.\n",
      "  warnings.warn(warning_msg, PDFTextExtractionNotAllowedWarning)\n"
     ]
    },
    {
     "name": "stdout",
     "output_type": "stream",
     "text": [
      "Excess EL Quinn endts - ROI - XQA - to be attached in all cases.pdf\n",
      "COUNT 750\n"
     ]
    },
    {
     "name": "stderr",
     "output_type": "stream",
     "text": [
      "/opt/app/RB/.local/lib/python3.6/site-packages/pdfminer/pdfpage.py:140: PDFTextExtractionNotAllowedWarning: The PDF <_io.BufferedReader name='Documents/UK-Casualty/Chubb Standard Wording/Excess EL Quinn endts - ROI - XQA - to be attached in all cases.pdf'> contains a metadata field indicating that it should not allow text extraction. Ignoring this field and proceeding.\n",
      "  warnings.warn(warning_msg, PDFTextExtractionNotAllowedWarning)\n"
     ]
    },
    {
     "name": "stdout",
     "output_type": "stream",
     "text": [
      "UNITED KINGDOM JURISDICTION CLAUSE - PL - L25 (to 09-03-11).pdf\n",
      "COUNT 751\n",
      "PHARMACEUTICALS EXCLUSION - EL or PL - LBNa.pdf\n",
      "COUNT 752\n",
      "UK Products Questionnaire - (SE - From 01-01-2019).pdf\n",
      "COUNT 753\n",
      "INFORMATION EXCLUSION - X38 (from 1-3-07).pdf\n",
      "COUNT 754\n",
      "2006 - 2007 Primary Clinical Trial Wording CTPrim(CM)_1.pdf\n",
      "COUNT 755\n"
     ]
    },
    {
     "name": "stderr",
     "output_type": "stream",
     "text": [
      "/opt/app/RB/.local/lib/python3.6/site-packages/pdfminer/pdfpage.py:140: PDFTextExtractionNotAllowedWarning: The PDF <_io.BufferedReader name='Documents/UK-Casualty/Chubb Standard Wording/2006 - 2007 Primary Clinical Trial Wording CTPrim(CM)_1.pdf'> contains a metadata field indicating that it should not allow text extraction. Ignoring this field and proceeding.\n",
      "  warnings.warn(warning_msg, PDFTextExtractionNotAllowedWarning)\n"
     ]
    },
    {
     "name": "stdout",
     "output_type": "stream",
     "text": [
      "Marsh XOL Facility Wording for use 01may2017 to 31Aug2017.pdf\n",
      "COUNT 756\n",
      "USA, CANADA - DIRECT EXPORTS RUN OFF COVER EXCLUSION - PL - LCX (not for CasPrim(FOS)).pdf\n",
      "COUNT 757\n",
      "MOBILE PHONE EXCLUSION (PL Only, Excess Combined) - XDV (from 06-05-08).pdf\n",
      "COUNT 758\n",
      "2006 - Select Excess Umbrella Liability Policy (DIL Version) - SelectXs(ROI)(DIL)_4.pdf\n",
      "COUNT 759\n",
      "EMPLOYERS LIABILITY MINIMUM LIMIT - NO PARENT - LEE (from 23-05-08).pdf\n",
      "COUNT 760\n",
      "Trackside Liability Exclusion - XBW v1 (Aon_XS_Comb_Liab 10-18).pdf\n",
      "COUNT 761\n",
      "2015 - Primary Clinical Trial Policy - CTPrim(CM)(ROI)_6 (from 17-07-15 to 31-12-15).pdf\n",
      "COUNT 762\n"
     ]
    },
    {
     "name": "stderr",
     "output_type": "stream",
     "text": [
      "/opt/app/RB/.local/lib/python3.6/site-packages/pdfminer/pdfpage.py:140: PDFTextExtractionNotAllowedWarning: The PDF <_io.BufferedReader name='Documents/UK-Casualty/Chubb Standard Wording/2015 - Primary Clinical Trial Policy - CTPrim(CM)(ROI)_6 (from 17-07-15 to 31-12-15).pdf'> contains a metadata field indicating that it should not allow text extraction. Ignoring this field and proceeding.\n",
      "  warnings.warn(warning_msg, PDFTextExtractionNotAllowedWarning)\n"
     ]
    },
    {
     "name": "stdout",
     "output_type": "stream",
     "text": [
      "OFFSHORE - XFG (from 29-10-08, Excess Employers Liability Policy (Onshore)).pdf\n",
      "COUNT 763\n",
      "EL Certificate - ROI (SE - From 01-01-2019).pdf\n",
      "COUNT 764\n",
      "DIFFERENCE IN LIMITS - EL,PL - LBL (From 1-12-05 to 09-03-11).pdf\n",
      "COUNT 765\n",
      "Motor Racing and Rallying Exclusion - XMQ v1 (Aon_XS_Comb_Liab 10-18).pdf\n",
      "COUNT 766\n",
      "2019 ELconprim_17 (SE - From 01-01-19).pdf\n",
      "COUNT 767\n"
     ]
    },
    {
     "name": "stderr",
     "output_type": "stream",
     "text": [
      "/opt/app/RB/.local/lib/python3.6/site-packages/pdfminer/pdfpage.py:140: PDFTextExtractionNotAllowedWarning: The PDF <_io.BufferedReader name='Documents/UK-Casualty/Chubb Standard Wording/2019 ELconprim_17 (SE - From 01-01-19).pdf'> contains a metadata field indicating that it should not allow text extraction. Ignoring this field and proceeding.\n",
      "  warnings.warn(warning_msg, PDFTextExtractionNotAllowedWarning)\n"
     ]
    },
    {
     "name": "stdout",
     "output_type": "stream",
     "text": [
      "POLLUTION - USA-CANADA - NMA 1686_REST OF THE WORLD - NMA 1685 (PL Only, Excess Combined) - XEF (from 06-05-08).pdf\n",
      "COUNT 768\n",
      "INTERNET LIABILITY EXCLUSION - PL - LCUa.pdf\n",
      "COUNT 769\n",
      "2006 - Excess PPL Quinn - XS PPL (Quinn) (ROI)_2.pdf\n",
      "COUNT 770\n"
     ]
    },
    {
     "name": "stderr",
     "output_type": "stream",
     "text": [
      "/opt/app/RB/.local/lib/python3.6/site-packages/pdfminer/pdfpage.py:140: PDFTextExtractionNotAllowedWarning: The PDF <_io.BufferedReader name='Documents/UK-Casualty/Chubb Standard Wording/2006 - Excess PPL Quinn - XS PPL (Quinn) (ROI)_2.pdf'> contains a metadata field indicating that it should not allow text extraction. Ignoring this field and proceeding.\n",
      "  warnings.warn(warning_msg, PDFTextExtractionNotAllowedWarning)\n"
     ]
    },
    {
     "name": "stdout",
     "output_type": "stream",
     "text": [
      "USA, CANADA - DIRECT EXPORTS EXCLUSION - PL - LAC.pdf\n",
      "COUNT 771\n",
      "CLAIMS MADE RETRO EXTENSION - PL - CMN4a.pdf\n",
      "COUNT 772\n",
      "DATE RECOGNITION CLAUSE - X2K.pdf\n",
      "COUNT 773\n",
      "2019 MN Global Accounts Casualty ROI_6 (SE - From 01-01-19).pdf\n",
      "COUNT 774\n"
     ]
    },
    {
     "name": "stderr",
     "output_type": "stream",
     "text": [
      "/opt/app/RB/.local/lib/python3.6/site-packages/pdfminer/pdfpage.py:140: PDFTextExtractionNotAllowedWarning: The PDF <_io.BufferedReader name='Documents/UK-Casualty/Chubb Standard Wording/2019 MN Global Accounts Casualty ROI_6 (SE - From 01-01-19).pdf'> contains a metadata field indicating that it should not allow text extraction. Ignoring this field and proceeding.\n",
      "  warnings.warn(warning_msg, PDFTextExtractionNotAllowedWarning)\n"
     ]
    },
    {
     "name": "stdout",
     "output_type": "stream",
     "text": [
      "AVIAN INFLUENZA EXCLUSION (PL Only, Excess Combined) - XCX (from 06-05-08).pdf\n",
      "COUNT 775\n",
      "Cosmetic Products (Safety) Regulations Condition - IAI.pdf\n",
      "COUNT 776\n",
      "2019 MN Partner Casualty ROI_6 (SE - From 01-01-19).pdf\n",
      "COUNT 777\n"
     ]
    },
    {
     "name": "stderr",
     "output_type": "stream",
     "text": [
      "/opt/app/RB/.local/lib/python3.6/site-packages/pdfminer/pdfpage.py:140: PDFTextExtractionNotAllowedWarning: The PDF <_io.BufferedReader name='Documents/UK-Casualty/Chubb Standard Wording/2019 MN Partner Casualty ROI_6 (SE - From 01-01-19).pdf'> contains a metadata field indicating that it should not allow text extraction. Ignoring this field and proceeding.\n",
      "  warnings.warn(warning_msg, PDFTextExtractionNotAllowedWarning)\n"
     ]
    },
    {
     "name": "stdout",
     "output_type": "stream",
     "text": [
      "AIRSIDE WORK EXCLUSION (EL or PL or Motor Only, Excess Combined) - XCU (from 06-05-08).pdf\n",
      "COUNT 778\n",
      "Co-insurers Clause - X24 v1 (Aon_XS_Comb_Liab 10-18).pdf\n",
      "COUNT 779\n",
      "UNITED KINGDOM JURISDICTION CLAUSE (EL or PL or Motor Only) - XEQ (from 06-05-08 to 04-03-11).pdf\n",
      "COUNT 780\n",
      "Cyber Liability Exclusion - LGN.pdf\n",
      "COUNT 781\n",
      "USA Terrorism Exclusion - L128a.pdf\n",
      "COUNT 782\n",
      "2019 MN Partner Casualty OS EIL_6 (SE - From 01-01-19).pdf\n",
      "COUNT 783\n"
     ]
    },
    {
     "name": "stderr",
     "output_type": "stream",
     "text": [
      "/opt/app/RB/.local/lib/python3.6/site-packages/pdfminer/pdfpage.py:140: PDFTextExtractionNotAllowedWarning: The PDF <_io.BufferedReader name='Documents/UK-Casualty/Chubb Standard Wording/2019 MN Partner Casualty OS EIL_6 (SE - From 01-01-19).pdf'> contains a metadata field indicating that it should not allow text extraction. Ignoring this field and proceeding.\n",
      "  warnings.warn(warning_msg, PDFTextExtractionNotAllowedWarning)\n"
     ]
    },
    {
     "name": "stdout",
     "output_type": "stream",
     "text": [
      "2008 Excess Clinical Trial - CTXS(CM)_2.pdf\n",
      "COUNT 784\n"
     ]
    },
    {
     "name": "stderr",
     "output_type": "stream",
     "text": [
      "/opt/app/RB/.local/lib/python3.6/site-packages/pdfminer/pdfpage.py:140: PDFTextExtractionNotAllowedWarning: The PDF <_io.BufferedReader name='Documents/UK-Casualty/Chubb Standard Wording/2008 Excess Clinical Trial - CTXS(CM)_2.pdf'> contains a metadata field indicating that it should not allow text extraction. Ignoring this field and proceeding.\n",
      "  warnings.warn(warning_msg, PDFTextExtractionNotAllowedWarning)\n"
     ]
    },
    {
     "name": "stdout",
     "output_type": "stream",
     "text": [
      "Welding Fumes Exclusion - XFQ v1 (Aon_XS_Comb_Liab 10-18).pdf\n",
      "COUNT 785\n",
      "COVERAGE PRIOR TO SIGHT OF PRIMARY WORDING - XBH (from 01-01-06 to 31-12-06).pdf\n",
      "COUNT 786\n",
      "WORLDWIDE JURISDICTION CLAUSE (EXCLUDING USA-CANADA) - X29.pdf\n",
      "COUNT 787\n"
     ]
    },
    {
     "name": "stderr",
     "output_type": "stream",
     "text": [
      "/opt/app/RB/.local/lib/python3.6/site-packages/pdfminer/pdfpage.py:140: PDFTextExtractionNotAllowedWarning: The PDF <_io.BufferedReader name='Documents/UK-Casualty/Chubb Standard Wording/COVERAGE PRIOR TO SIGHT OF PRIMARY WORDING - XBH (from 01-01-06 to 31-12-06).pdf'> contains a metadata field indicating that it should not allow text extraction. Ignoring this field and proceeding.\n",
      "  warnings.warn(warning_msg, PDFTextExtractionNotAllowedWarning)\n"
     ]
    },
    {
     "name": "stdout",
     "output_type": "stream",
     "text": [
      "BONA FIDE SUBCONTRACTORS (EQUIVALENT COVER) - PL - LBW (from 01-05-09).pdf\n",
      "COUNT 788\n",
      "LEGIONELLA EXCLUSION - EL or PL - CMN16a.pdf\n",
      "COUNT 789\n",
      "2005 - 2006 Excess EL Quinn - XS EL (Quinn)_1.pdf\n",
      "COUNT 790\n"
     ]
    },
    {
     "name": "stderr",
     "output_type": "stream",
     "text": [
      "/opt/app/RB/.local/lib/python3.6/site-packages/pdfminer/pdfpage.py:140: PDFTextExtractionNotAllowedWarning: The PDF <_io.BufferedReader name='Documents/UK-Casualty/Chubb Standard Wording/2005 - 2006 Excess EL Quinn - XS EL (Quinn)_1.pdf'> contains a metadata field indicating that it should not allow text extraction. Ignoring this field and proceeding.\n",
      "  warnings.warn(warning_msg, PDFTextExtractionNotAllowedWarning)\n"
     ]
    },
    {
     "name": "stdout",
     "output_type": "stream",
     "text": [
      "2016 - Casualty Excess Claims Made Form - CasXS(CM)(ROI)_13 (to 31-10-16).pdf\n",
      "COUNT 791\n"
     ]
    },
    {
     "name": "stderr",
     "output_type": "stream",
     "text": [
      "/opt/app/RB/.local/lib/python3.6/site-packages/pdfminer/pdfpage.py:140: PDFTextExtractionNotAllowedWarning: The PDF <_io.BufferedReader name='Documents/UK-Casualty/Chubb Standard Wording/2016 - Casualty Excess Claims Made Form - CasXS(CM)(ROI)_13 (to 31-10-16).pdf'> contains a metadata field indicating that it should not allow text extraction. Ignoring this field and proceeding.\n",
      "  warnings.warn(warning_msg, PDFTextExtractionNotAllowedWarning)\n"
     ]
    },
    {
     "name": "stdout",
     "output_type": "stream",
     "text": [
      "MAINTENANCE LIABILITY (EL or PL Only, Excess Combined) - XDR (from 06-05-08).pdf\n",
      "COUNT 792\n",
      "Direct Exports to the USA-Canada Exclusion - XAG v1 (Aon_XS_Comb_Liab 10-18).pdf\n",
      "COUNT 793\n",
      "Internet Liability Exclusion - XCO v1 (Aon_XS_Comb_Liab 10-18).pdf\n",
      "COUNT 794\n",
      "BSE EXCLUSION - PL - LBI.pdf\n",
      "COUNT 795\n",
      "THIRD PARTY MOTOR VEHICLE SERVICING INDEMNITY - LDIa.pdf\n",
      "COUNT 796\n",
      "TERRITORIAL LIMITS EXTENSION – EMPLOYERS’ LIABILITY - LEM (from 16-02-11 to 31-07-16).pdf\n",
      "COUNT 797\n",
      "CYCLE RACING ON HIGHWAYS CONDITION - IAK.pdf\n",
      "COUNT 798\n",
      "HAZARDOUS GOODS EXCLUSION - XCK.pdf\n",
      "COUNT 799\n",
      "2006 - Excess Motor Third Party Liability - XMTPD(ROI)_2 (From 01-07-06).pdf\n",
      "COUNT 800\n",
      "NON-NEGLIGENT DAMAGE LIABILITY RUN-OFF - XBQ (from 01-01-08).pdf\n",
      "COUNT 801\n",
      "EMPLOYERS LIABILITY MINIMUM LIMIT - NO PARENT - EL L88a.pdf\n",
      "COUNT 802\n",
      "ACQUISITIONS CLAUSE - XRA (from 23-2-07).pdf\n",
      "COUNT 803\n",
      "LIBEL AND SLANDER EXTENSION - PL - L83 (from 01-05-09).pdf\n",
      "COUNT 804\n",
      "FINANCIAL LOSS EXTENSION (CM) - PL - LDU (from 01-05-09 to 11-11-11) (not for CasPrim(FOS)).pdf\n",
      "COUNT 805\n",
      "HIRING OF SKIPS EXCLUSION - PL - L64.pdf\n",
      "COUNT 806\n",
      "Contractual Liability Extension - L104a.pdf\n",
      "COUNT 807\n",
      "EMPLOYERS LIABILITY EXCLUSION - EL,PL - LADa.pdf\n",
      "COUNT 808\n",
      "PROFESSIONAL INDEMNITY (CLAIMS-MADE BASIS) - PL - CMN25a.pdf\n",
      "COUNT 809\n",
      "NON-NEGLIGENT DAMAGE LIABILITY – EXCESS COVER (stand alone primary) from 1-10-06- XBN.pdf\n",
      "COUNT 810\n"
     ]
    },
    {
     "name": "stderr",
     "output_type": "stream",
     "text": [
      "/opt/app/RB/.local/lib/python3.6/site-packages/pdfminer/pdfpage.py:140: PDFTextExtractionNotAllowedWarning: The PDF <_io.BufferedReader name='Documents/UK-Casualty/Chubb Standard Wording/NON-NEGLIGENT DAMAGE LIABILITY – EXCESS COVER (stand alone primary) from 1-10-06- XBN.pdf'> contains a metadata field indicating that it should not allow text extraction. Ignoring this field and proceeding.\n",
      "  warnings.warn(warning_msg, PDFTextExtractionNotAllowedWarning)\n"
     ]
    },
    {
     "name": "stdout",
     "output_type": "stream",
     "text": [
      "UPDATES TO SPECIAL EXTN 2 - ENVIRONMENTAL LIABILITY - LFR (from 27-08-09) NOW OBSOLETE.pdf\n",
      "COUNT 811\n",
      "USE OF HEAT AWAY FROM THE PREMISES - XAB (from 14-07-13 to 31-12-14).pdf\n",
      "COUNT 812\n",
      "2015 - Stand Alone Single Project Non-Negligent Damage Liability Policy for Contractors - JCT_SP_C_8 (to 04-03-16).pdf\n",
      "COUNT 813\n"
     ]
    },
    {
     "name": "stderr",
     "output_type": "stream",
     "text": [
      "/opt/app/RB/.local/lib/python3.6/site-packages/pdfminer/pdfpage.py:140: PDFTextExtractionNotAllowedWarning: The PDF <_io.BufferedReader name='Documents/UK-Casualty/Chubb Standard Wording/2015 - Stand Alone Single Project Non-Negligent Damage Liability Policy for Contractors - JCT_SP_C_8 (to 04-03-16).pdf'> contains a metadata field indicating that it should not allow text extraction. Ignoring this field and proceeding.\n",
      "  warnings.warn(warning_msg, PDFTextExtractionNotAllowedWarning)\n"
     ]
    },
    {
     "name": "stdout",
     "output_type": "stream",
     "text": [
      "EXCESS MOTOR LIABILITY - PL - CMN9a.pdf\n",
      "COUNT 814\n",
      "CHILDCARE BODILY INJURY EXCLUSION - PL- LCKa.pdf\n",
      "COUNT 815\n",
      "Bona Fide Subcontractors (stated limit) - XBA v1 (Aon_XS_Comb_Liab 10-18).pdf\n",
      "COUNT 816\n",
      "CANCELLATION CLAUSE AMENDMENT - EL,PL - L48a.pdf\n",
      "COUNT 817\n",
      "SILICA, DUST AND PARTICULATE MATTER EXCLUSION - XCB.pdf\n",
      "COUNT 818\n",
      "POLLUTION (EIL) SECTION EXTENSION - LDO (from 13-08-12).pdf\n",
      "COUNT 819\n",
      "Event Organisers conditions (including catering) - IAN.pdf\n",
      "COUNT 820\n",
      "CANCELLATION CLAUSE AMENDMENT - EL,PL - L48 (from 01-05-09).pdf\n",
      "COUNT 821\n",
      "OFFSHORE - CONTRACTUAL LIABILITY EXTENSION - EL,PL - LCE - to 19-9-06.pdf\n",
      "COUNT 822\n",
      "ABSOLUTE FAILURE TO SUPPLY - X36 - To 31-01-06 - now Failure to Supply.pdf\n",
      "COUNT 823\n",
      "EMF (ELECTRO MAGNETIC FIELDS) EXCLUSION - PL - LBHa.pdf\n",
      "COUNT 824\n",
      "THE INSURED (mid term adjustment) - XMJ (from 26-03-09).pdf\n",
      "COUNT 825\n",
      "ASBESTOS EXCLUSION  - PL - LAAa.pdf\n",
      "COUNT 826\n",
      "BONFIRE, FIREWORK DISPLAYS - PL - LCJa.pdf\n",
      "COUNT 827\n",
      "Professional Indemnity (Claims-made basis) - L116a - from 01022018.pdf\n",
      "COUNT 828\n",
      "MOTOR VEHICLE COMPONENTS EXCLUSION - X26.pdf\n",
      "COUNT 829\n",
      "LOSS OF UNDERGROUND SERVICES AMENDMENT TO SECTION 3 - LMM.pdf\n",
      "COUNT 830\n",
      "Avian Influenza Exclusion - XCE v1 (Aon_XS_Comb_Liab 10-18).pdf\n",
      "COUNT 831\n"
     ]
    },
    {
     "name": "stderr",
     "output_type": "stream",
     "text": [
      "/opt/app/RB/.local/lib/python3.6/site-packages/pdfminer/pdfpage.py:140: PDFTextExtractionNotAllowedWarning: The PDF <_io.BufferedReader name='Documents/UK-Casualty/Chubb Standard Wording/LOSS OF UNDERGROUND SERVICES AMENDMENT TO SECTION 3 - LMM.pdf'> contains a metadata field indicating that it should not allow text extraction. Ignoring this field and proceeding.\n",
      "  warnings.warn(warning_msg, PDFTextExtractionNotAllowedWarning)\n",
      "/opt/app/RB/.local/lib/python3.6/site-packages/pdfminer/pdfpage.py:140: PDFTextExtractionNotAllowedWarning: The PDF <_io.BufferedReader name='Documents/UK-Casualty/Chubb Standard Wording/2012 - Select Excess Umbrella Liability Policy (DIL Version) - SelectXs(DIL)(ROI)_9 (to 13-04-12).pdf'> contains a metadata field indicating that it should not allow text extraction. Ignoring this field and proceeding.\n",
      "  warnings.warn(warning_msg, PDFTextExtractionNotAllowedWarning)\n"
     ]
    },
    {
     "name": "stdout",
     "output_type": "stream",
     "text": [
      "2012 - Select Excess Umbrella Liability Policy (DIL Version) - SelectXs(DIL)(ROI)_9 (to 13-04-12).pdf\n",
      "COUNT 832\n",
      "USA TERRORISM EXCLUSION - CMN57a.pdf\n",
      "COUNT 833\n",
      "TERRITORIAL LIMITS EXTN – EL - LFY (from 16-02-11) (exc. offshore).pdf\n",
      "COUNT 834\n",
      "FOSTER CHILDREN - DAMAGE EXCLUSION - PL - LCQ.pdf\n",
      "COUNT 835\n",
      "CLINICAL TRIALS EXCLUSION - EL or PL - LCL.pdf\n",
      "COUNT 836\n",
      "EMPLOYERS LIABILITY OFFSHORE EXTENSION - XMP (For XS Combined only).pdf\n",
      "COUNT 837\n",
      "BSE EXCLUSION - PL - LBIa.pdf\n",
      "COUNT 838\n",
      "COVERAGE PRIOR TO SIGHT OF PRIMARY WORDING (for XMTPD only) - XCD (from 18-07-07 to 30-04-09).pdf\n",
      "COUNT 839\n",
      "OFFSHORE WORK CLAUSE - EL - L72 (from 01-05-09) (not for Offshore Liability Policy).pdf\n",
      "COUNT 840\n",
      "MOTOR RACING AND RALLYING EXCLUSION - XMQ.pdf\n",
      "COUNT 841\n",
      "CLINICAL TRIALS EXCLUSION - XAN.pdf\n",
      "COUNT 842\n",
      "2005 - Primary Liability Policy - CasPrim(ROI)_3 (To 30-6-05).pdf\n",
      "COUNT 843\n",
      "OFFSHORE EXTENSION – EMPLOYERS' LIABILITY - LCCa.pdf\n",
      "COUNT 844\n",
      "AIRCRAFT PRODUCTS EXCLUSION (PL Only, Excess Combined) - XCT (from 06-05-08).pdf\n",
      "COUNT 845\n",
      "OFFSHORE WORK EXCLUSION - PL - LAQ (from 01-05-09) (not for Offshore Liability Policy).pdf\n",
      "COUNT 846\n",
      "LOSS OF YIELD EXCLUSION - PL - LDY (from 13-05-08).pdf\n",
      "COUNT 847\n",
      "NON-NEGLIGENT DAMAGE LIABILITY - EXCESS COVER (package primary) from 1-10-06- XBP.pdf\n",
      "COUNT 848\n",
      "Excess Motor - Underlying Limit - XFP v1 (Aon_XS_Comb_Liab 10-18).pdf\n",
      "COUNT 849\n",
      "2016 Non-Negligent Damage Liability for Principals - JCT_SP_P (ROI)_7 (from 05-03-16 to 31-12-18).pdf\n",
      "COUNT 850\n"
     ]
    },
    {
     "name": "stderr",
     "output_type": "stream",
     "text": [
      "/opt/app/RB/.local/lib/python3.6/site-packages/pdfminer/pdfpage.py:140: PDFTextExtractionNotAllowedWarning: The PDF <_io.BufferedReader name='Documents/UK-Casualty/Chubb Standard Wording/2016 Non-Negligent Damage Liability for Principals - JCT_SP_P (ROI)_7 (from 05-03-16 to 31-12-18).pdf'> contains a metadata field indicating that it should not allow text extraction. Ignoring this field and proceeding.\n",
      "  warnings.warn(warning_msg, PDFTextExtractionNotAllowedWarning)\n"
     ]
    },
    {
     "name": "stdout",
     "output_type": "stream",
     "text": [
      "SHOPLIFTING ACCUSATION EXTENSION - PL - L40.pdf\n",
      "COUNT 851\n",
      "2007 - Non-Negligent Damage Liability for Principals - JCT_SP_P (ROI)_1.pdf\n",
      "COUNT 852\n"
     ]
    },
    {
     "name": "stderr",
     "output_type": "stream",
     "text": [
      "/opt/app/RB/.local/lib/python3.6/site-packages/pdfminer/pdfpage.py:140: PDFTextExtractionNotAllowedWarning: The PDF <_io.BufferedReader name='Documents/UK-Casualty/Chubb Standard Wording/2007 - Non-Negligent Damage Liability for Principals - JCT_SP_P (ROI)_1.pdf'> contains a metadata field indicating that it should not allow text extraction. Ignoring this field and proceeding.\n",
      "  warnings.warn(warning_msg, PDFTextExtractionNotAllowedWarning)\n"
     ]
    },
    {
     "name": "stdout",
     "output_type": "stream",
     "text": [
      "TRACKSIDE LIABILITY EXCLUSION (EL or PL Only, Excess Combined) - XEP (from 06-05-08).pdf\n",
      "COUNT 853\n",
      "Briefing Note October 2016 MNGA UK.pdf\n",
      "COUNT 854\n",
      "SHOPLIFTING ACCUSATION EXTENSION - PL - L40a.pdf\n",
      "COUNT 855\n",
      "Currency Clause - X34 v1 (Aon_XS_Comb_Liab 10-18).pdf\n",
      "COUNT 856\n",
      "TRACKSIDE LIABILITY EXCLUSION - XBW.pdf\n",
      "COUNT 857\n",
      "COVERAGE PRIOR TO SIGHT OF PRIMARY WORDING (for XS Combined only) - XBS (from 01-01-08 to 30-04-09).pdf\n",
      "COUNT 858\n",
      "USA CANADA DEDUCTIBLE - PL - CMN30a.pdf\n",
      "COUNT 859\n",
      "TOUR OPERATORS LIABILITY EXCLUSION - STATUTE - PL - LBPa.pdf\n",
      "COUNT 860\n",
      "MANUAL WORK ABROAD EXTENSION - PL - L67a (not for CasPrim(FOS) policy).pdf\n",
      "COUNT 861\n",
      "2016 - Primary Clinical Trials Policy - CTPrim(Blan)(ROI)_7.pdf\n",
      "COUNT 862\n"
     ]
    },
    {
     "name": "stderr",
     "output_type": "stream",
     "text": [
      "/opt/app/RB/.local/lib/python3.6/site-packages/pdfminer/pdfpage.py:140: PDFTextExtractionNotAllowedWarning: The PDF <_io.BufferedReader name='Documents/UK-Casualty/Chubb Standard Wording/2016 - Primary Clinical Trials Policy - CTPrim(Blan)(ROI)_7.pdf'> contains a metadata field indicating that it should not allow text extraction. Ignoring this field and proceeding.\n",
      "  warnings.warn(warning_msg, PDFTextExtractionNotAllowedWarning)\n"
     ]
    },
    {
     "name": "stdout",
     "output_type": "stream",
     "text": [
      "THE BUSINESS (mid term adjustment) - XMK (from 26-03-09).pdf\n",
      "COUNT 863\n",
      "CLAIMS MADE BASIS - PL - LAZa.pdf\n",
      "COUNT 864\n",
      "WELDING FUMES EXCLUSION - XFQ (from 01-03-11).pdf\n",
      "COUNT 865\n",
      "RADIOACTIVE AND EXPLOSIVES MATERIAL EXCLUSION - PL - LFOa.pdf\n",
      "COUNT 866\n",
      "PRODUCTS LIABILITY EXCLUSION - PL - LAGa.pdf\n",
      "COUNT 867\n",
      "DATA BREACH EXCLUSION  (EL, PL, Motor Excess Combined) - XMS (from 18-04-19).pdf\n",
      "COUNT 868\n",
      "POLLUTION - TOTAL EXCLUSION (PL Only, Excess Combined) - XEE (from 06-05-08).pdf\n",
      "COUNT 869\n",
      "USE OF HEAT AWAY FROM THE PREMISES - PL - LAB (from 06-01-12 to 31-12-14).pdf\n",
      "COUNT 870\n",
      "CLINICAL TRIALS EXCLUSION (EL or PL Only, Excess Combined) - XDC (from 06-05-08).pdf\n",
      "COUNT 871\n",
      "WOODWORKING MACHINERY EXCLUSION - EL - LAJa.pdf\n",
      "COUNT 872\n",
      "DIL COND - MIN ATTACHMENT POINT - XRB.pdf\n",
      "COUNT 873\n",
      "HAZARDOUS SUBSTANCES - PL - CMN13a.pdf\n",
      "COUNT 874\n",
      "2008 - 2009 - Excess EL Quinn - XS EL (Quinn)_3 (to 30-04-09).pdf\n",
      "COUNT 875\n"
     ]
    },
    {
     "name": "stderr",
     "output_type": "stream",
     "text": [
      "/opt/app/RB/.local/lib/python3.6/site-packages/pdfminer/pdfpage.py:140: PDFTextExtractionNotAllowedWarning: The PDF <_io.BufferedReader name='Documents/UK-Casualty/Chubb Standard Wording/2008 - 2009 - Excess EL Quinn - XS EL (Quinn)_3 (to 30-04-09).pdf'> contains a metadata field indicating that it should not allow text extraction. Ignoring this field and proceeding.\n",
      "  warnings.warn(warning_msg, PDFTextExtractionNotAllowedWarning)\n"
     ]
    },
    {
     "name": "stdout",
     "output_type": "stream",
     "text": [
      "TERRORISM EXCLUSION - EL -LBB (from 01.02.06).pdf\n",
      "COUNT 876\n",
      "USA,CANADA JURISDICTION EXCLUSION - EL,PL - L34 (not for CasPrim(FOS)).pdf\n",
      "COUNT 877\n",
      "LIMIT OF LIABILITY (mid term adjustment) - XMM (from 26-03-09).pdf\n",
      "COUNT 878\n",
      "MOTOR VEHICLE COMPONENTS EXCLUSION (PL Only, Excess Combined) - XDW (from 06-05-08).pdf\n",
      "COUNT 879\n",
      "CONSTRUCTION - (ERECTION ALTERATION AND REPAIRS) - EL,PL - L37a.pdf\n",
      "COUNT 880\n",
      "USA, CANADA DEDUCTIBLE CLAUSE - PL - L82 (up to 01-05-2007).pdf\n",
      "COUNT 881\n",
      "Employers Liability Exclusion (only for use with Blanket Primary's etc) - XBM v1 (Aon_XS_Comb_Liab 10-18).pdf\n",
      "COUNT 882\n"
     ]
    },
    {
     "name": "stderr",
     "output_type": "stream",
     "text": [
      "/opt/app/RB/.local/lib/python3.6/site-packages/pdfminer/pdfpage.py:140: PDFTextExtractionNotAllowedWarning: The PDF <_io.BufferedReader name='Documents/UK-Casualty/Chubb Standard Wording/USA, CANADA DEDUCTIBLE CLAUSE - PL - L82 (up to 01-05-2007).pdf'> contains a metadata field indicating that it should not allow text extraction. Ignoring this field and proceeding.\n",
      "  warnings.warn(warning_msg, PDFTextExtractionNotAllowedWarning)\n"
     ]
    },
    {
     "name": "stdout",
     "output_type": "stream",
     "text": [
      "HAZARDOUS WORK EXCLUSION - EL,PL - LCS.pdf\n",
      "COUNT 883\n",
      "FOUL BERTHING EXCLUSION (PL Only, Excess Combined) - XDJ (from 06-05-08).pdf\n",
      "COUNT 884\n",
      "M.R.S.A. AND C.D. EXCLUSION - PL - LDHa.pdf\n",
      "COUNT 885\n",
      "USE OF HEAT AWAY FROM THE PREMISES - PL - LAB (from 01-01-15).pdf\n",
      "COUNT 886\n",
      "WELDING FUMES EXCLUSION - PL - LFZa.pdf\n",
      "COUNT 887\n",
      "INEFFICACY EXCLUSION CLAUSE (PL Only, Excess Combined) - XDO (from 06-05-08).pdf\n",
      "COUNT 888\n",
      "BSE Exclusion - XAU v1 (Aon_XS_Comb_Liab 10-18).pdf\n",
      "COUNT 889\n",
      "DISPENSING OF DRUGS - PL - LAO.pdf\n",
      "COUNT 890\n",
      "HEIGHT LIMITATION CLAUSE - EL,PL - LCT.pdf\n",
      "COUNT 891\n",
      "SUBROGATION WAIVER - NAMED - EL,PL - LBT.pdf\n",
      "COUNT 892\n",
      "PROFESSIONAL ADVICE AND TREATMENT EXCLUSION - PL - LCZ (to 6 Nov 05 only).pdf\n",
      "COUNT 893\n",
      "MOTOR CAR PROPERTY DAMAGE EXTENSION  - XBE.pdf\n",
      "COUNT 894\n"
     ]
    },
    {
     "name": "stderr",
     "output_type": "stream",
     "text": [
      "/opt/app/RB/.local/lib/python3.6/site-packages/pdfminer/pdfpage.py:140: PDFTextExtractionNotAllowedWarning: The PDF <_io.BufferedReader name='Documents/UK-Casualty/Chubb Standard Wording/MOTOR CAR PROPERTY DAMAGE EXTENSION  - XBE.pdf'> contains a metadata field indicating that it should not allow text extraction. Ignoring this field and proceeding.\n",
      "  warnings.warn(warning_msg, PDFTextExtractionNotAllowedWarning)\n"
     ]
    },
    {
     "name": "stdout",
     "output_type": "stream",
     "text": [
      "INFORMATION EXCLUSION - PL - L84 - (from 1-3-07).pdf\n",
      "COUNT 895\n",
      "Legionella Exclusion - L111a.pdf\n",
      "COUNT 896\n",
      "2007 - Excess Motor Third Party Liability - XMTPD(ROI)_3.pdf\n",
      "COUNT 897\n"
     ]
    },
    {
     "name": "stderr",
     "output_type": "stream",
     "text": [
      "/opt/app/RB/.local/lib/python3.6/site-packages/pdfminer/pdfpage.py:140: PDFTextExtractionNotAllowedWarning: The PDF <_io.BufferedReader name='Documents/UK-Casualty/Chubb Standard Wording/2007 - Excess Motor Third Party Liability - XMTPD(ROI)_3.pdf'> contains a metadata field indicating that it should not allow text extraction. Ignoring this field and proceeding.\n",
      "  warnings.warn(warning_msg, PDFTextExtractionNotAllowedWarning)\n"
     ]
    },
    {
     "name": "stdout",
     "output_type": "stream",
     "text": [
      "Medical Services Exclusion - XFT v1 (Aon_XS_Comb_Liab 10-18).pdf\n",
      "COUNT 898\n",
      "CLOAKROOM EXTENSION - LCM (from 11-06-12).pdf\n",
      "COUNT 899\n",
      "2006 - Excess Combined Liability Policy - XSComb(ROI)_4.pdf\n",
      "COUNT 900\n",
      "LONG TERM AGREEMENT (POLICY) CLAUSE - LGE (Updated, no discount) (from 22-01-14).pdf\n",
      "COUNT 901\n",
      "2005 - 2006 - Excess Motor Third Party Liability - XMTPD(ROI)_1 (to 30-06-06 Only).pdf\n",
      "COUNT 902\n",
      "MOTOR CAR PROPERTY DAMAGE EXTENSION - XBE.pdf\n",
      "COUNT 903\n",
      "MEDICAL SERVICES EXCLUSION - PL - LGB (from 27-03-15).pdf\n",
      "COUNT 904\n"
     ]
    },
    {
     "name": "stderr",
     "output_type": "stream",
     "text": [
      "/opt/app/RB/.local/lib/python3.6/site-packages/pdfminer/pdfpage.py:140: PDFTextExtractionNotAllowedWarning: The PDF <_io.BufferedReader name='Documents/UK-Casualty/Chubb Standard Wording/MOTOR CAR PROPERTY DAMAGE EXTENSION - XBE.pdf'> contains a metadata field indicating that it should not allow text extraction. Ignoring this field and proceeding.\n",
      "  warnings.warn(warning_msg, PDFTextExtractionNotAllowedWarning)\n"
     ]
    },
    {
     "name": "stdout",
     "output_type": "stream",
     "text": [
      "UNITED KINGDOM JURISDICTION CLAUSE - X23 (to 04-03-11).pdf\n",
      "COUNT 905\n",
      "TRIO Project Initiation Document.pdf\n",
      "COUNT 906\n",
      "OFFSHORE CONTRACTUAL EXTN - PL - LCE (from 20-09-06 to 06-01-11).pdf\n",
      "COUNT 907\n",
      "AVIAN FLU EXCLUSION - LDQa.pdf\n",
      "COUNT 908\n",
      "COVERAGE PRIOR TO SIGHT OF PRIMARY WORDING (for XS Combined only) - XBS (from 01-07-05 to 31-12-05).pdf\n",
      "COUNT 909\n"
     ]
    },
    {
     "name": "stderr",
     "output_type": "stream",
     "text": [
      "/opt/app/RB/.local/lib/python3.6/site-packages/pdfminer/pdfpage.py:140: PDFTextExtractionNotAllowedWarning: The PDF <_io.BufferedReader name='Documents/UK-Casualty/Chubb Standard Wording/OFFSHORE CONTRACTUAL EXTN - PL - LCE (from 20-09-06 to 06-01-11).pdf'> contains a metadata field indicating that it should not allow text extraction. Ignoring this field and proceeding.\n",
      "  warnings.warn(warning_msg, PDFTextExtractionNotAllowedWarning)\n"
     ]
    },
    {
     "name": "stdout",
     "output_type": "stream",
     "text": [
      "MENTAL INJURY ANGUISH AND SHOCK - USA, CANADA - PL - LDF-.pdf\n",
      "COUNT 910\n",
      "EXCESS MOTOR EXTENSION - PL - CMN8a.pdf\n",
      "COUNT 911\n",
      "PRODUCTS - DELETION OF THE AGGREGATE LOI - L74 (FROM 1-1-06).pdf\n",
      "COUNT 912\n",
      "2016 - Primary Liability Policy(Enhanced Cover) - CasPrim(ROI)_15 (available from 01-07-16 to 30-04-17).pdf\n",
      "COUNT 913\n"
     ]
    },
    {
     "name": "stderr",
     "output_type": "stream",
     "text": [
      "/opt/app/RB/.local/lib/python3.6/site-packages/pdfminer/pdfpage.py:140: PDFTextExtractionNotAllowedWarning: The PDF <_io.BufferedReader name='Documents/UK-Casualty/Chubb Standard Wording/2016 - Primary Liability Policy(Enhanced Cover) - CasPrim(ROI)_15 (available from 01-07-16 to 30-04-17).pdf'> contains a metadata field indicating that it should not allow text extraction. Ignoring this field and proceeding.\n",
      "  warnings.warn(warning_msg, PDFTextExtractionNotAllowedWarning)\n"
     ]
    },
    {
     "name": "stdout",
     "output_type": "stream",
     "text": [
      "2006 - Select Excess Umbrella Liability Policy (Full Version) - SelectXs(ROI)(Full)_4.pdf\n",
      "COUNT 914\n",
      "SUBROGATION WAIVER (PARENT) - EL,PL - L41.pdf\n",
      "COUNT 915\n",
      "FINANCIAL INSTITUTIONS EXCLUSION (PL Only, Excess Combined) - XMU (from 18-04-19).pdf\n",
      "COUNT 916\n",
      "MINIMUM PREMIUM - X31.pdf\n",
      "COUNT 917\n",
      "Primary Clinical Trials (Life Sciences) Clauses - LDS.pdf\n",
      "COUNT 918\n"
     ]
    },
    {
     "name": "stderr",
     "output_type": "stream",
     "text": [
      "/opt/app/RB/.local/lib/python3.6/site-packages/pdfminer/pdfpage.py:140: PDFTextExtractionNotAllowedWarning: The PDF <_io.BufferedReader name='Documents/UK-Casualty/Chubb Standard Wording/MINIMUM PREMIUM - X31.pdf'> contains a metadata field indicating that it should not allow text extraction. Ignoring this field and proceeding.\n",
      "  warnings.warn(warning_msg, PDFTextExtractionNotAllowedWarning)\n"
     ]
    },
    {
     "name": "stdout",
     "output_type": "stream",
     "text": [
      "AERIAL ERECTION EXCLUSION - EL,PL - L65.pdf\n",
      "COUNT 919\n",
      "2011 - Casualty Excess Claims Made Form - CasXS(CM)(ROI)_8.pdf\n",
      "COUNT 920\n"
     ]
    },
    {
     "name": "stderr",
     "output_type": "stream",
     "text": [
      "/opt/app/RB/.local/lib/python3.6/site-packages/pdfminer/pdfpage.py:140: PDFTextExtractionNotAllowedWarning: The PDF <_io.BufferedReader name='Documents/UK-Casualty/Chubb Standard Wording/2011 - Casualty Excess Claims Made Form - CasXS(CM)(ROI)_8.pdf'> contains a metadata field indicating that it should not allow text extraction. Ignoring this field and proceeding.\n",
      "  warnings.warn(warning_msg, PDFTextExtractionNotAllowedWarning)\n"
     ]
    },
    {
     "name": "stdout",
     "output_type": "stream",
     "text": [
      "CONSTRUCTION (NEW BUILDINGS) - EL,PL - L36a.pdf\n",
      "COUNT 921\n",
      "EMPLOYERS LIABILITY MINIMUM LIMIT - NO PARENT - EL L88.pdf\n",
      "COUNT 922\n",
      "RIGHTS OF RECOURSE - PL - LBCa.pdf\n",
      "COUNT 923\n",
      "UNMANNED AERIAL VEHICLE EXTENSION – FULL COVER - PL - LGG (from 10-07-15).pdf\n",
      "COUNT 924\n",
      "360 UK National PDBI Schedule -  Version 3 (Jan 2019).pdf\n",
      "COUNT 925\n",
      "MRSA and CD Exclusion - XBY v1 (Aon_XS_Comb_Liab 10-18).pdf\n",
      "COUNT 926\n",
      "HIRING OF SKIPS EXCLUSION - PL - L64a.pdf\n",
      "COUNT 927\n",
      "HAZARDOUS LOCATIONS EXCLUSION (EL or PL Only, Excess Combined) - XDM (from 06-05-08).pdf\n",
      "COUNT 928\n",
      "Hazardous Goods Exclusion - XCK v1 (Aon_XS_Comb_Liab 10-18).pdf\n",
      "COUNT 929\n",
      "Cycle Racing - Cycle Events Conditions - IAJ.pdf\n",
      "COUNT 930\n",
      "Non-Disclosure - IBH.pdf\n",
      "COUNT 931\n",
      "2011 - Excess Combined Liability Policy - XSComb(ROI)_8.pdf\n",
      "COUNT 932\n"
     ]
    },
    {
     "name": "stderr",
     "output_type": "stream",
     "text": [
      "/opt/app/RB/.local/lib/python3.6/site-packages/pdfminer/pdfpage.py:140: PDFTextExtractionNotAllowedWarning: The PDF <_io.BufferedReader name='Documents/UK-Casualty/Chubb Standard Wording/2011 - Excess Combined Liability Policy - XSComb(ROI)_8.pdf'> contains a metadata field indicating that it should not allow text extraction. Ignoring this field and proceeding.\n",
      "  warnings.warn(warning_msg, PDFTextExtractionNotAllowedWarning)\n"
     ]
    },
    {
     "name": "stdout",
     "output_type": "stream",
     "text": [
      "JCT 21.2.1 - EXCESS COVER (package policy) - XBP - to 30-9-06 - See Non-Negligent.pdf\n",
      "COUNT 933\n",
      "UNITED KINGDOM JURISDICTION CLAUSE - PL - L25a.pdf\n",
      "COUNT 934\n",
      "AAA MN Partner Casualty Quote Template_5 (SE - From 01-01-2019).pdf\n",
      "COUNT 935\n",
      "2008 - 2009 - Casualty Excess Claims Made Form - CasXS(CM)(ROI)_6 (to 30-04-09).pdf\n",
      "COUNT 936\n"
     ]
    },
    {
     "name": "stderr",
     "output_type": "stream",
     "text": [
      "/opt/app/RB/.local/lib/python3.6/site-packages/pdfminer/pdfpage.py:140: PDFTextExtractionNotAllowedWarning: The PDF <_io.BufferedReader name='Documents/UK-Casualty/Chubb Standard Wording/2008 - 2009 - Casualty Excess Claims Made Form - CasXS(CM)(ROI)_6 (to 30-04-09).pdf'> contains a metadata field indicating that it should not allow text extraction. Ignoring this field and proceeding.\n",
      "  warnings.warn(warning_msg, PDFTextExtractionNotAllowedWarning)\n"
     ]
    },
    {
     "name": "stdout",
     "output_type": "stream",
     "text": [
      "FINANCIAL LOSS EXTENSION - PL - LDT (from 01-05-09 to 11-11-11) (not for CasPrim(FOS)).pdf\n",
      "COUNT 937\n",
      "CURRENCY CLAUSE - X34.pdf\n",
      "COUNT 938\n",
      "Offshore Work Clause - L119a (for MNEL).pdf\n",
      "COUNT 939\n",
      "Data Breach Exclusion - LGP.pdf\n",
      "COUNT 940\n",
      "COVERAGE PRIOR TO SIGHT OF PRIMARY WORDING (RENEWAL) - XBR (from 01-01-06 to 31-12-06).pdf\n",
      "COUNT 941\n",
      "COVERAGE PRIOR TO SIGHT OF PRIMARY WORDING - XBH (from 01-05-09 to 04-03-11).pdf\n",
      "COUNT 942\n",
      "LIBEL AND SLANDER EXTENSION - PL - L83 (to 30-04-09).pdf\n",
      "COUNT 943\n"
     ]
    },
    {
     "name": "stderr",
     "output_type": "stream",
     "text": [
      "/opt/app/RB/.local/lib/python3.6/site-packages/pdfminer/pdfpage.py:140: PDFTextExtractionNotAllowedWarning: The PDF <_io.BufferedReader name='Documents/UK-Casualty/Chubb Standard Wording/COVERAGE PRIOR TO SIGHT OF PRIMARY WORDING (RENEWAL) - XBR (from 01-01-06 to 31-12-06).pdf'> contains a metadata field indicating that it should not allow text extraction. Ignoring this field and proceeding.\n",
      "  warnings.warn(warning_msg, PDFTextExtractionNotAllowedWarning)\n"
     ]
    },
    {
     "name": "stdout",
     "output_type": "stream",
     "text": [
      "FOUL BERTHING EXCLUSION - X35.pdf\n",
      "COUNT 944\n",
      "Data Risk + Cyber Liability Exclusion - XMT v1 (Aon_XS_Comb_Liab 10-18).pdf\n",
      "COUNT 945\n",
      "ABUSE EXCLUSION - PL - LCIa.pdf\n",
      "COUNT 946\n",
      "2015 - Primary Clinical Trials Wording - CTPrim(Blan)_6 (from 07-07-15 to 31-12-15).pdf\n",
      "COUNT 947\n"
     ]
    },
    {
     "name": "stderr",
     "output_type": "stream",
     "text": [
      "/opt/app/RB/.local/lib/python3.6/site-packages/pdfminer/pdfpage.py:140: PDFTextExtractionNotAllowedWarning: The PDF <_io.BufferedReader name='Documents/UK-Casualty/Chubb Standard Wording/2015 - Primary Clinical Trials Wording - CTPrim(Blan)_6 (from 07-07-15 to 31-12-15).pdf'> contains a metadata field indicating that it should not allow text extraction. Ignoring this field and proceeding.\n",
      "  warnings.warn(warning_msg, PDFTextExtractionNotAllowedWarning)\n"
     ]
    },
    {
     "name": "stdout",
     "output_type": "stream",
     "text": [
      "AIDS EXCLUSION - XAP.pdf\n",
      "COUNT 948\n",
      "2015 - Non-Negligent Damage Liability for Principals - JCT_SP_P (ROI)_6 (to 04-03-16).pdf\n",
      "COUNT 949\n"
     ]
    },
    {
     "name": "stderr",
     "output_type": "stream",
     "text": [
      "/opt/app/RB/.local/lib/python3.6/site-packages/pdfminer/pdfpage.py:140: PDFTextExtractionNotAllowedWarning: The PDF <_io.BufferedReader name='Documents/UK-Casualty/Chubb Standard Wording/2015 - Non-Negligent Damage Liability for Principals - JCT_SP_P (ROI)_6 (to 04-03-16).pdf'> contains a metadata field indicating that it should not allow text extraction. Ignoring this field and proceeding.\n",
      "  warnings.warn(warning_msg, PDFTextExtractionNotAllowedWarning)\n"
     ]
    },
    {
     "name": "stdout",
     "output_type": "stream",
     "text": [
      "MANUAL WORK AWAY FROM THE PREMISES EXCLUSION - PL - LAF.pdf\n",
      "COUNT 950\n",
      "Pollution - Total Exclusion - X40 v1 (Aon_XS_Comb_Liab 10-18).pdf\n",
      "COUNT 951\n",
      "MEDICAL SERVICES EXCLUSION - PL - LGB (from 17-08-12 to 26-03-15).pdf\n",
      "COUNT 952\n",
      "BONA FIDE SUBCONTRACTORS (stated limit) - XBA.pdf\n",
      "COUNT 953\n",
      "PRODUCTS - DELETION OF THE AGGREGATE LIMIT OF INDEMNITY - L74 (Valid 31-12-05).pdf\n",
      "COUNT 954\n",
      "E-Cigarettes Exclusion - PL - LGJa.pdf\n",
      "COUNT 955\n"
     ]
    },
    {
     "name": "stderr",
     "output_type": "stream",
     "text": [
      "/opt/app/RB/.local/lib/python3.6/site-packages/pdfminer/pdfpage.py:140: PDFTextExtractionNotAllowedWarning: The PDF <_io.BufferedReader name='Documents/UK-Casualty/Chubb Standard Wording/BONA FIDE SUBCONTRACTORS (stated limit) - XBA.pdf'> contains a metadata field indicating that it should not allow text extraction. Ignoring this field and proceeding.\n",
      "  warnings.warn(warning_msg, PDFTextExtractionNotAllowedWarning)\n"
     ]
    },
    {
     "name": "stdout",
     "output_type": "stream",
     "text": [
      "2019 Stand-alone Single Project Non Negligent Damage Policy JCT_SP_P_10 (SE - From 01-01-19).pdf\n",
      "COUNT 956\n"
     ]
    },
    {
     "name": "stderr",
     "output_type": "stream",
     "text": [
      "/opt/app/RB/.local/lib/python3.6/site-packages/pdfminer/pdfpage.py:140: PDFTextExtractionNotAllowedWarning: The PDF <_io.BufferedReader name='Documents/UK-Casualty/Chubb Standard Wording/2019 Stand-alone Single Project Non Negligent Damage Policy JCT_SP_P_10 (SE - From 01-01-19).pdf'> contains a metadata field indicating that it should not allow text extraction. Ignoring this field and proceeding.\n",
      "  warnings.warn(warning_msg, PDFTextExtractionNotAllowedWarning)\n"
     ]
    },
    {
     "name": "stdout",
     "output_type": "stream",
     "text": [
      "UNITED KINGDOM JURISDICTION CLAUSE (EL or PL or Motor Only) - XEQ (from 05-03-11).pdf\n",
      "COUNT 957\n",
      "DIFFERENCE IN CONDITIONS - EL,PL - LBK (To 30-11-05).pdf\n",
      "COUNT 958\n",
      "2016 - Primary Clinical Trials Wording (Multinational) - CTPrim(MN)_1.pdf\n",
      "COUNT 959\n"
     ]
    },
    {
     "name": "stderr",
     "output_type": "stream",
     "text": [
      "/opt/app/RB/.local/lib/python3.6/site-packages/pdfminer/pdfpage.py:140: PDFTextExtractionNotAllowedWarning: The PDF <_io.BufferedReader name='Documents/UK-Casualty/Chubb Standard Wording/2016 - Primary Clinical Trials Wording (Multinational) - CTPrim(MN)_1.pdf'> contains a metadata field indicating that it should not allow text extraction. Ignoring this field and proceeding.\n",
      "  warnings.warn(warning_msg, PDFTextExtractionNotAllowedWarning)\n"
     ]
    },
    {
     "name": "stdout",
     "output_type": "stream",
     "text": [
      "2007 - Primary Liability Policy - CasPrim(ROI)_6.pdf\n",
      "COUNT 960\n"
     ]
    },
    {
     "name": "stderr",
     "output_type": "stream",
     "text": [
      "/opt/app/RB/.local/lib/python3.6/site-packages/pdfminer/pdfpage.py:140: PDFTextExtractionNotAllowedWarning: The PDF <_io.BufferedReader name='Documents/UK-Casualty/Chubb Standard Wording/2007 - Primary Liability Policy - CasPrim(ROI)_6.pdf'> contains a metadata field indicating that it should not allow text extraction. Ignoring this field and proceeding.\n",
      "  warnings.warn(warning_msg, PDFTextExtractionNotAllowedWarning)\n"
     ]
    },
    {
     "name": "stdout",
     "output_type": "stream",
     "text": [
      "ELECTRONIC DATE RECOGNITION CLAUSE - PL - L2K.pdf\n",
      "COUNT 961\n"
     ]
    },
    {
     "name": "stderr",
     "output_type": "stream",
     "text": [
      "/opt/app/RB/.local/lib/python3.6/site-packages/pdfminer/pdfpage.py:140: PDFTextExtractionNotAllowedWarning: The PDF <_io.BufferedReader name='Documents/UK-Casualty/Chubb Standard Wording/ELECTRONIC DATE RECOGNITION CLAUSE - PL - L2K.pdf'> contains a metadata field indicating that it should not allow text extraction. Ignoring this field and proceeding.\n",
      "  warnings.warn(warning_msg, PDFTextExtractionNotAllowedWarning)\n"
     ]
    },
    {
     "name": "stdout",
     "output_type": "stream",
     "text": [
      "TOUR OPERATORS LIABILITY EXCLUSION - STATUTE (PL Only, Excess Combined) - XFF (from 27-08-08).pdf\n",
      "COUNT 962\n",
      "POLL - INDUSTRIES SEEPAGE CLAUSE (NMA 1685) - L80 (from 01-07-09).pdf\n",
      "COUNT 963\n",
      "Safety Critical Vehicle Products Exclusion - XMR.pdf\n",
      "COUNT 964\n",
      "ABUSE EXCLUSION (PL Only, Excess Combined)- XCR (from 06-05-08).pdf\n",
      "COUNT 965\n",
      "Clinical Trials Exclusion - XAN v1 (Aon_XS_Comb_Liab 10-18).pdf\n",
      "COUNT 966\n",
      "Event Organisers conditions (including power supply) - IAP.pdf\n",
      "COUNT 967\n",
      "HEIGHT LIMITATION CLAUSE - EL - L71.pdf\n",
      "COUNT 968\n",
      "Professional Indemnity (Claims-made basis) - L116a - to 01022018.pdf\n",
      "COUNT 969\n",
      "Professional Advice Exclusion - X28 v1 (Aon_XS_Comb_Liab 10-18).pdf\n",
      "COUNT 970\n",
      "UNMANNED AERIAL VEHICLE EXTENSION – FULL COVER - PL - CMN60a.pdf\n",
      "COUNT 971\n",
      "Pollution - Industries, Seepage, Pollution and Contamination Exclusion (NMA1686) - X44 v1 (Aon_XS_Comb_Liab 10-18).pdf\n",
      "COUNT 972\n",
      "OFFSHORE VISITS-DECLN BASIS - LFPa (Offshore Liability Policy).pdf\n",
      "COUNT 973\n",
      "DOORS CLAUSE - PL - LCP.pdf\n",
      "COUNT 974\n",
      "USA, CANADA - DIRECT EXPORTS EXCLUSION - PL - LACa.pdf\n",
      "COUNT 975\n",
      "Bona Fide Subcontractors (equivalent limit) - XBB v1 (Aon_XS_Comb_Liab 10-18).pdf\n",
      "COUNT 976\n",
      "REIMBURSEMENT CLAUSE - EL - LAP.pdf\n",
      "COUNT 977\n",
      "2012 - 2013 - Primary Clinical Trials Wording - CTPrim(Blan)_4 (from 01-10-12 to 31-12-13).pdf\n",
      "COUNT 978\n"
     ]
    },
    {
     "name": "stderr",
     "output_type": "stream",
     "text": [
      "/opt/app/RB/.local/lib/python3.6/site-packages/pdfminer/pdfpage.py:140: PDFTextExtractionNotAllowedWarning: The PDF <_io.BufferedReader name='Documents/UK-Casualty/Chubb Standard Wording/2012 - 2013 - Primary Clinical Trials Wording - CTPrim(Blan)_4 (from 01-10-12 to 31-12-13).pdf'> contains a metadata field indicating that it should not allow text extraction. Ignoring this field and proceeding.\n",
      "  warnings.warn(warning_msg, PDFTextExtractionNotAllowedWarning)\n"
     ]
    },
    {
     "name": "stdout",
     "output_type": "stream",
     "text": [
      "OFFSHORE VISITS CLAUSE - LDR.pdf\n",
      "COUNT 979\n",
      "CLOAKROOM EXTENSION - PL - CMN5a.pdf\n",
      "COUNT 980\n",
      "THIRD PARTY PROPERTY DAMAGE EXCESS - PL - L78 (to 30-04-09).pdf\n",
      "COUNT 981\n",
      "MEDICAL SERVICES EXCLUSION - XFS (from 17-08-12 to 26-03-15).pdf\n",
      "COUNT 982\n",
      "2008 - 2009 - Excess Combined Liability Policy - XSComb(ROI)_6 (to 30-04-09).pdf\n",
      "COUNT 983\n"
     ]
    },
    {
     "name": "stderr",
     "output_type": "stream",
     "text": [
      "/opt/app/RB/.local/lib/python3.6/site-packages/pdfminer/pdfpage.py:140: PDFTextExtractionNotAllowedWarning: The PDF <_io.BufferedReader name='Documents/UK-Casualty/Chubb Standard Wording/2008 - 2009 - Excess Combined Liability Policy - XSComb(ROI)_6 (to 30-04-09).pdf'> contains a metadata field indicating that it should not allow text extraction. Ignoring this field and proceeding.\n",
      "  warnings.warn(warning_msg, PDFTextExtractionNotAllowedWarning)\n"
     ]
    },
    {
     "name": "stdout",
     "output_type": "stream",
     "text": [
      "2009 - 2010 - Select Excess Umbrella Liability Policy (Full Limit Version) - SelectXs(Full)(ROI)_7 (from 01-05-09).pdf\n",
      "COUNT 984\n"
     ]
    },
    {
     "name": "stderr",
     "output_type": "stream",
     "text": [
      "/opt/app/RB/.local/lib/python3.6/site-packages/pdfminer/pdfpage.py:140: PDFTextExtractionNotAllowedWarning: The PDF <_io.BufferedReader name='Documents/UK-Casualty/Chubb Standard Wording/2009 - 2010 - Select Excess Umbrella Liability Policy (Full Limit Version) - SelectXs(Full)(ROI)_7 (from 01-05-09).pdf'> contains a metadata field indicating that it should not allow text extraction. Ignoring this field and proceeding.\n",
      "  warnings.warn(warning_msg, PDFTextExtractionNotAllowedWarning)\n"
     ]
    },
    {
     "name": "stdout",
     "output_type": "stream",
     "text": [
      "2007 - Excess EL Quinn  - XS EL (Quinn)(ROI)_3.pdf\n",
      "COUNT 985\n"
     ]
    },
    {
     "name": "stderr",
     "output_type": "stream",
     "text": [
      "/opt/app/RB/.local/lib/python3.6/site-packages/pdfminer/pdfpage.py:140: PDFTextExtractionNotAllowedWarning: The PDF <_io.BufferedReader name='Documents/UK-Casualty/Chubb Standard Wording/2007 - Excess EL Quinn  - XS EL (Quinn)(ROI)_3.pdf'> contains a metadata field indicating that it should not allow text extraction. Ignoring this field and proceeding.\n",
      "  warnings.warn(warning_msg, PDFTextExtractionNotAllowedWarning)\n"
     ]
    },
    {
     "name": "stdout",
     "output_type": "stream",
     "text": [
      "ASBESTOS EXCLUSION - X45.pdf\n",
      "COUNT 986\n",
      "2012 - Casualty Excess Claims Made Form - CasXS(CM)(ROI)_9.pdf\n",
      "COUNT 987\n"
     ]
    },
    {
     "name": "stderr",
     "output_type": "stream",
     "text": [
      "/opt/app/RB/.local/lib/python3.6/site-packages/pdfminer/pdfpage.py:140: PDFTextExtractionNotAllowedWarning: The PDF <_io.BufferedReader name='Documents/UK-Casualty/Chubb Standard Wording/2012 - Casualty Excess Claims Made Form - CasXS(CM)(ROI)_9.pdf'> contains a metadata field indicating that it should not allow text extraction. Ignoring this field and proceeding.\n",
      "  warnings.warn(warning_msg, PDFTextExtractionNotAllowedWarning)\n"
     ]
    },
    {
     "name": "stdout",
     "output_type": "stream",
     "text": [
      "CONSTRUCTION - (ERECTION ALTERATION AND REPAIRS) - EL,PL - L37.pdf\n",
      "COUNT 988\n",
      "Primary Clinical Trials Excess - LDV.pdf\n",
      "COUNT 989\n",
      "MEDICAL MALPRACTICE AND TREATMENT EXCLUSION (PL Only, Excess Combined) - XDT (from 06-05-08).pdf\n",
      "COUNT 990\n",
      "Financial Institutions Exclusion - PL - LGLa.pdf\n",
      "COUNT 991\n",
      "NON-NEGLIGENT DAMAGE LIABILITY – EXCESS COVER (stand alone primary) - XBN.pdf\n",
      "COUNT 992\n"
     ]
    },
    {
     "name": "stderr",
     "output_type": "stream",
     "text": [
      "/opt/app/RB/.local/lib/python3.6/site-packages/pdfminer/pdfpage.py:140: PDFTextExtractionNotAllowedWarning: The PDF <_io.BufferedReader name='Documents/UK-Casualty/Chubb Standard Wording/NON-NEGLIGENT DAMAGE LIABILITY – EXCESS COVER (stand alone primary) - XBN.pdf'> contains a metadata field indicating that it should not allow text extraction. Ignoring this field and proceeding.\n",
      "  warnings.warn(warning_msg, PDFTextExtractionNotAllowedWarning)\n"
     ]
    },
    {
     "name": "stdout",
     "output_type": "stream",
     "text": [
      "INEFFICACY EXCLUSION CLAUSE - PL - L30.pdf\n",
      "COUNT 993\n",
      "2007 - Excess Combined Liability Policy - XSComb(ROI)_5.pdf\n",
      "COUNT 994\n"
     ]
    },
    {
     "name": "stderr",
     "output_type": "stream",
     "text": [
      "/opt/app/RB/.local/lib/python3.6/site-packages/pdfminer/pdfpage.py:140: PDFTextExtractionNotAllowedWarning: The PDF <_io.BufferedReader name='Documents/UK-Casualty/Chubb Standard Wording/2007 - Excess Combined Liability Policy - XSComb(ROI)_5.pdf'> contains a metadata field indicating that it should not allow text extraction. Ignoring this field and proceeding.\n",
      "  warnings.warn(warning_msg, PDFTextExtractionNotAllowedWarning)\n"
     ]
    },
    {
     "name": "stdout",
     "output_type": "stream",
     "text": [
      "PRODUCTS LIABILITY EXCLUSION - PL- CMN24a.pdf\n",
      "COUNT 995\n",
      "MENTAL INJURY ANGUISH AND SHOCK - XBT.pdf\n",
      "COUNT 996\n",
      "JCT 21.2.1 RUN-OFF - XBQ - to 30-9-06 - See Non-Negligent.pdf\n",
      "COUNT 997\n",
      "INEFFICACY EXCLUSION – DESIGN - XAD.pdf\n",
      "COUNT 998\n",
      "Terrorism Exclusion - XAL v1 (Aon_XS_Comb_Liab 10-18).pdf\n",
      "COUNT 999\n",
      "GENETICALLY MODIFIED PRODUCTS EXCLUSION - PL - LBJa.pdf\n",
      "COUNT 1000\n",
      "Briefing Note September 2016 MNP UK.pdf\n",
      "COUNT 1001\n",
      "European Union Coverage - L107a.pdf\n",
      "COUNT 1002\n",
      "UNMANNED AERIAL VEHICLE PRODUCTS EXTENSION - PL - LGHa.pdf\n",
      "COUNT 1003\n",
      "SPECIFIED CONTRACT (mid term adjustment) - XML (from 26-03-09).pdf\n",
      "COUNT 1004\n",
      "POLLUTION - US NAMED PERILS - PL - CMN23a.pdf\n",
      "COUNT 1005\n",
      "Clinical Trials Certificate 2014.pdf\n",
      "COUNT 1006\n",
      "UNMANNED AERIAL VEHICLE PRODUCTS EXTENSION - PL - LGH (from 10-07-15).pdf\n",
      "COUNT 1007\n",
      "EMPLOYERS LIABILITY EXCLUSION - EL,PL - LAD.pdf\n",
      "COUNT 1008\n",
      "TERRITORIAL LIMITS EXTENSION – EMPLOYERS’ LIABILITY - LFYa (not for Offshore Liability Policy).pdf\n",
      "COUNT 1009\n",
      "LIBEL AND SLANDER EXTENSION - PL - L83a.pdf\n",
      "COUNT 1010\n",
      "LOCAL AUTHORITIES CLAUSE (PL Only, Excess Combined) - XDQ (from 06-05-08).pdf\n",
      "COUNT 1011\n",
      "UK Global Accounts EPA - 2 Year (SE - From 01-01-2019).pdf\n",
      "COUNT 1012\n",
      "USE OF HEAT AWAY FROM THE PREMISES - PL - LAB (to 30-04-09).pdf\n",
      "COUNT 1013\n",
      "HEIGHT LIMITATION CLAUSE - EL,PL - LCTa.pdf\n",
      "COUNT 1014\n",
      "2019 CasXS(CM)(ROI)_16 (SE - From 01-01-19).pdf\n",
      "COUNT 1015\n"
     ]
    },
    {
     "name": "stderr",
     "output_type": "stream",
     "text": [
      "/opt/app/RB/.local/lib/python3.6/site-packages/pdfminer/pdfpage.py:140: PDFTextExtractionNotAllowedWarning: The PDF <_io.BufferedReader name='Documents/UK-Casualty/Chubb Standard Wording/2019 CasXS(CM)(ROI)_16 (SE - From 01-01-19).pdf'> contains a metadata field indicating that it should not allow text extraction. Ignoring this field and proceeding.\n",
      "  warnings.warn(warning_msg, PDFTextExtractionNotAllowedWarning)\n"
     ]
    },
    {
     "name": "stdout",
     "output_type": "stream",
     "text": [
      "Inevitable Damage (Activities) Exclusion - IAZ.pdf\n",
      "COUNT 1016\n",
      "BONA FIDE SUBCONTRACTORS (LIMIT STATED) - PL - LBV (from 01-05-09).pdf\n",
      "COUNT 1017\n",
      "FOSTER CHILDREN - DAMAGE EXCLUSION - PL - LCQa.pdf\n",
      "COUNT 1018\n",
      "Bubble Smoke Foam Machine Excl - IAE.pdf\n",
      "COUNT 1019\n",
      "SILICA EXCLUSION - LDK.pdf\n",
      "COUNT 1020\n",
      "USA-CANADA CLAUSE - XAF.pdf\n",
      "COUNT 1021\n",
      "MOBILE PHONE EXCLUSION - PL - LBG.pdf\n",
      "COUNT 1022\n",
      "Venue Owners Conditions - IBS.pdf\n",
      "COUNT 1023\n",
      "Silica Exclusion - XCA v1 (Aon_XS_Comb_Liab 10-18).pdf\n",
      "COUNT 1024\n",
      "LONG TERM AGREEMENT (POLICY) CLAUSE - LFXa (no discount).pdf\n",
      "COUNT 1025\n",
      "OFFSHORE WORK EXCLUSION - PL - LAQa.pdf\n",
      "COUNT 1026\n",
      "EXCESS MOTOR LIABILITY INCL PRIVATE MOTOR - PL - LBXa.pdf\n",
      "COUNT 1027\n",
      "POLLUTION AND CONTAMINATION - AGGREGATE LIMIT - LAW.pdf\n",
      "COUNT 1028\n",
      "Combined Liability Schedule (SE - From 01-01-19).pdf\n",
      "COUNT 1029\n",
      "BSE EXCLUSION (PL Only, Excess Combined) - XDB (from 06-05-08).pdf\n",
      "COUNT 1030\n",
      "Excess Clinical Trials (Life Sciences) Clauses - XCG.pdf\n",
      "COUNT 1031\n",
      "2005 - Excess Combined Liability Policy - XSComb(ROI)_3.pdf\n",
      "COUNT 1032\n",
      "2019 CasPrim_18 (SE - From 01-01-19).pdf\n",
      "COUNT 1033\n"
     ]
    },
    {
     "name": "stderr",
     "output_type": "stream",
     "text": [
      "/opt/app/RB/.local/lib/python3.6/site-packages/pdfminer/pdfpage.py:140: PDFTextExtractionNotAllowedWarning: The PDF <_io.BufferedReader name='Documents/UK-Casualty/Chubb Standard Wording/2019 CasPrim_18 (SE - From 01-01-19).pdf'> contains a metadata field indicating that it should not allow text extraction. Ignoring this field and proceeding.\n",
      "  warnings.warn(warning_msg, PDFTextExtractionNotAllowedWarning)\n"
     ]
    },
    {
     "name": "stdout",
     "output_type": "stream",
     "text": [
      "POLLUTION - INDUSTRIES,SEEPAGE,POLLN+CONTAM'N EXCL(NMA1686) (PL Only,XS Comb) - XEA (from 06-05-08).pdf\n",
      "COUNT 1034\n",
      "Cloakroom Extension - LCMa.pdf\n",
      "COUNT 1035\n",
      "EMPLOYERS LIABILITY MINIMUM LIMIT - LED (from 23-05-08).pdf\n",
      "COUNT 1036\n",
      "2009 - 2010 - Excess Combined Liability Policy - XSComb(ROI)_7 (from 01-05-09).pdf\n",
      "COUNT 1037\n"
     ]
    },
    {
     "name": "stderr",
     "output_type": "stream",
     "text": [
      "/opt/app/RB/.local/lib/python3.6/site-packages/pdfminer/pdfpage.py:140: PDFTextExtractionNotAllowedWarning: The PDF <_io.BufferedReader name='Documents/UK-Casualty/Chubb Standard Wording/2009 - 2010 - Excess Combined Liability Policy - XSComb(ROI)_7 (from 01-05-09).pdf'> contains a metadata field indicating that it should not allow text extraction. Ignoring this field and proceeding.\n",
      "  warnings.warn(warning_msg, PDFTextExtractionNotAllowedWarning)\n"
     ]
    },
    {
     "name": "stdout",
     "output_type": "stream",
     "text": [
      "TOXIC MOULD EXCLUSION - XBD.pdf\n",
      "COUNT 1038\n",
      "POLLUTION - SEEPAGE POLLUTION AND CONTAMINATION CLAUSE (NMA 1686) - PL - L79a.pdf\n",
      "COUNT 1039\n",
      "MAINTENANCE LIABILITY - X41.pdf\n",
      "COUNT 1040\n",
      "Sunbed Exclusion - IBP.pdf\n",
      "COUNT 1041\n",
      "TOXIC MOULD EXCLUSION - PL - LCGa.pdf\n",
      "COUNT 1042\n",
      "HOTEL PROPRIETORS ACT 1956 - PL - LAY (to 17-11-11).pdf\n",
      "COUNT 1043\n",
      "COVERAGE PRIOR TO SIGHT OF PRIMARY WORDING (EL) - XCJ  (from 01-01-08 to 30-04-09).pdf\n",
      "COUNT 1044\n",
      "Use of Heat Away From the Premises - XAB v1 (Aon_XS_Comb_Liab 10-18).pdf\n",
      "COUNT 1045\n",
      "USA CANADA - DIRECT EXPORTS RUN OFF COVER EXCLUSION - PL - CMN29a.pdf\n",
      "COUNT 1046\n",
      "WORLDWIDE JURISDICTION CLAUSE (EXCLUDING USA-CANADA)(EL or PL or Motor, XS Comb)-XEV (from 06-05-08).pdf\n",
      "COUNT 1047\n",
      "LOSS OF UNDERGROUND RESOURCES EXCLUSION - PL - LCB (from 07-01-11).pdf\n",
      "COUNT 1048\n",
      "360 Multinational PDBI Schedule - Version 3 (Jan 2019).pdf\n",
      "COUNT 1049\n",
      "USE OF HEAT AWAY FROM THE PREMISES (PL Only, Excess Combined) - XES  (from 06-05-08 to 13-07-13).pdf\n",
      "COUNT 1050\n",
      "CO-INSURERS CLAUSE - X24.pdf\n",
      "COUNT 1051\n",
      "CONTRACTUAL LIABILITY EXTENSION (oil and gas industry) - CMN33a.pdf\n",
      "COUNT 1052\n",
      "TOUR OPERATORS LIABILITY EXCLUSION - TOTAL - XFC (from 27-08-08).pdf\n",
      "COUNT 1053\n",
      "Pollution - Sudden and Accidental - XAA v1 (Aon_XS_Comb_Liab 10-18).pdf\n",
      "COUNT 1054\n",
      "Non-Negligent Damage Liability - Excess Cover (Stand alone Primary) XBN v1 (Aon_XS_Comb_Liab 10-18).pdf\n",
      "COUNT 1055\n",
      "OFFSHORE WORK CONDITION - PL - LCFa.pdf\n",
      "COUNT 1056\n",
      "2009 - 2010 - Stand Alone Single Project JCT 21.2.1. Wording for Principals - JCT_SP_P_5.pdf\n",
      "COUNT 1057\n"
     ]
    },
    {
     "name": "stderr",
     "output_type": "stream",
     "text": [
      "/opt/app/RB/.local/lib/python3.6/site-packages/pdfminer/pdfpage.py:140: PDFTextExtractionNotAllowedWarning: The PDF <_io.BufferedReader name='Documents/UK-Casualty/Chubb Standard Wording/2009 - 2010 - Stand Alone Single Project JCT 21.2.1. Wording for Principals - JCT_SP_P_5.pdf'> contains a metadata field indicating that it should not allow text extraction. Ignoring this field and proceeding.\n",
      "  warnings.warn(warning_msg, PDFTextExtractionNotAllowedWarning)\n"
     ]
    },
    {
     "name": "stdout",
     "output_type": "stream",
     "text": [
      "POLLUTION - SUDDEN UNINTENDED AND UNEXPECTED POLLUTION CLAUSE (ABI) - X49.pdf\n",
      "COUNT 1058\n",
      "Foul Berthing Exclusion - X35 v1 (Aon_XS_Comb_Liab 10-18).pdf\n",
      "COUNT 1059\n"
     ]
    },
    {
     "name": "stderr",
     "output_type": "stream",
     "text": [
      "/opt/app/RB/.local/lib/python3.6/site-packages/pdfminer/pdfpage.py:140: PDFTextExtractionNotAllowedWarning: The PDF <_io.BufferedReader name='Documents/UK-Casualty/Chubb Standard Wording/POLLUTION - SUDDEN UNINTENDED AND UNEXPECTED POLLUTION CLAUSE (ABI) - X49.pdf'> contains a metadata field indicating that it should not allow text extraction. Ignoring this field and proceeding.\n",
      "  warnings.warn(warning_msg, PDFTextExtractionNotAllowedWarning)\n"
     ]
    },
    {
     "name": "stdout",
     "output_type": "stream",
     "text": [
      "POLLUTION AND CONTAMINATION CLEAN UP - LFMa.pdf\n",
      "COUNT 1060\n",
      "EL Certificate - Offshore (SE - From 30-04-2019).pdf\n",
      "COUNT 1061\n",
      "RADIOACTIVE AND EXPLOSIVES MATERIAL EXCLUSION (for CasXS and XMTPD) - XFJ (from 09-04-09).pdf\n",
      "COUNT 1062\n",
      "2011 - Primary Liability Policy (Limited Cover) - CasPrimlimited(ROI)_2.pdf\n",
      "COUNT 1063\n"
     ]
    },
    {
     "name": "stderr",
     "output_type": "stream",
     "text": [
      "/opt/app/RB/.local/lib/python3.6/site-packages/pdfminer/pdfpage.py:140: PDFTextExtractionNotAllowedWarning: The PDF <_io.BufferedReader name='Documents/UK-Casualty/Chubb Standard Wording/2011 - Primary Liability Policy (Limited Cover) - CasPrimlimited(ROI)_2.pdf'> contains a metadata field indicating that it should not allow text extraction. Ignoring this field and proceeding.\n",
      "  warnings.warn(warning_msg, PDFTextExtractionNotAllowedWarning)\n"
     ]
    },
    {
     "name": "stdout",
     "output_type": "stream",
     "text": [
      "Event Organisers conditions specified limit - IAQ.pdf\n",
      "COUNT 1064\n",
      "2005 - Primary Liability Policy - CasPrim(ROI)_4 (From 1-7-05).pdf\n",
      "COUNT 1065\n",
      "2007 - Umbrella Excess Liability Scheme Wdg - Umbrella_3 (ROI).pdf\n",
      "COUNT 1066\n"
     ]
    },
    {
     "name": "stderr",
     "output_type": "stream",
     "text": [
      "/opt/app/RB/.local/lib/python3.6/site-packages/pdfminer/pdfpage.py:140: PDFTextExtractionNotAllowedWarning: The PDF <_io.BufferedReader name='Documents/UK-Casualty/Chubb Standard Wording/2007 - Umbrella Excess Liability Scheme Wdg - Umbrella_3 (ROI).pdf'> contains a metadata field indicating that it should not allow text extraction. Ignoring this field and proceeding.\n",
      "  warnings.warn(warning_msg, PDFTextExtractionNotAllowedWarning)\n"
     ]
    },
    {
     "name": "stdout",
     "output_type": "stream",
     "text": [
      "Excess Third Party Liability - XBK v1 (Aon_XS_Comb_Liab 10-18).pdf\n",
      "COUNT 1067\n",
      "USE OF HEAT AWAY FROM THE PREMISES - PL - LABa.pdf\n",
      "COUNT 1068\n",
      "Child Care Activities - IBT.pdf\n",
      "COUNT 1069\n",
      "USE OF HEAT EQUIPMENT AWAY FROM PREMISES EXCLUSION (EL or PL Only, Excess Combined) - XET (to 31-12-14).pdf\n",
      "COUNT 1070\n",
      "EXCESS MOTOR LIABILITY (incl SDP) - PL - CMN10a.pdf\n",
      "COUNT 1071\n",
      "COVERAGE PRIOR TO SIGHT OF PRIMARY WORDING (for XMTPD only) - XCD (from 18-07-07 to 30-4-09).pdf\n",
      "COUNT 1072\n",
      "PROFESSIONAL ADVICE AND TREATMENT EXCL - PL - LCZ (to 6 Nov 05 only).pdf\n",
      "COUNT 1073\n",
      "2014 - Excess Clinical Trial - CTXS(CM)_6 (to 31-12-15).pdf\n",
      "COUNT 1074\n"
     ]
    },
    {
     "name": "stderr",
     "output_type": "stream",
     "text": [
      "/opt/app/RB/.local/lib/python3.6/site-packages/pdfminer/pdfpage.py:140: PDFTextExtractionNotAllowedWarning: The PDF <_io.BufferedReader name='Documents/UK-Casualty/Chubb Standard Wording/2014 - Excess Clinical Trial - CTXS(CM)_6 (to 31-12-15).pdf'> contains a metadata field indicating that it should not allow text extraction. Ignoring this field and proceeding.\n",
      "  warnings.warn(warning_msg, PDFTextExtractionNotAllowedWarning)\n"
     ]
    },
    {
     "name": "stdout",
     "output_type": "stream",
     "text": [
      "PRODUCTS RUN OFF COVER EXCLUSION - PL - LBSa.pdf\n",
      "COUNT 1075\n",
      "RIGHTS OF RECOURSE - PL - LBC (to 30-04-09).pdf\n",
      "COUNT 1076\n",
      "BONFIRE, FIREWORK DISPLAYS - PL - LCJ (from 01-05-09).pdf\n",
      "COUNT 1077\n",
      "ROI Corporate 2 Year EPA (SE - From 01-01-2019).pdf\n",
      "COUNT 1078\n",
      "Broadcasting Liability Excl - IAD.pdf\n",
      "COUNT 1079\n",
      "Industry Standard Wording SUBDIR!!!!!!!!!!!!!\n",
      "Bespoke Wording SUBDIR!!!!!!!!!!!!!\n"
     ]
    }
   ],
   "source": [
    "# import os\n",
    "file_count=0\n",
    "rootDir='Documents/UK-Casualty/'\n",
    "country='uk'\n",
    "local_indexed={}\n",
    "language='english'\n",
    "if 'spanish' in rootDir:\n",
    "    language='spanish'\n",
    "for dirname,subdirlist,filelist in os.walk(rootDir):\n",
    "    for subdir in subdirlist:\n",
    "        print(subdir, 'SUBDIR!!!!!!!!!!!!!')\n",
    "        path=os.path.join(dirname,subdir)    \n",
    "        local_indexed_subdir=create_local_index(path,subdir,language,country)\n",
    "        local_indexed.update(local_indexed_subdir)"
   ]
  },
  {
   "cell_type": "code",
   "execution_count": 22,
   "metadata": {},
   "outputs": [
    {
     "data": {
      "text/plain": [
       "4274"
      ]
     },
     "execution_count": 22,
     "metadata": {},
     "output_type": "execute_result"
    }
   ],
   "source": [
    "len(local_indexed)"
   ]
  },
  {
   "cell_type": "code",
   "execution_count": 23,
   "metadata": {},
   "outputs": [],
   "source": [
    "from azure.cosmos import exceptions, CosmosClient, PartitionKey\n",
    "\n",
    "cosmo_endpoint=\"https://nf-poc-cdb-sql.documents.azure.com\"\n",
    "cosmo_key=\"iEcEfrxYe0Fm9QtoxDrOpLvGsfzjowwybULlWT9Uz4XxV4RmOIAnRuLdgRFUu1LPU5Vwk3UGivRrPrxnk7083w==\"\n",
    "client = CosmosClient(cosmo_endpoint, cosmo_key)\n",
    "database=client.get_database_client('policy-analysis')\n",
    "container=database.get_container_client('casualty-wordings')"
   ]
  },
  {
   "cell_type": "code",
   "execution_count": 24,
   "metadata": {},
   "outputs": [],
   "source": [
    "for key,value in local_indexed.items():\n",
    "    doc={}\n",
    "    doc['text']=key\n",
    "    doc['page']=int(value[1])\n",
    "    if value[4]==True or value[0].find('Exclusion')!=-1:\n",
    "        doc['IsExclusion']=True\n",
    "    else:\n",
    "        doc['IsExclusion']=False\n",
    "    doc['doc_name']=value[0].replace('.pdf','')\n",
    "    doc['id']=doc['doc_name']+' '+str(doc['page'])\n",
    "    doc['bold_phrases']=value[2]\n",
    "    doc['plain_text']=value[3]\n",
    "    doc['excl_count']=value[5]\n",
    "    doc['excl_pos']=value[6]\n",
    "    doc['folder']=value[7]\n",
    "    doc['definitions']=[{'name':key,'text':value} for key,value in re.findall('###(.*?)@@(.*?)%%%',doc['text'])]\n",
    "    doc['country']=value[9]\n",
    "    doc['language']=value[10]\n",
    "    doc['definition_text']=value[11]\n",
    "#     print(doc['definition_text'],'\\n\\n')\n",
    "    if doc['definition_text']:\n",
    "        doc['definition_flag']=True\n",
    "    else:\n",
    "        doc['definition_flag']=False\n",
    "    if value[14]==True or 'endorsement' in value[0].lower(): \n",
    "        doc['endorsements']=True\n",
    "    else:\n",
    "        doc['endorsements']=value[13]\n",
    "    doc['excl_text']=value[14]\n",
    "    doc['cond_text']=value[15]\n",
    "    doc['cond_flag']=value[16]\n",
    "    doc['cond_count']=value[17]\n",
    "    doc['cond_pos']=value[18]\n",
    "    doc['definitions_in_page']=value[19]\n",
    "    doc['ext_text']=value[20]\n",
    "    doc['ext_flag']=value[21]\n",
    "    doc['ext_count']=value[22]\n",
    "    doc['ext_pos']=value[23]\n",
    "    \n",
    "    try:       \n",
    "        container.create_item(body=doc)\n",
    "    except Exception as err:\n",
    "        print(err)\n",
    "        pass"
   ]
  },
  {
   "cell_type": "code",
   "execution_count": 25,
   "metadata": {},
   "outputs": [
    {
     "name": "stdout",
     "output_type": "stream",
     "text": [
      "added to cosmos\n"
     ]
    }
   ],
   "source": [
    "print('added to cosmos')"
   ]
  },
  {
   "cell_type": "code",
   "execution_count": null,
   "metadata": {},
   "outputs": [],
   "source": []
  }
 ],
 "metadata": {
  "kernelspec": {
   "display_name": "Python 3",
   "language": "python",
   "name": "python3"
  },
  "language_info": {
   "codemirror_mode": {
    "name": "ipython",
    "version": 3
   },
   "file_extension": ".py",
   "mimetype": "text/x-python",
   "name": "python",
   "nbconvert_exporter": "python",
   "pygments_lexer": "ipython3",
   "version": "3.6.9"
  }
 },
 "nbformat": 4,
 "nbformat_minor": 4
}
